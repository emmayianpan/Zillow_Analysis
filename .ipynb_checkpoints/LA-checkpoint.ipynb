{
 "cells": [
  {
   "cell_type": "code",
   "execution_count": 91,
   "metadata": {},
   "outputs": [],
   "source": [
    "import requests\n",
    "import pandas as pd\n",
    "import numpy as np\n",
    "import matplotlib.pyplot as plt\n",
    "import datetime as dt\n",
    "from sktime.forecasting.model_selection import temporal_train_test_split"
   ]
  },
  {
   "cell_type": "markdown",
   "metadata": {},
   "source": [
    "# For-Sale Inventory"
   ]
  },
  {
   "cell_type": "code",
   "execution_count": 92,
   "metadata": {},
   "outputs": [
    {
     "data": {
      "text/html": [
       "<div>\n",
       "<style scoped>\n",
       "    .dataframe tbody tr th:only-of-type {\n",
       "        vertical-align: middle;\n",
       "    }\n",
       "\n",
       "    .dataframe tbody tr th {\n",
       "        vertical-align: top;\n",
       "    }\n",
       "\n",
       "    .dataframe thead th {\n",
       "        text-align: right;\n",
       "    }\n",
       "</style>\n",
       "<table border=\"1\" class=\"dataframe\">\n",
       "  <thead>\n",
       "    <tr style=\"text-align: right;\">\n",
       "      <th></th>\n",
       "      <th>RegionID</th>\n",
       "      <th>SizeRank</th>\n",
       "      <th>RegionName</th>\n",
       "      <th>RegionType</th>\n",
       "      <th>StateName</th>\n",
       "      <th>10/28/2017</th>\n",
       "      <th>11/4/2017</th>\n",
       "      <th>11/11/2017</th>\n",
       "      <th>11/18/2017</th>\n",
       "      <th>11/25/2017</th>\n",
       "      <th>...</th>\n",
       "      <th>8/1/2020</th>\n",
       "      <th>8/8/2020</th>\n",
       "      <th>8/15/2020</th>\n",
       "      <th>8/22/2020</th>\n",
       "      <th>8/29/2020</th>\n",
       "      <th>9/5/2020</th>\n",
       "      <th>9/12/2020</th>\n",
       "      <th>9/19/2020</th>\n",
       "      <th>9/26/2020</th>\n",
       "      <th>10/3/2020</th>\n",
       "    </tr>\n",
       "  </thead>\n",
       "  <tbody>\n",
       "    <tr>\n",
       "      <th>0</th>\n",
       "      <td>102001</td>\n",
       "      <td>0</td>\n",
       "      <td>United States</td>\n",
       "      <td>Country</td>\n",
       "      <td>NaN</td>\n",
       "      <td>1313144.0</td>\n",
       "      <td>1306211.0</td>\n",
       "      <td>1295559.0</td>\n",
       "      <td>1282592.0</td>\n",
       "      <td>1264313.0</td>\n",
       "      <td>...</td>\n",
       "      <td>964279</td>\n",
       "      <td>953389</td>\n",
       "      <td>941273</td>\n",
       "      <td>930423</td>\n",
       "      <td>920394</td>\n",
       "      <td>915373</td>\n",
       "      <td>906542</td>\n",
       "      <td>900360</td>\n",
       "      <td>893541</td>\n",
       "      <td>882454</td>\n",
       "    </tr>\n",
       "    <tr>\n",
       "      <th>1</th>\n",
       "      <td>394913</td>\n",
       "      <td>1</td>\n",
       "      <td>New York, NY</td>\n",
       "      <td>Msa</td>\n",
       "      <td>NY</td>\n",
       "      <td>67063.0</td>\n",
       "      <td>66557.0</td>\n",
       "      <td>65763.0</td>\n",
       "      <td>64791.0</td>\n",
       "      <td>63528.0</td>\n",
       "      <td>...</td>\n",
       "      <td>60547</td>\n",
       "      <td>60457</td>\n",
       "      <td>60445</td>\n",
       "      <td>60285</td>\n",
       "      <td>60329</td>\n",
       "      <td>60543</td>\n",
       "      <td>60632</td>\n",
       "      <td>60813</td>\n",
       "      <td>60902</td>\n",
       "      <td>61010</td>\n",
       "    </tr>\n",
       "    <tr>\n",
       "      <th>2</th>\n",
       "      <td>753899</td>\n",
       "      <td>2</td>\n",
       "      <td>Los Angeles-Long Beach-Anaheim, CA</td>\n",
       "      <td>Msa</td>\n",
       "      <td>CA</td>\n",
       "      <td>17787.0</td>\n",
       "      <td>17522.0</td>\n",
       "      <td>17177.0</td>\n",
       "      <td>16809.0</td>\n",
       "      <td>16334.0</td>\n",
       "      <td>...</td>\n",
       "      <td>17224</td>\n",
       "      <td>17225</td>\n",
       "      <td>17197</td>\n",
       "      <td>17140</td>\n",
       "      <td>17079</td>\n",
       "      <td>17120</td>\n",
       "      <td>17105</td>\n",
       "      <td>17159</td>\n",
       "      <td>17231</td>\n",
       "      <td>17263</td>\n",
       "    </tr>\n",
       "    <tr>\n",
       "      <th>3</th>\n",
       "      <td>394463</td>\n",
       "      <td>3</td>\n",
       "      <td>Chicago, IL</td>\n",
       "      <td>Msa</td>\n",
       "      <td>IL</td>\n",
       "      <td>38027.0</td>\n",
       "      <td>37590.0</td>\n",
       "      <td>36926.0</td>\n",
       "      <td>36131.0</td>\n",
       "      <td>35079.0</td>\n",
       "      <td>...</td>\n",
       "      <td>31418</td>\n",
       "      <td>31315</td>\n",
       "      <td>31087</td>\n",
       "      <td>31004</td>\n",
       "      <td>30933</td>\n",
       "      <td>30905</td>\n",
       "      <td>30862</td>\n",
       "      <td>30845</td>\n",
       "      <td>30871</td>\n",
       "      <td>30759</td>\n",
       "    </tr>\n",
       "    <tr>\n",
       "      <th>4</th>\n",
       "      <td>394514</td>\n",
       "      <td>4</td>\n",
       "      <td>Dallas-Fort Worth, TX</td>\n",
       "      <td>Msa</td>\n",
       "      <td>TX</td>\n",
       "      <td>21912.0</td>\n",
       "      <td>21836.0</td>\n",
       "      <td>21550.0</td>\n",
       "      <td>21306.0</td>\n",
       "      <td>20883.0</td>\n",
       "      <td>...</td>\n",
       "      <td>23510</td>\n",
       "      <td>23106</td>\n",
       "      <td>22714</td>\n",
       "      <td>22296</td>\n",
       "      <td>21915</td>\n",
       "      <td>21631</td>\n",
       "      <td>21214</td>\n",
       "      <td>20849</td>\n",
       "      <td>20461</td>\n",
       "      <td>20023</td>\n",
       "    </tr>\n",
       "  </tbody>\n",
       "</table>\n",
       "<p>5 rows × 159 columns</p>\n",
       "</div>"
      ],
      "text/plain": [
       "   RegionID  SizeRank                          RegionName RegionType  \\\n",
       "0    102001         0                       United States    Country   \n",
       "1    394913         1                        New York, NY        Msa   \n",
       "2    753899         2  Los Angeles-Long Beach-Anaheim, CA        Msa   \n",
       "3    394463         3                         Chicago, IL        Msa   \n",
       "4    394514         4               Dallas-Fort Worth, TX        Msa   \n",
       "\n",
       "  StateName  10/28/2017  11/4/2017  11/11/2017  11/18/2017  11/25/2017  ...  \\\n",
       "0       NaN   1313144.0  1306211.0   1295559.0   1282592.0   1264313.0  ...   \n",
       "1        NY     67063.0    66557.0     65763.0     64791.0     63528.0  ...   \n",
       "2        CA     17787.0    17522.0     17177.0     16809.0     16334.0  ...   \n",
       "3        IL     38027.0    37590.0     36926.0     36131.0     35079.0  ...   \n",
       "4        TX     21912.0    21836.0     21550.0     21306.0     20883.0  ...   \n",
       "\n",
       "   8/1/2020  8/8/2020  8/15/2020  8/22/2020  8/29/2020  9/5/2020  9/12/2020  \\\n",
       "0    964279    953389     941273     930423     920394    915373     906542   \n",
       "1     60547     60457      60445      60285      60329     60543      60632   \n",
       "2     17224     17225      17197      17140      17079     17120      17105   \n",
       "3     31418     31315      31087      31004      30933     30905      30862   \n",
       "4     23510     23106      22714      22296      21915     21631      21214   \n",
       "\n",
       "   9/19/2020  9/26/2020  10/3/2020  \n",
       "0     900360     893541     882454  \n",
       "1      60813      60902      61010  \n",
       "2      17159      17231      17263  \n",
       "3      30845      30871      30759  \n",
       "4      20849      20461      20023  \n",
       "\n",
       "[5 rows x 159 columns]"
      ]
     },
     "execution_count": 92,
     "metadata": {},
     "output_type": "execute_result"
    }
   ],
   "source": [
    "#read csv file and transform into Data Frame \n",
    "path = \"Raw Data/for_sale_inventory_all_home.csv\"\n",
    "data = pd.read_csv(path)\n",
    "data = pd.DataFrame(data)\n",
    "data.head()"
   ]
  },
  {
   "cell_type": "markdown",
   "metadata": {},
   "source": [
    "# Los Angeles-Long Beach-Anaheim, CA - Clean Data"
   ]
  },
  {
   "cell_type": "code",
   "execution_count": 93,
   "metadata": {},
   "outputs": [],
   "source": [
    "inventory = data[data['RegionName'].isin(['Los Angeles-Long Beach-Anaheim, CA'])]\n",
    "inventory = inventory.drop(columns=['RegionID', 'SizeRank','RegionName','RegionType','StateName'])"
   ]
  },
  {
   "cell_type": "code",
   "execution_count": 94,
   "metadata": {},
   "outputs": [
    {
     "data": {
      "text/html": [
       "<div>\n",
       "<style scoped>\n",
       "    .dataframe tbody tr th:only-of-type {\n",
       "        vertical-align: middle;\n",
       "    }\n",
       "\n",
       "    .dataframe tbody tr th {\n",
       "        vertical-align: top;\n",
       "    }\n",
       "\n",
       "    .dataframe thead th {\n",
       "        text-align: right;\n",
       "    }\n",
       "</style>\n",
       "<table border=\"1\" class=\"dataframe\">\n",
       "  <thead>\n",
       "    <tr style=\"text-align: right;\">\n",
       "      <th></th>\n",
       "      <th>2</th>\n",
       "    </tr>\n",
       "  </thead>\n",
       "  <tbody>\n",
       "    <tr>\n",
       "      <th>10/28/2017</th>\n",
       "      <td>17787.0</td>\n",
       "    </tr>\n",
       "    <tr>\n",
       "      <th>11/4/2017</th>\n",
       "      <td>17522.0</td>\n",
       "    </tr>\n",
       "    <tr>\n",
       "      <th>11/11/2017</th>\n",
       "      <td>17177.0</td>\n",
       "    </tr>\n",
       "    <tr>\n",
       "      <th>11/18/2017</th>\n",
       "      <td>16809.0</td>\n",
       "    </tr>\n",
       "    <tr>\n",
       "      <th>11/25/2017</th>\n",
       "      <td>16334.0</td>\n",
       "    </tr>\n",
       "  </tbody>\n",
       "</table>\n",
       "</div>"
      ],
      "text/plain": [
       "                  2\n",
       "10/28/2017  17787.0\n",
       "11/4/2017   17522.0\n",
       "11/11/2017  17177.0\n",
       "11/18/2017  16809.0\n",
       "11/25/2017  16334.0"
      ]
     },
     "execution_count": 94,
     "metadata": {},
     "output_type": "execute_result"
    }
   ],
   "source": [
    "inventory = inventory.transpose()\n",
    "inventory.head()"
   ]
  },
  {
   "cell_type": "code",
   "execution_count": 95,
   "metadata": {},
   "outputs": [],
   "source": [
    "inventory = inventory.reset_index()"
   ]
  },
  {
   "cell_type": "code",
   "execution_count": 96,
   "metadata": {},
   "outputs": [],
   "source": [
    "inventory = inventory[['index',2]].copy()\n",
    "inventory.columns =['date','inventory']"
   ]
  },
  {
   "cell_type": "code",
   "execution_count": 97,
   "metadata": {
    "scrolled": true
   },
   "outputs": [
    {
     "data": {
      "text/html": [
       "<div>\n",
       "<style scoped>\n",
       "    .dataframe tbody tr th:only-of-type {\n",
       "        vertical-align: middle;\n",
       "    }\n",
       "\n",
       "    .dataframe tbody tr th {\n",
       "        vertical-align: top;\n",
       "    }\n",
       "\n",
       "    .dataframe thead th {\n",
       "        text-align: right;\n",
       "    }\n",
       "</style>\n",
       "<table border=\"1\" class=\"dataframe\">\n",
       "  <thead>\n",
       "    <tr style=\"text-align: right;\">\n",
       "      <th></th>\n",
       "      <th>date</th>\n",
       "      <th>inventory</th>\n",
       "    </tr>\n",
       "  </thead>\n",
       "  <tbody>\n",
       "    <tr>\n",
       "      <th>0</th>\n",
       "      <td>10/28/2017</td>\n",
       "      <td>17787.0</td>\n",
       "    </tr>\n",
       "    <tr>\n",
       "      <th>1</th>\n",
       "      <td>11/4/2017</td>\n",
       "      <td>17522.0</td>\n",
       "    </tr>\n",
       "    <tr>\n",
       "      <th>2</th>\n",
       "      <td>11/11/2017</td>\n",
       "      <td>17177.0</td>\n",
       "    </tr>\n",
       "    <tr>\n",
       "      <th>3</th>\n",
       "      <td>11/18/2017</td>\n",
       "      <td>16809.0</td>\n",
       "    </tr>\n",
       "    <tr>\n",
       "      <th>4</th>\n",
       "      <td>11/25/2017</td>\n",
       "      <td>16334.0</td>\n",
       "    </tr>\n",
       "  </tbody>\n",
       "</table>\n",
       "</div>"
      ],
      "text/plain": [
       "         date  inventory\n",
       "0  10/28/2017    17787.0\n",
       "1   11/4/2017    17522.0\n",
       "2  11/11/2017    17177.0\n",
       "3  11/18/2017    16809.0\n",
       "4  11/25/2017    16334.0"
      ]
     },
     "execution_count": 97,
     "metadata": {},
     "output_type": "execute_result"
    }
   ],
   "source": [
    "inventory.head()"
   ]
  },
  {
   "cell_type": "code",
   "execution_count": 98,
   "metadata": {},
   "outputs": [
    {
     "data": {
      "text/html": [
       "<div>\n",
       "<style scoped>\n",
       "    .dataframe tbody tr th:only-of-type {\n",
       "        vertical-align: middle;\n",
       "    }\n",
       "\n",
       "    .dataframe tbody tr th {\n",
       "        vertical-align: top;\n",
       "    }\n",
       "\n",
       "    .dataframe thead th {\n",
       "        text-align: right;\n",
       "    }\n",
       "</style>\n",
       "<table border=\"1\" class=\"dataframe\">\n",
       "  <thead>\n",
       "    <tr style=\"text-align: right;\">\n",
       "      <th></th>\n",
       "      <th>inventory</th>\n",
       "    </tr>\n",
       "    <tr>\n",
       "      <th>date</th>\n",
       "      <th></th>\n",
       "    </tr>\n",
       "  </thead>\n",
       "  <tbody>\n",
       "    <tr>\n",
       "      <th>2017-10-28</th>\n",
       "      <td>17787.0</td>\n",
       "    </tr>\n",
       "    <tr>\n",
       "      <th>2017-11-04</th>\n",
       "      <td>17522.0</td>\n",
       "    </tr>\n",
       "    <tr>\n",
       "      <th>2017-11-11</th>\n",
       "      <td>17177.0</td>\n",
       "    </tr>\n",
       "    <tr>\n",
       "      <th>2017-11-18</th>\n",
       "      <td>16809.0</td>\n",
       "    </tr>\n",
       "    <tr>\n",
       "      <th>2017-11-25</th>\n",
       "      <td>16334.0</td>\n",
       "    </tr>\n",
       "  </tbody>\n",
       "</table>\n",
       "</div>"
      ],
      "text/plain": [
       "            inventory\n",
       "date                 \n",
       "2017-10-28    17787.0\n",
       "2017-11-04    17522.0\n",
       "2017-11-11    17177.0\n",
       "2017-11-18    16809.0\n",
       "2017-11-25    16334.0"
      ]
     },
     "execution_count": 98,
     "metadata": {},
     "output_type": "execute_result"
    }
   ],
   "source": [
    "inventory['date'] = inventory.date.astype('datetime64')\n",
    "inventory = inventory.set_index('date')\n",
    "inventory.head()"
   ]
  },
  {
   "cell_type": "markdown",
   "metadata": {},
   "source": [
    "# Split Train/Test Data "
   ]
  },
  {
   "cell_type": "code",
   "execution_count": 99,
   "metadata": {},
   "outputs": [
    {
     "name": "stdout",
     "output_type": "stream",
     "text": [
      "115 39\n",
      "            inventory\n",
      "date                 \n",
      "2017-10-28    17787.0\n",
      "2017-11-04    17522.0\n",
      "2017-11-11    17177.0\n",
      "2017-11-18    16809.0\n",
      "2017-11-25    16334.0\n",
      "            inventory\n",
      "date                 \n",
      "2020-01-11    14435.0\n",
      "2020-01-18    14065.0\n",
      "2020-01-25    14251.0\n",
      "2020-02-01    14544.0\n",
      "2020-02-08    14764.0\n",
      "            inventory\n",
      "date                 \n",
      "2017-10-28    17787.0\n",
      "2017-11-04    17522.0\n",
      "2017-11-11    17177.0\n",
      "2017-11-18    16809.0\n",
      "2017-11-25    16334.0\n"
     ]
    }
   ],
   "source": [
    "train, test = temporal_train_test_split(inventory)\n",
    "print(train.shape[0], test.shape[0])\n",
    "print(train.head())\n",
    "print(test.head())\n",
    "combine = pd.concat([train,test])\n",
    "print(combine.head())"
   ]
  },
  {
   "cell_type": "code",
   "execution_count": 100,
   "metadata": {},
   "outputs": [
    {
     "data": {
      "text/plain": [
       "<matplotlib.axes._subplots.AxesSubplot at 0x25ae1458e48>"
      ]
     },
     "execution_count": 100,
     "metadata": {},
     "output_type": "execute_result"
    },
    {
     "data": {
      "image/png": "[encoded data removed]",
      "text/plain": [
       "<Figure size 720x360 with 1 Axes>"
      ]
     },
     "metadata": {
      "needs_background": "light"
     },
     "output_type": "display_data"
    }
   ],
   "source": [
    "train.inventory.plot(figsize=(10,5), fontsize=11)\n",
    "test.inventory.plot(figsize=(10,5), fontsize=11)"
   ]
  },
  {
   "cell_type": "markdown",
   "metadata": {},
   "source": [
    "# Import Machine Learning Models"
   ]
  },
  {
   "cell_type": "code",
   "execution_count": 101,
   "metadata": {},
   "outputs": [],
   "source": [
    "import statsmodels.api as sm\n",
    "from statsmodels.tsa.api import ExponentialSmoothing, SimpleExpSmoothing, Holt\n",
    "from statsmodels.tsa.arima_model import ARIMA"
   ]
  },
  {
   "cell_type": "markdown",
   "metadata": {},
   "source": [
    "# ARIMA"
   ]
  },
  {
   "cell_type": "code",
   "execution_count": 102,
   "metadata": {},
   "outputs": [
    {
     "name": "stderr",
     "output_type": "stream",
     "text": [
      "C:\\Users\\emmayianpan\\AppData\\Roaming\\Python\\Python37\\site-packages\\statsmodels\\tsa\\base\\tsa_model.py:162: ValueWarning: No frequency information was provided, so inferred frequency W-SAT will be used.\n",
      "  % freq, ValueWarning)\n",
      "C:\\Users\\emmayianpan\\AppData\\Roaming\\Python\\Python37\\site-packages\\statsmodels\\tsa\\base\\tsa_model.py:162: ValueWarning: No frequency information was provided, so inferred frequency W-SAT will be used.\n",
      "  % freq, ValueWarning)\n",
      "C:\\ProgramData\\Anaconda3\\lib\\site-packages\\ipykernel_launcher.py:4: SettingWithCopyWarning: \n",
      "A value is trying to be set on a copy of a slice from a DataFrame.\n",
      "Try using .loc[row_indexer,col_indexer] = value instead\n",
      "\n",
      "See the caveats in the documentation: https://pandas.pydata.org/pandas-docs/stable/user_guide/indexing.html#returning-a-view-versus-a-copy\n",
      "  after removing the cwd from sys.path.\n"
     ]
    },
    {
     "data": {
      "text/html": [
       "<div>\n",
       "<style scoped>\n",
       "    .dataframe tbody tr th:only-of-type {\n",
       "        vertical-align: middle;\n",
       "    }\n",
       "\n",
       "    .dataframe tbody tr th {\n",
       "        vertical-align: top;\n",
       "    }\n",
       "\n",
       "    .dataframe thead th {\n",
       "        text-align: right;\n",
       "    }\n",
       "</style>\n",
       "<table border=\"1\" class=\"dataframe\">\n",
       "  <thead>\n",
       "    <tr style=\"text-align: right;\">\n",
       "      <th></th>\n",
       "      <th>inventory</th>\n",
       "      <th>arima</th>\n",
       "    </tr>\n",
       "    <tr>\n",
       "      <th>date</th>\n",
       "      <th></th>\n",
       "      <th></th>\n",
       "    </tr>\n",
       "  </thead>\n",
       "  <tbody>\n",
       "    <tr>\n",
       "      <th>2020-09-05</th>\n",
       "      <td>17120.0</td>\n",
       "      <td>13732.638533</td>\n",
       "    </tr>\n",
       "    <tr>\n",
       "      <th>2020-09-12</th>\n",
       "      <td>17105.0</td>\n",
       "      <td>13704.501679</td>\n",
       "    </tr>\n",
       "    <tr>\n",
       "      <th>2020-09-19</th>\n",
       "      <td>17159.0</td>\n",
       "      <td>13676.364825</td>\n",
       "    </tr>\n",
       "    <tr>\n",
       "      <th>2020-09-26</th>\n",
       "      <td>17231.0</td>\n",
       "      <td>13648.227971</td>\n",
       "    </tr>\n",
       "    <tr>\n",
       "      <th>2020-10-03</th>\n",
       "      <td>17263.0</td>\n",
       "      <td>13620.091116</td>\n",
       "    </tr>\n",
       "  </tbody>\n",
       "</table>\n",
       "</div>"
      ],
      "text/plain": [
       "            inventory         arima\n",
       "date                               \n",
       "2020-09-05    17120.0  13732.638533\n",
       "2020-09-12    17105.0  13704.501679\n",
       "2020-09-19    17159.0  13676.364825\n",
       "2020-09-26    17231.0  13648.227971\n",
       "2020-10-03    17263.0  13620.091116"
      ]
     },
     "execution_count": 102,
     "metadata": {},
     "output_type": "execute_result"
    }
   ],
   "source": [
    "#https://machinelearningmastery.com/arima-for-time-series-forecasting-with-python/\n",
    "arima = ARIMA(train.inventory, order=(0, 1, 1)).fit()\n",
    "fcst_arima = pd.DataFrame(arima.forecast(39)[0], index=test.index)\n",
    "test['arima'] = fcst_arima\n",
    "test.tail()"
   ]
  },
  {
   "cell_type": "code",
   "execution_count": 103,
   "metadata": {},
   "outputs": [
    {
     "data": {
      "image/png": "[encoded data removed]",
      "text/plain": [
       "<Figure size 720x360 with 1 Axes>"
      ]
     },
     "metadata": {
      "needs_background": "light"
     },
     "output_type": "display_data"
    }
   ],
   "source": [
    "#ARIMA chart\n",
    "plt.figure(figsize=(10,5))\n",
    "plt.plot(train['inventory'], label='Train')\n",
    "plt.plot(test['inventory'], label='Test')\n",
    "plt.plot(test['arima'], label='ARIMA', color='green')\n",
    "\n",
    "lower_series = test['inventory']\n",
    "upper_series = test['arima']\n",
    "\n",
    "plt.fill_between(lower_series.index, lower_series, upper_series, \n",
    "                 color='k', alpha=.15)\n",
    "\n",
    "plt.xlabel('Month')\n",
    "plt.ylabel('Inventory')\n",
    "plt.legend(loc='best')\n",
    "plt.show()"
   ]
  },
  {
   "cell_type": "code",
   "execution_count": 104,
   "metadata": {},
   "outputs": [
    {
     "name": "stdout",
     "output_type": "stream",
     "text": [
      "RMSE = 2372.2444763966746\n"
     ]
    }
   ],
   "source": [
    "RMSE_arima = sm.tools.eval_measures.rmse(test.inventory,test['arima'])\n",
    "print('RMSE', '=', RMSE_arima)"
   ]
  },
  {
   "cell_type": "markdown",
   "metadata": {},
   "source": [
    "# Moving Average"
   ]
  },
  {
   "cell_type": "code",
   "execution_count": 105,
   "metadata": {},
   "outputs": [
    {
     "name": "stderr",
     "output_type": "stream",
     "text": [
      "C:\\ProgramData\\Anaconda3\\lib\\site-packages\\ipykernel_launcher.py:3: SettingWithCopyWarning: \n",
      "A value is trying to be set on a copy of a slice from a DataFrame.\n",
      "Try using .loc[row_indexer,col_indexer] = value instead\n",
      "\n",
      "See the caveats in the documentation: https://pandas.pydata.org/pandas-docs/stable/user_guide/indexing.html#returning-a-view-versus-a-copy\n",
      "  This is separate from the ipykernel package so we can avoid doing imports until\n"
     ]
    },
    {
     "data": {
      "text/html": [
       "<div>\n",
       "<style scoped>\n",
       "    .dataframe tbody tr th:only-of-type {\n",
       "        vertical-align: middle;\n",
       "    }\n",
       "\n",
       "    .dataframe tbody tr th {\n",
       "        vertical-align: top;\n",
       "    }\n",
       "\n",
       "    .dataframe thead th {\n",
       "        text-align: right;\n",
       "    }\n",
       "</style>\n",
       "<table border=\"1\" class=\"dataframe\">\n",
       "  <thead>\n",
       "    <tr style=\"text-align: right;\">\n",
       "      <th></th>\n",
       "      <th>inventory</th>\n",
       "      <th>arima</th>\n",
       "      <th>ma</th>\n",
       "    </tr>\n",
       "    <tr>\n",
       "      <th>date</th>\n",
       "      <th></th>\n",
       "      <th></th>\n",
       "      <th></th>\n",
       "    </tr>\n",
       "  </thead>\n",
       "  <tbody>\n",
       "    <tr>\n",
       "      <th>2020-01-11</th>\n",
       "      <td>14435.0</td>\n",
       "      <td>14689.291575</td>\n",
       "      <td>15521.0</td>\n",
       "    </tr>\n",
       "    <tr>\n",
       "      <th>2020-01-18</th>\n",
       "      <td>14065.0</td>\n",
       "      <td>14661.154721</td>\n",
       "      <td>14737.0</td>\n",
       "    </tr>\n",
       "    <tr>\n",
       "      <th>2020-01-25</th>\n",
       "      <td>14251.0</td>\n",
       "      <td>14633.017866</td>\n",
       "      <td>14250.0</td>\n",
       "    </tr>\n",
       "    <tr>\n",
       "      <th>2020-02-01</th>\n",
       "      <td>14544.0</td>\n",
       "      <td>14604.881012</td>\n",
       "      <td>14158.0</td>\n",
       "    </tr>\n",
       "    <tr>\n",
       "      <th>2020-02-08</th>\n",
       "      <td>14764.0</td>\n",
       "      <td>14576.744158</td>\n",
       "      <td>14397.5</td>\n",
       "    </tr>\n",
       "  </tbody>\n",
       "</table>\n",
       "</div>"
      ],
      "text/plain": [
       "            inventory         arima       ma\n",
       "date                                        \n",
       "2020-01-11    14435.0  14689.291575  15521.0\n",
       "2020-01-18    14065.0  14661.154721  14737.0\n",
       "2020-01-25    14251.0  14633.017866  14250.0\n",
       "2020-02-01    14544.0  14604.881012  14158.0\n",
       "2020-02-08    14764.0  14576.744158  14397.5"
      ]
     },
     "execution_count": 105,
     "metadata": {},
     "output_type": "execute_result"
    }
   ],
   "source": [
    "ma = inventory['inventory'].rolling(2).mean().shift()\n",
    "fcst_ma = ma.loc[test.index]\n",
    "test['ma'] = fcst_ma\n",
    "test.head()"
   ]
  },
  {
   "cell_type": "code",
   "execution_count": 106,
   "metadata": {},
   "outputs": [
    {
     "data": {
      "image/png": "[encoded data removed]",
      "text/plain": [
       "<Figure size 720x360 with 1 Axes>"
      ]
     },
     "metadata": {
      "needs_background": "light"
     },
     "output_type": "display_data"
    }
   ],
   "source": [
    "#Moving Average chart\n",
    "plt.figure(figsize=(10,5))\n",
    "plt.plot(train['inventory'], label='Train')\n",
    "plt.plot(test['inventory'], label='Test')\n",
    "plt.plot(test['ma'], label='Moving Average', color='green')\n",
    "\n",
    "lower_series = test['inventory']\n",
    "upper_series = test['ma']\n",
    "\n",
    "plt.fill_between(lower_series.index, lower_series, upper_series, \n",
    "                 color='k', alpha=.15)\n",
    "\n",
    "plt.xlabel('Month')\n",
    "plt.ylabel('Inventory')\n",
    "plt.legend(loc='best')\n",
    "plt.show()"
   ]
  },
  {
   "cell_type": "code",
   "execution_count": 107,
   "metadata": {},
   "outputs": [
    {
     "name": "stdout",
     "output_type": "stream",
     "text": [
      "RMSE = 353.1739964873855\n"
     ]
    }
   ],
   "source": [
    "RMSE_ma = sm.tools.eval_measures.rmse(test.inventory,test['ma'])\n",
    "print('RMSE', '=', RMSE_ma)"
   ]
  },
  {
   "cell_type": "markdown",
   "metadata": {},
   "source": [
    "# Naive"
   ]
  },
  {
   "cell_type": "code",
   "execution_count": 108,
   "metadata": {},
   "outputs": [
    {
     "name": "stderr",
     "output_type": "stream",
     "text": [
      "C:\\Users\\emmayianpan\\AppData\\Roaming\\Python\\Python37\\site-packages\\statsmodels\\tsa\\base\\tsa_model.py:162: ValueWarning: No frequency information was provided, so inferred frequency W-SAT will be used.\n",
      "  % freq, ValueWarning)\n",
      "C:\\Users\\emmayianpan\\AppData\\Roaming\\Python\\Python37\\site-packages\\statsmodels\\tsa\\base\\tsa_model.py:162: ValueWarning: No frequency information was provided, so inferred frequency W-SAT will be used.\n",
      "  % freq, ValueWarning)\n",
      "C:\\ProgramData\\Anaconda3\\lib\\site-packages\\ipykernel_launcher.py:4: SettingWithCopyWarning: \n",
      "A value is trying to be set on a copy of a slice from a DataFrame.\n",
      "Try using .loc[row_indexer,col_indexer] = value instead\n",
      "\n",
      "See the caveats in the documentation: https://pandas.pydata.org/pandas-docs/stable/user_guide/indexing.html#returning-a-view-versus-a-copy\n",
      "  after removing the cwd from sys.path.\n"
     ]
    },
    {
     "data": {
      "text/html": [
       "<div>\n",
       "<style scoped>\n",
       "    .dataframe tbody tr th:only-of-type {\n",
       "        vertical-align: middle;\n",
       "    }\n",
       "\n",
       "    .dataframe tbody tr th {\n",
       "        vertical-align: top;\n",
       "    }\n",
       "\n",
       "    .dataframe thead th {\n",
       "        text-align: right;\n",
       "    }\n",
       "</style>\n",
       "<table border=\"1\" class=\"dataframe\">\n",
       "  <thead>\n",
       "    <tr style=\"text-align: right;\">\n",
       "      <th></th>\n",
       "      <th>inventory</th>\n",
       "      <th>arima</th>\n",
       "      <th>ma</th>\n",
       "      <th>naive</th>\n",
       "    </tr>\n",
       "    <tr>\n",
       "      <th>date</th>\n",
       "      <th></th>\n",
       "      <th></th>\n",
       "      <th></th>\n",
       "      <th></th>\n",
       "    </tr>\n",
       "  </thead>\n",
       "  <tbody>\n",
       "    <tr>\n",
       "      <th>2020-09-05</th>\n",
       "      <td>17120.0</td>\n",
       "      <td>13732.638533</td>\n",
       "      <td>17109.5</td>\n",
       "      <td>17079.0</td>\n",
       "    </tr>\n",
       "    <tr>\n",
       "      <th>2020-09-12</th>\n",
       "      <td>17105.0</td>\n",
       "      <td>13704.501679</td>\n",
       "      <td>17099.5</td>\n",
       "      <td>17120.0</td>\n",
       "    </tr>\n",
       "    <tr>\n",
       "      <th>2020-09-19</th>\n",
       "      <td>17159.0</td>\n",
       "      <td>13676.364825</td>\n",
       "      <td>17112.5</td>\n",
       "      <td>17105.0</td>\n",
       "    </tr>\n",
       "    <tr>\n",
       "      <th>2020-09-26</th>\n",
       "      <td>17231.0</td>\n",
       "      <td>13648.227971</td>\n",
       "      <td>17132.0</td>\n",
       "      <td>17159.0</td>\n",
       "    </tr>\n",
       "    <tr>\n",
       "      <th>2020-10-03</th>\n",
       "      <td>17263.0</td>\n",
       "      <td>13620.091116</td>\n",
       "      <td>17195.0</td>\n",
       "      <td>17231.0</td>\n",
       "    </tr>\n",
       "  </tbody>\n",
       "</table>\n",
       "</div>"
      ],
      "text/plain": [
       "            inventory         arima       ma    naive\n",
       "date                                                 \n",
       "2020-09-05    17120.0  13732.638533  17109.5  17079.0\n",
       "2020-09-12    17105.0  13704.501679  17099.5  17120.0\n",
       "2020-09-19    17159.0  13676.364825  17112.5  17105.0\n",
       "2020-09-26    17231.0  13648.227971  17132.0  17159.0\n",
       "2020-10-03    17263.0  13620.091116  17195.0  17231.0"
      ]
     },
     "execution_count": 108,
     "metadata": {},
     "output_type": "execute_result"
    }
   ],
   "source": [
    "#Naive (using SES with alpha=1)\n",
    "naive = SimpleExpSmoothing(train.inventory).fit(smoothing_level=1, optimized=False)\n",
    "fcst_naive = SimpleExpSmoothing(combine.inventory).fit(smoothing_level=1, optimized=False)\n",
    "test['naive'] = fcst_naive.fittedvalues.loc[test.index]\n",
    "test.tail()"
   ]
  },
  {
   "cell_type": "code",
   "execution_count": 109,
   "metadata": {},
   "outputs": [
    {
     "data": {
      "image/png": "[encoded data removed]",
      "text/plain": [
       "<Figure size 720x360 with 1 Axes>"
      ]
     },
     "metadata": {
      "needs_background": "light"
     },
     "output_type": "display_data"
    }
   ],
   "source": [
    "#Naive chart\n",
    "plt.figure(figsize=(10,5))\n",
    "plt.plot(train['inventory'], label='Train')\n",
    "plt.plot(test['inventory'], label='Test')\n",
    "plt.plot(test['naive'], label='Naive', color='green')\n",
    "\n",
    "lower_series = test['inventory']\n",
    "upper_series = test['naive']\n",
    "\n",
    "plt.fill_between(lower_series.index, lower_series, upper_series, \n",
    "                 color='k', alpha=.15)\n",
    "\n",
    "plt.ylabel('Inventory')\n",
    "plt.xlabel('Month')\n",
    "plt.legend(loc='best')\n",
    "plt.show()"
   ]
  },
  {
   "cell_type": "code",
   "execution_count": 110,
   "metadata": {
    "scrolled": true
   },
   "outputs": [
    {
     "name": "stdout",
     "output_type": "stream",
     "text": [
      "RMSE = 228.7282566379051\n"
     ]
    }
   ],
   "source": [
    "RMSE_naive = sm.tools.eval_measures.rmse(test.inventory,test['naive'])\n",
    "print('RMSE', '=', RMSE_naive)"
   ]
  },
  {
   "cell_type": "markdown",
   "metadata": {},
   "source": [
    "# Simple Exponenital Smoothing "
   ]
  },
  {
   "cell_type": "code",
   "execution_count": 111,
   "metadata": {
    "scrolled": true
   },
   "outputs": [
    {
     "name": "stderr",
     "output_type": "stream",
     "text": [
      "C:\\Users\\emmayianpan\\AppData\\Roaming\\Python\\Python37\\site-packages\\statsmodels\\tsa\\base\\tsa_model.py:162: ValueWarning: No frequency information was provided, so inferred frequency W-SAT will be used.\n",
      "  % freq, ValueWarning)\n",
      "C:\\Users\\emmayianpan\\AppData\\Roaming\\Python\\Python37\\site-packages\\statsmodels\\tsa\\holtwinters.py:731: RuntimeWarning: invalid value encountered in greater_equal\n",
      "  loc = initial_p >= ub\n",
      "C:\\Users\\emmayianpan\\AppData\\Roaming\\Python\\Python37\\site-packages\\statsmodels\\tsa\\base\\tsa_model.py:162: ValueWarning: No frequency information was provided, so inferred frequency W-SAT will be used.\n",
      "  % freq, ValueWarning)\n",
      "C:\\ProgramData\\Anaconda3\\lib\\site-packages\\ipykernel_launcher.py:4: SettingWithCopyWarning: \n",
      "A value is trying to be set on a copy of a slice from a DataFrame.\n",
      "Try using .loc[row_indexer,col_indexer] = value instead\n",
      "\n",
      "See the caveats in the documentation: https://pandas.pydata.org/pandas-docs/stable/user_guide/indexing.html#returning-a-view-versus-a-copy\n",
      "  after removing the cwd from sys.path.\n"
     ]
    },
    {
     "data": {
      "text/html": [
       "<div>\n",
       "<style scoped>\n",
       "    .dataframe tbody tr th:only-of-type {\n",
       "        vertical-align: middle;\n",
       "    }\n",
       "\n",
       "    .dataframe tbody tr th {\n",
       "        vertical-align: top;\n",
       "    }\n",
       "\n",
       "    .dataframe thead th {\n",
       "        text-align: right;\n",
       "    }\n",
       "</style>\n",
       "<table border=\"1\" class=\"dataframe\">\n",
       "  <thead>\n",
       "    <tr style=\"text-align: right;\">\n",
       "      <th></th>\n",
       "      <th>inventory</th>\n",
       "      <th>arima</th>\n",
       "      <th>ma</th>\n",
       "      <th>naive</th>\n",
       "      <th>ses</th>\n",
       "    </tr>\n",
       "    <tr>\n",
       "      <th>date</th>\n",
       "      <th></th>\n",
       "      <th></th>\n",
       "      <th></th>\n",
       "      <th></th>\n",
       "      <th></th>\n",
       "    </tr>\n",
       "  </thead>\n",
       "  <tbody>\n",
       "    <tr>\n",
       "      <th>2020-01-11</th>\n",
       "      <td>14435.0</td>\n",
       "      <td>14689.291575</td>\n",
       "      <td>15521.0</td>\n",
       "      <td>15039.0</td>\n",
       "      <td>14435.0</td>\n",
       "    </tr>\n",
       "    <tr>\n",
       "      <th>2020-01-18</th>\n",
       "      <td>14065.0</td>\n",
       "      <td>14661.154721</td>\n",
       "      <td>14737.0</td>\n",
       "      <td>14435.0</td>\n",
       "      <td>14435.0</td>\n",
       "    </tr>\n",
       "    <tr>\n",
       "      <th>2020-01-25</th>\n",
       "      <td>14251.0</td>\n",
       "      <td>14633.017866</td>\n",
       "      <td>14250.0</td>\n",
       "      <td>14065.0</td>\n",
       "      <td>14065.0</td>\n",
       "    </tr>\n",
       "    <tr>\n",
       "      <th>2020-02-01</th>\n",
       "      <td>14544.0</td>\n",
       "      <td>14604.881012</td>\n",
       "      <td>14158.0</td>\n",
       "      <td>14251.0</td>\n",
       "      <td>14251.0</td>\n",
       "    </tr>\n",
       "    <tr>\n",
       "      <th>2020-02-08</th>\n",
       "      <td>14764.0</td>\n",
       "      <td>14576.744158</td>\n",
       "      <td>14397.5</td>\n",
       "      <td>14544.0</td>\n",
       "      <td>14544.0</td>\n",
       "    </tr>\n",
       "  </tbody>\n",
       "</table>\n",
       "</div>"
      ],
      "text/plain": [
       "            inventory         arima       ma    naive      ses\n",
       "date                                                          \n",
       "2020-01-11    14435.0  14689.291575  15521.0  15039.0  14435.0\n",
       "2020-01-18    14065.0  14661.154721  14737.0  14435.0  14435.0\n",
       "2020-01-25    14251.0  14633.017866  14250.0  14065.0  14065.0\n",
       "2020-02-01    14544.0  14604.881012  14158.0  14251.0  14251.0\n",
       "2020-02-08    14764.0  14576.744158  14397.5  14544.0  14544.0"
      ]
     },
     "execution_count": 111,
     "metadata": {},
     "output_type": "execute_result"
    }
   ],
   "source": [
    "#Simple Exponenital Smoothing\n",
    "ses = SimpleExpSmoothing(train.inventory).fit()\n",
    "fcst_ses = SimpleExpSmoothing(test.inventory).fit(smoothing_level=ses.model.params['smoothing_level'], optimized=False)\n",
    "test['ses'] = fcst_ses.fittedvalues\n",
    "test.head()"
   ]
  },
  {
   "cell_type": "code",
   "execution_count": 112,
   "metadata": {},
   "outputs": [
    {
     "data": {
      "image/png": "[encoded data removed]",
      "text/plain": [
       "<Figure size 720x360 with 1 Axes>"
      ]
     },
     "metadata": {
      "needs_background": "light"
     },
     "output_type": "display_data"
    }
   ],
   "source": [
    "#Simple Exponenital Smoothing chart\n",
    "plt.figure(figsize=(10,5))\n",
    "plt.plot(train['inventory'], label='Train')\n",
    "plt.plot(test['inventory'], label='Test')\n",
    "plt.plot(test['ses'], label='SES \\u03B1='+ \"{:.4f}\".format(ses.model.params['smoothing_level']), color='green')\n",
    "\n",
    "lower_series = test['inventory']\n",
    "upper_series = test['ses']\n",
    "\n",
    "plt.fill_between(lower_series.index, lower_series, upper_series, \n",
    "                 color='k', alpha=.15)\n",
    "\n",
    "plt.ylabel('Inventory')\n",
    "plt.xlabel('Month')\n",
    "plt.legend(loc='best')\n",
    "plt.show()"
   ]
  },
  {
   "cell_type": "code",
   "execution_count": 113,
   "metadata": {
    "scrolled": true
   },
   "outputs": [
    {
     "name": "stdout",
     "output_type": "stream",
     "text": [
      "RMSE = 207.27363309007487\n"
     ]
    }
   ],
   "source": [
    "RMSE_ses = sm.tools.eval_measures.rmse(test.inventory,test['ses'])\n",
    "print('RMSE', '=', RMSE_ses)"
   ]
  },
  {
   "cell_type": "markdown",
   "metadata": {},
   "source": [
    "# Holt Winter (Additive)"
   ]
  },
  {
   "cell_type": "code",
   "execution_count": 114,
   "metadata": {},
   "outputs": [
    {
     "name": "stderr",
     "output_type": "stream",
     "text": [
      "C:\\Users\\emmayianpan\\AppData\\Roaming\\Python\\Python37\\site-packages\\statsmodels\\tsa\\base\\tsa_model.py:162: ValueWarning: No frequency information was provided, so inferred frequency W-SAT will be used.\n",
      "  % freq, ValueWarning)\n",
      "C:\\Users\\emmayianpan\\AppData\\Roaming\\Python\\Python37\\site-packages\\statsmodels\\tsa\\holtwinters.py:725: RuntimeWarning: invalid value encountered in less_equal\n",
      "  loc = initial_p <= lb\n",
      "C:\\Users\\emmayianpan\\AppData\\Roaming\\Python\\Python37\\site-packages\\statsmodels\\tsa\\holtwinters.py:731: RuntimeWarning: invalid value encountered in greater_equal\n",
      "  loc = initial_p >= ub\n",
      "C:\\Users\\emmayianpan\\AppData\\Roaming\\Python\\Python37\\site-packages\\statsmodels\\tsa\\holtwinters.py:744: ConvergenceWarning: Optimization failed to converge. Check mle_retvals.\n",
      "  ConvergenceWarning)\n",
      "C:\\Users\\emmayianpan\\AppData\\Roaming\\Python\\Python37\\site-packages\\statsmodels\\tsa\\base\\tsa_model.py:162: ValueWarning: No frequency information was provided, so inferred frequency W-SAT will be used.\n",
      "  % freq, ValueWarning)\n",
      "C:\\ProgramData\\Anaconda3\\lib\\site-packages\\ipykernel_launcher.py:4: SettingWithCopyWarning: \n",
      "A value is trying to be set on a copy of a slice from a DataFrame.\n",
      "Try using .loc[row_indexer,col_indexer] = value instead\n",
      "\n",
      "See the caveats in the documentation: https://pandas.pydata.org/pandas-docs/stable/user_guide/indexing.html#returning-a-view-versus-a-copy\n",
      "  after removing the cwd from sys.path.\n"
     ]
    },
    {
     "data": {
      "text/html": [
       "<div>\n",
       "<style scoped>\n",
       "    .dataframe tbody tr th:only-of-type {\n",
       "        vertical-align: middle;\n",
       "    }\n",
       "\n",
       "    .dataframe tbody tr th {\n",
       "        vertical-align: top;\n",
       "    }\n",
       "\n",
       "    .dataframe thead th {\n",
       "        text-align: right;\n",
       "    }\n",
       "</style>\n",
       "<table border=\"1\" class=\"dataframe\">\n",
       "  <thead>\n",
       "    <tr style=\"text-align: right;\">\n",
       "      <th></th>\n",
       "      <th>inventory</th>\n",
       "      <th>arima</th>\n",
       "      <th>ma</th>\n",
       "      <th>naive</th>\n",
       "      <th>ses</th>\n",
       "      <th>holtwinter_add</th>\n",
       "    </tr>\n",
       "    <tr>\n",
       "      <th>date</th>\n",
       "      <th></th>\n",
       "      <th></th>\n",
       "      <th></th>\n",
       "      <th></th>\n",
       "      <th></th>\n",
       "      <th></th>\n",
       "    </tr>\n",
       "  </thead>\n",
       "  <tbody>\n",
       "    <tr>\n",
       "      <th>2020-01-11</th>\n",
       "      <td>14435.0</td>\n",
       "      <td>14689.291575</td>\n",
       "      <td>15521.0</td>\n",
       "      <td>15039.0</td>\n",
       "      <td>14435.0</td>\n",
       "      <td>14502.513889</td>\n",
       "    </tr>\n",
       "    <tr>\n",
       "      <th>2020-01-18</th>\n",
       "      <td>14065.0</td>\n",
       "      <td>14661.154721</td>\n",
       "      <td>14737.0</td>\n",
       "      <td>14435.0</td>\n",
       "      <td>14435.0</td>\n",
       "      <td>14170.104725</td>\n",
       "    </tr>\n",
       "    <tr>\n",
       "      <th>2020-01-25</th>\n",
       "      <td>14251.0</td>\n",
       "      <td>14633.017866</td>\n",
       "      <td>14250.0</td>\n",
       "      <td>14065.0</td>\n",
       "      <td>14065.0</td>\n",
       "      <td>14375.538649</td>\n",
       "    </tr>\n",
       "    <tr>\n",
       "      <th>2020-02-01</th>\n",
       "      <td>14544.0</td>\n",
       "      <td>14604.881012</td>\n",
       "      <td>14158.0</td>\n",
       "      <td>14251.0</td>\n",
       "      <td>14251.0</td>\n",
       "      <td>14677.030010</td>\n",
       "    </tr>\n",
       "    <tr>\n",
       "      <th>2020-02-08</th>\n",
       "      <td>14764.0</td>\n",
       "      <td>14576.744158</td>\n",
       "      <td>14397.5</td>\n",
       "      <td>14544.0</td>\n",
       "      <td>14544.0</td>\n",
       "      <td>14898.998027</td>\n",
       "    </tr>\n",
       "  </tbody>\n",
       "</table>\n",
       "</div>"
      ],
      "text/plain": [
       "            inventory         arima       ma    naive      ses  holtwinter_add\n",
       "date                                                                          \n",
       "2020-01-11    14435.0  14689.291575  15521.0  15039.0  14435.0    14502.513889\n",
       "2020-01-18    14065.0  14661.154721  14737.0  14435.0  14435.0    14170.104725\n",
       "2020-01-25    14251.0  14633.017866  14250.0  14065.0  14065.0    14375.538649\n",
       "2020-02-01    14544.0  14604.881012  14158.0  14251.0  14251.0    14677.030010\n",
       "2020-02-08    14764.0  14576.744158  14397.5  14544.0  14544.0    14898.998027"
      ]
     },
     "execution_count": 114,
     "metadata": {},
     "output_type": "execute_result"
    }
   ],
   "source": [
    "#Holt Winter (t = 3 months, additive)\n",
    "holtwinter_add = ExponentialSmoothing(train.inventory, seasonal_periods=12, trend='add', seasonal='add').fit()\n",
    "fcst_holtwinter_add = ExponentialSmoothing(test.inventory, seasonal_periods=12, trend='add', seasonal='add').fit(smoothing_level=holtwinter_add.model.params['smoothing_level'], smoothing_slope=holtwinter_add.model.params['smoothing_slope'], smoothing_seasonal=holtwinter_add.model.params['smoothing_seasonal'], optimized=False)\n",
    "test['holtwinter_add'] = fcst_holtwinter_add.fittedvalues\n",
    "test.head()"
   ]
  },
  {
   "cell_type": "code",
   "execution_count": 115,
   "metadata": {},
   "outputs": [
    {
     "data": {
      "image/png": "[encoded data removed]",
      "text/plain": [
       "<Figure size 1008x432 with 1 Axes>"
      ]
     },
     "metadata": {
      "needs_background": "light"
     },
     "output_type": "display_data"
    }
   ],
   "source": [
    "#Holt Winter (Additive) chart\n",
    "plt.figure(figsize=(14,6))\n",
    "plt.plot(train['inventory'], label='Train')\n",
    "plt.plot(test['inventory'], label='Test')\n",
    "plt.plot(test['holtwinter_add'], label='Holt Winter-Add \\u03B1='+\"{:.3f}\".format(holtwinter_add.model.params['smoothing_level'])+' \\u03B2='+\"{:.3f}\".format(holtwinter_add.model.params['smoothing_slope'])+' \\u03B3='+\"{:.3f}\".format(holtwinter_add.model.params['smoothing_seasonal']), color='green')\n",
    "\n",
    "lower_series = test['inventory']\n",
    "upper_series = test['holtwinter_add']\n",
    "\n",
    "plt.fill_between(lower_series.index, lower_series, upper_series, \n",
    "                 color='k', alpha=.15)\n",
    "\n",
    "plt.ylabel('Inventory')\n",
    "plt.xlabel('Month')\n",
    "plt.legend(loc='best')\n",
    "plt.show()"
   ]
  },
  {
   "cell_type": "code",
   "execution_count": 116,
   "metadata": {
    "scrolled": true
   },
   "outputs": [
    {
     "name": "stdout",
     "output_type": "stream",
     "text": [
      "RMSE = 452.35432808431176\n"
     ]
    }
   ],
   "source": [
    "RMSE_holtwinter_add = sm.tools.eval_measures.rmse(test.inventory,test['holtwinter_add'])\n",
    "print('RMSE', '=', RMSE_holtwinter_add)"
   ]
  },
  {
   "cell_type": "markdown",
   "metadata": {},
   "source": [
    "# Forecast"
   ]
  },
  {
   "cell_type": "code",
   "execution_count": 117,
   "metadata": {
    "scrolled": true
   },
   "outputs": [
    {
     "data": {
      "text/plain": [
       "2021-01-16    15039.0\n",
       "2021-01-23    15039.0\n",
       "2021-01-30    15039.0\n",
       "2021-02-06    15039.0\n",
       "2021-02-13    15039.0\n",
       "Freq: W-SAT, Name: forecast, dtype: float64"
      ]
     },
     "execution_count": 117,
     "metadata": {},
     "output_type": "execute_result"
    }
   ],
   "source": [
    "fcst_inventory = ses.predict(start= len(train), \n",
    "                          end = (len(train)-3) + 5 * 12).rename('forecast')\n",
    "fcst_inventory.tail()"
   ]
  },
  {
   "cell_type": "code",
   "execution_count": 118,
   "metadata": {},
   "outputs": [
    {
     "data": {
      "text/html": [
       "<div>\n",
       "<style scoped>\n",
       "    .dataframe tbody tr th:only-of-type {\n",
       "        vertical-align: middle;\n",
       "    }\n",
       "\n",
       "    .dataframe tbody tr th {\n",
       "        vertical-align: top;\n",
       "    }\n",
       "\n",
       "    .dataframe thead th {\n",
       "        text-align: right;\n",
       "    }\n",
       "</style>\n",
       "<table border=\"1\" class=\"dataframe\">\n",
       "  <thead>\n",
       "    <tr style=\"text-align: right;\">\n",
       "      <th></th>\n",
       "      <th>forecast</th>\n",
       "    </tr>\n",
       "  </thead>\n",
       "  <tbody>\n",
       "    <tr>\n",
       "      <th>2020-10-10</th>\n",
       "      <td>15039.0</td>\n",
       "    </tr>\n",
       "    <tr>\n",
       "      <th>2020-10-17</th>\n",
       "      <td>15039.0</td>\n",
       "    </tr>\n",
       "    <tr>\n",
       "      <th>2020-10-24</th>\n",
       "      <td>15039.0</td>\n",
       "    </tr>\n",
       "    <tr>\n",
       "      <th>2020-10-31</th>\n",
       "      <td>15039.0</td>\n",
       "    </tr>\n",
       "    <tr>\n",
       "      <th>2020-11-07</th>\n",
       "      <td>15039.0</td>\n",
       "    </tr>\n",
       "  </tbody>\n",
       "</table>\n",
       "</div>"
      ],
      "text/plain": [
       "            forecast\n",
       "2020-10-10   15039.0\n",
       "2020-10-17   15039.0\n",
       "2020-10-24   15039.0\n",
       "2020-10-31   15039.0\n",
       "2020-11-07   15039.0"
      ]
     },
     "execution_count": 118,
     "metadata": {},
     "output_type": "execute_result"
    }
   ],
   "source": [
    "fcst_inventory = fcst_inventory.loc['20201010':'20210213']\n",
    "fcst_inventory = pd.DataFrame(fcst_inventory)\n",
    "fcst_inventory.head()"
   ]
  },
  {
   "cell_type": "code",
   "execution_count": 119,
   "metadata": {},
   "outputs": [],
   "source": [
    "fcst_inventory = fcst_inventory.reset_index()"
   ]
  },
  {
   "cell_type": "code",
   "execution_count": 120,
   "metadata": {
    "scrolled": true
   },
   "outputs": [
    {
     "data": {
      "text/html": [
       "<div>\n",
       "<style scoped>\n",
       "    .dataframe tbody tr th:only-of-type {\n",
       "        vertical-align: middle;\n",
       "    }\n",
       "\n",
       "    .dataframe tbody tr th {\n",
       "        vertical-align: top;\n",
       "    }\n",
       "\n",
       "    .dataframe thead th {\n",
       "        text-align: right;\n",
       "    }\n",
       "</style>\n",
       "<table border=\"1\" class=\"dataframe\">\n",
       "  <thead>\n",
       "    <tr style=\"text-align: right;\">\n",
       "      <th></th>\n",
       "      <th>date</th>\n",
       "      <th>forecast</th>\n",
       "    </tr>\n",
       "  </thead>\n",
       "  <tbody>\n",
       "    <tr>\n",
       "      <th>0</th>\n",
       "      <td>2020-10-10</td>\n",
       "      <td>15039.0</td>\n",
       "    </tr>\n",
       "    <tr>\n",
       "      <th>1</th>\n",
       "      <td>2020-10-17</td>\n",
       "      <td>15039.0</td>\n",
       "    </tr>\n",
       "    <tr>\n",
       "      <th>2</th>\n",
       "      <td>2020-10-24</td>\n",
       "      <td>15039.0</td>\n",
       "    </tr>\n",
       "    <tr>\n",
       "      <th>3</th>\n",
       "      <td>2020-10-31</td>\n",
       "      <td>15039.0</td>\n",
       "    </tr>\n",
       "    <tr>\n",
       "      <th>4</th>\n",
       "      <td>2020-11-07</td>\n",
       "      <td>15039.0</td>\n",
       "    </tr>\n",
       "  </tbody>\n",
       "</table>\n",
       "</div>"
      ],
      "text/plain": [
       "        date  forecast\n",
       "0 2020-10-10   15039.0\n",
       "1 2020-10-17   15039.0\n",
       "2 2020-10-24   15039.0\n",
       "3 2020-10-31   15039.0\n",
       "4 2020-11-07   15039.0"
      ]
     },
     "execution_count": 120,
     "metadata": {},
     "output_type": "execute_result"
    }
   ],
   "source": [
    "fcst_inventory.columns =['date','forecast']\n",
    "fcst_inventory.head()"
   ]
  },
  {
   "cell_type": "code",
   "execution_count": 121,
   "metadata": {},
   "outputs": [
    {
     "data": {
      "text/html": [
       "<div>\n",
       "<style scoped>\n",
       "    .dataframe tbody tr th:only-of-type {\n",
       "        vertical-align: middle;\n",
       "    }\n",
       "\n",
       "    .dataframe tbody tr th {\n",
       "        vertical-align: top;\n",
       "    }\n",
       "\n",
       "    .dataframe thead th {\n",
       "        text-align: right;\n",
       "    }\n",
       "</style>\n",
       "<table border=\"1\" class=\"dataframe\">\n",
       "  <thead>\n",
       "    <tr style=\"text-align: right;\">\n",
       "      <th></th>\n",
       "      <th>forecast</th>\n",
       "    </tr>\n",
       "    <tr>\n",
       "      <th>date</th>\n",
       "      <th></th>\n",
       "    </tr>\n",
       "  </thead>\n",
       "  <tbody>\n",
       "    <tr>\n",
       "      <th>2020-10-10</th>\n",
       "      <td>15039.0</td>\n",
       "    </tr>\n",
       "    <tr>\n",
       "      <th>2020-10-17</th>\n",
       "      <td>15039.0</td>\n",
       "    </tr>\n",
       "    <tr>\n",
       "      <th>2020-10-24</th>\n",
       "      <td>15039.0</td>\n",
       "    </tr>\n",
       "    <tr>\n",
       "      <th>2020-10-31</th>\n",
       "      <td>15039.0</td>\n",
       "    </tr>\n",
       "    <tr>\n",
       "      <th>2020-11-07</th>\n",
       "      <td>15039.0</td>\n",
       "    </tr>\n",
       "  </tbody>\n",
       "</table>\n",
       "</div>"
      ],
      "text/plain": [
       "            forecast\n",
       "date                \n",
       "2020-10-10   15039.0\n",
       "2020-10-17   15039.0\n",
       "2020-10-24   15039.0\n",
       "2020-10-31   15039.0\n",
       "2020-11-07   15039.0"
      ]
     },
     "execution_count": 121,
     "metadata": {},
     "output_type": "execute_result"
    }
   ],
   "source": [
    "fcst_inventory = fcst_inventory.set_index('date')\n",
    "fcst_inventory.head()"
   ]
  },
  {
   "cell_type": "markdown",
   "metadata": {},
   "source": [
    "# Merge Test Data/Forecast"
   ]
  },
  {
   "cell_type": "code",
   "execution_count": 122,
   "metadata": {},
   "outputs": [
    {
     "data": {
      "text/html": [
       "<div>\n",
       "<style scoped>\n",
       "    .dataframe tbody tr th:only-of-type {\n",
       "        vertical-align: middle;\n",
       "    }\n",
       "\n",
       "    .dataframe tbody tr th {\n",
       "        vertical-align: top;\n",
       "    }\n",
       "\n",
       "    .dataframe thead th {\n",
       "        text-align: right;\n",
       "    }\n",
       "</style>\n",
       "<table border=\"1\" class=\"dataframe\">\n",
       "  <thead>\n",
       "    <tr style=\"text-align: right;\">\n",
       "      <th></th>\n",
       "      <th>inventory</th>\n",
       "      <th>arima</th>\n",
       "      <th>ma</th>\n",
       "      <th>naive</th>\n",
       "      <th>ses</th>\n",
       "      <th>holtwinter_add</th>\n",
       "      <th>forecast</th>\n",
       "    </tr>\n",
       "    <tr>\n",
       "      <th>date</th>\n",
       "      <th></th>\n",
       "      <th></th>\n",
       "      <th></th>\n",
       "      <th></th>\n",
       "      <th></th>\n",
       "      <th></th>\n",
       "      <th></th>\n",
       "    </tr>\n",
       "  </thead>\n",
       "  <tbody>\n",
       "    <tr>\n",
       "      <th>2021-01-16</th>\n",
       "      <td>NaN</td>\n",
       "      <td>NaN</td>\n",
       "      <td>NaN</td>\n",
       "      <td>NaN</td>\n",
       "      <td>NaN</td>\n",
       "      <td>NaN</td>\n",
       "      <td>15039.0</td>\n",
       "    </tr>\n",
       "    <tr>\n",
       "      <th>2021-01-23</th>\n",
       "      <td>NaN</td>\n",
       "      <td>NaN</td>\n",
       "      <td>NaN</td>\n",
       "      <td>NaN</td>\n",
       "      <td>NaN</td>\n",
       "      <td>NaN</td>\n",
       "      <td>15039.0</td>\n",
       "    </tr>\n",
       "    <tr>\n",
       "      <th>2021-01-30</th>\n",
       "      <td>NaN</td>\n",
       "      <td>NaN</td>\n",
       "      <td>NaN</td>\n",
       "      <td>NaN</td>\n",
       "      <td>NaN</td>\n",
       "      <td>NaN</td>\n",
       "      <td>15039.0</td>\n",
       "    </tr>\n",
       "    <tr>\n",
       "      <th>2021-02-06</th>\n",
       "      <td>NaN</td>\n",
       "      <td>NaN</td>\n",
       "      <td>NaN</td>\n",
       "      <td>NaN</td>\n",
       "      <td>NaN</td>\n",
       "      <td>NaN</td>\n",
       "      <td>15039.0</td>\n",
       "    </tr>\n",
       "    <tr>\n",
       "      <th>2021-02-13</th>\n",
       "      <td>NaN</td>\n",
       "      <td>NaN</td>\n",
       "      <td>NaN</td>\n",
       "      <td>NaN</td>\n",
       "      <td>NaN</td>\n",
       "      <td>NaN</td>\n",
       "      <td>15039.0</td>\n",
       "    </tr>\n",
       "  </tbody>\n",
       "</table>\n",
       "</div>"
      ],
      "text/plain": [
       "            inventory  arima  ma  naive  ses  holtwinter_add  forecast\n",
       "date                                                                  \n",
       "2021-01-16        NaN    NaN NaN    NaN  NaN             NaN   15039.0\n",
       "2021-01-23        NaN    NaN NaN    NaN  NaN             NaN   15039.0\n",
       "2021-01-30        NaN    NaN NaN    NaN  NaN             NaN   15039.0\n",
       "2021-02-06        NaN    NaN NaN    NaN  NaN             NaN   15039.0\n",
       "2021-02-13        NaN    NaN NaN    NaN  NaN             NaN   15039.0"
      ]
     },
     "execution_count": 122,
     "metadata": {},
     "output_type": "execute_result"
    }
   ],
   "source": [
    "test = test.merge(fcst_inventory, how='outer', on='date')\n",
    "test.tail()"
   ]
  },
  {
   "cell_type": "code",
   "execution_count": 123,
   "metadata": {},
   "outputs": [
    {
     "data": {
      "image/png": "[encoded data removed]",
      "text/plain": [
       "<Figure size 864x432 with 1 Axes>"
      ]
     },
     "metadata": {
      "needs_background": "light"
     },
     "output_type": "display_data"
    }
   ],
   "source": [
    "#Updated SES chart \n",
    "plt.figure(figsize=(12,6))\n",
    "plt.plot(train['inventory'], label='Train')\n",
    "plt.plot(test['inventory'], label='Test')\n",
    "plt.plot(test['ses'], label='SES \\u03B1='+ \"{:.4f}\".format(ses.model.params['smoothing_level']), color='green')\n",
    "plt.plot(test['forecast'], label='SES Forecast', color='yellow')\n",
    "\n",
    "lower_series = test['inventory']\n",
    "upper_series = test['ses']\n",
    "\n",
    "plt.fill_between(lower_series.index, lower_series, upper_series, \n",
    "                 color='k', alpha=.15)\n",
    "\n",
    "plt.ylabel('Inventory')\n",
    "plt.xlabel('Month')\n",
    "plt.legend(loc='best')\n",
    "plt.show()"
   ]
  },
  {
   "cell_type": "markdown",
   "metadata": {},
   "source": [
    "# Summary/Inventory Output"
   ]
  },
  {
   "cell_type": "code",
   "execution_count": 124,
   "metadata": {
    "scrolled": true
   },
   "outputs": [
    {
     "data": {
      "text/html": [
       "<div>\n",
       "<style scoped>\n",
       "    .dataframe tbody tr th:only-of-type {\n",
       "        vertical-align: middle;\n",
       "    }\n",
       "\n",
       "    .dataframe tbody tr th {\n",
       "        vertical-align: top;\n",
       "    }\n",
       "\n",
       "    .dataframe thead th {\n",
       "        text-align: right;\n",
       "    }\n",
       "</style>\n",
       "<table border=\"1\" class=\"dataframe\">\n",
       "  <thead>\n",
       "    <tr style=\"text-align: right;\">\n",
       "      <th></th>\n",
       "      <th>inventory</th>\n",
       "      <th>arima</th>\n",
       "      <th>ma</th>\n",
       "      <th>naive</th>\n",
       "      <th>ses</th>\n",
       "      <th>holtwinter_add</th>\n",
       "      <th>forecast</th>\n",
       "    </tr>\n",
       "    <tr>\n",
       "      <th>date</th>\n",
       "      <th></th>\n",
       "      <th></th>\n",
       "      <th></th>\n",
       "      <th></th>\n",
       "      <th></th>\n",
       "      <th></th>\n",
       "      <th></th>\n",
       "    </tr>\n",
       "  </thead>\n",
       "  <tbody>\n",
       "    <tr>\n",
       "      <th>2020-01-11</th>\n",
       "      <td>14435.0</td>\n",
       "      <td>14689.291575</td>\n",
       "      <td>15521.0</td>\n",
       "      <td>15039.0</td>\n",
       "      <td>14435.0</td>\n",
       "      <td>14502.513889</td>\n",
       "      <td>NaN</td>\n",
       "    </tr>\n",
       "    <tr>\n",
       "      <th>2020-01-18</th>\n",
       "      <td>14065.0</td>\n",
       "      <td>14661.154721</td>\n",
       "      <td>14737.0</td>\n",
       "      <td>14435.0</td>\n",
       "      <td>14435.0</td>\n",
       "      <td>14170.104725</td>\n",
       "      <td>NaN</td>\n",
       "    </tr>\n",
       "    <tr>\n",
       "      <th>2020-01-25</th>\n",
       "      <td>14251.0</td>\n",
       "      <td>14633.017866</td>\n",
       "      <td>14250.0</td>\n",
       "      <td>14065.0</td>\n",
       "      <td>14065.0</td>\n",
       "      <td>14375.538649</td>\n",
       "      <td>NaN</td>\n",
       "    </tr>\n",
       "    <tr>\n",
       "      <th>2020-02-01</th>\n",
       "      <td>14544.0</td>\n",
       "      <td>14604.881012</td>\n",
       "      <td>14158.0</td>\n",
       "      <td>14251.0</td>\n",
       "      <td>14251.0</td>\n",
       "      <td>14677.030010</td>\n",
       "      <td>NaN</td>\n",
       "    </tr>\n",
       "    <tr>\n",
       "      <th>2020-02-08</th>\n",
       "      <td>14764.0</td>\n",
       "      <td>14576.744158</td>\n",
       "      <td>14397.5</td>\n",
       "      <td>14544.0</td>\n",
       "      <td>14544.0</td>\n",
       "      <td>14898.998027</td>\n",
       "      <td>NaN</td>\n",
       "    </tr>\n",
       "  </tbody>\n",
       "</table>\n",
       "</div>"
      ],
      "text/plain": [
       "            inventory         arima       ma    naive      ses  \\\n",
       "date                                                             \n",
       "2020-01-11    14435.0  14689.291575  15521.0  15039.0  14435.0   \n",
       "2020-01-18    14065.0  14661.154721  14737.0  14435.0  14435.0   \n",
       "2020-01-25    14251.0  14633.017866  14250.0  14065.0  14065.0   \n",
       "2020-02-01    14544.0  14604.881012  14158.0  14251.0  14251.0   \n",
       "2020-02-08    14764.0  14576.744158  14397.5  14544.0  14544.0   \n",
       "\n",
       "            holtwinter_add  forecast  \n",
       "date                                  \n",
       "2020-01-11    14502.513889       NaN  \n",
       "2020-01-18    14170.104725       NaN  \n",
       "2020-01-25    14375.538649       NaN  \n",
       "2020-02-01    14677.030010       NaN  \n",
       "2020-02-08    14898.998027       NaN  "
      ]
     },
     "execution_count": 124,
     "metadata": {},
     "output_type": "execute_result"
    }
   ],
   "source": [
    "test.head()"
   ]
  },
  {
   "cell_type": "code",
   "execution_count": 125,
   "metadata": {},
   "outputs": [
    {
     "data": {
      "image/png": "[encoded data removed]",
      "text/plain": [
       "<Figure size 1008x432 with 1 Axes>"
      ]
     },
     "metadata": {
      "needs_background": "light"
     },
     "output_type": "display_data"
    }
   ],
   "source": [
    "plt.figure(figsize=(14,6))\n",
    "plt.plot(test['inventory'], label='Actual For-Sale Inventory')\n",
    "plt.plot(test['arima'], label='ARIMA')\n",
    "plt.plot(test['ma'] , label='Moving Average')\n",
    "plt.plot(test['naive'] , label='Naive')\n",
    "plt.plot(test['ses'] , label='SES')\n",
    "plt.plot(test['holtwinter_add'] , label='Holt Winter (Additive)')\n",
    "\n",
    "plt.ylabel('Inventory')\n",
    "plt.xlabel('Month')\n",
    "plt.legend(loc='best')\n",
    "plt.show()"
   ]
  },
  {
   "cell_type": "code",
   "execution_count": 126,
   "metadata": {
    "scrolled": true
   },
   "outputs": [
    {
     "data": {
      "text/html": [
       "<div>\n",
       "<style scoped>\n",
       "    .dataframe tbody tr th:only-of-type {\n",
       "        vertical-align: middle;\n",
       "    }\n",
       "\n",
       "    .dataframe tbody tr th {\n",
       "        vertical-align: top;\n",
       "    }\n",
       "\n",
       "    .dataframe thead th {\n",
       "        text-align: right;\n",
       "    }\n",
       "</style>\n",
       "<table border=\"1\" class=\"dataframe\">\n",
       "  <thead>\n",
       "    <tr style=\"text-align: right;\">\n",
       "      <th></th>\n",
       "      <th>Model</th>\n",
       "      <th>RMSE</th>\n",
       "    </tr>\n",
       "  </thead>\n",
       "  <tbody>\n",
       "    <tr>\n",
       "      <th>0</th>\n",
       "      <td>ARIMA</td>\n",
       "      <td>2372.244476</td>\n",
       "    </tr>\n",
       "    <tr>\n",
       "      <th>1</th>\n",
       "      <td>Moving Average</td>\n",
       "      <td>353.173996</td>\n",
       "    </tr>\n",
       "    <tr>\n",
       "      <th>2</th>\n",
       "      <td>Naive</td>\n",
       "      <td>228.728257</td>\n",
       "    </tr>\n",
       "    <tr>\n",
       "      <th>3</th>\n",
       "      <td>Simple Exponential Smoothing</td>\n",
       "      <td>207.273633</td>\n",
       "    </tr>\n",
       "    <tr>\n",
       "      <th>4</th>\n",
       "      <td>Holt Winter (Additive)</td>\n",
       "      <td>452.354328</td>\n",
       "    </tr>\n",
       "  </tbody>\n",
       "</table>\n",
       "</div>"
      ],
      "text/plain": [
       "                          Model         RMSE\n",
       "0                         ARIMA  2372.244476\n",
       "1                Moving Average   353.173996\n",
       "2                         Naive   228.728257\n",
       "3  Simple Exponential Smoothing   207.273633\n",
       "4        Holt Winter (Additive)   452.354328"
      ]
     },
     "execution_count": 126,
     "metadata": {},
     "output_type": "execute_result"
    }
   ],
   "source": [
    "RMSE = pd.DataFrame({'Model':['ARIMA', 'Moving Average', 'Naive','Simple Exponential Smoothing','Holt Winter (Additive)'],\n",
    "                     'RMSE':[RMSE_arima, RMSE_ma, RMSE_naive, RMSE_ses, RMSE_holtwinter_add]})\n",
    "RMSE"
   ]
  },
  {
   "cell_type": "markdown",
   "metadata": {},
   "source": [
    "# We choose to use \"Simple Exponential Smoothing\" method to predict future For-Sale Inventory"
   ]
  },
  {
   "cell_type": "code",
   "execution_count": 127,
   "metadata": {
    "scrolled": true
   },
   "outputs": [
    {
     "data": {
      "text/html": [
       "<div>\n",
       "<style scoped>\n",
       "    .dataframe tbody tr th:only-of-type {\n",
       "        vertical-align: middle;\n",
       "    }\n",
       "\n",
       "    .dataframe tbody tr th {\n",
       "        vertical-align: top;\n",
       "    }\n",
       "\n",
       "    .dataframe thead th {\n",
       "        text-align: right;\n",
       "    }\n",
       "</style>\n",
       "<table border=\"1\" class=\"dataframe\">\n",
       "  <thead>\n",
       "    <tr style=\"text-align: right;\">\n",
       "      <th></th>\n",
       "      <th>ses</th>\n",
       "      <th>forecast</th>\n",
       "    </tr>\n",
       "    <tr>\n",
       "      <th>date</th>\n",
       "      <th></th>\n",
       "      <th></th>\n",
       "    </tr>\n",
       "  </thead>\n",
       "  <tbody>\n",
       "    <tr>\n",
       "      <th>2020-01-11</th>\n",
       "      <td>14435.0</td>\n",
       "      <td>NaN</td>\n",
       "    </tr>\n",
       "    <tr>\n",
       "      <th>2020-01-18</th>\n",
       "      <td>14435.0</td>\n",
       "      <td>NaN</td>\n",
       "    </tr>\n",
       "    <tr>\n",
       "      <th>2020-01-25</th>\n",
       "      <td>14065.0</td>\n",
       "      <td>NaN</td>\n",
       "    </tr>\n",
       "    <tr>\n",
       "      <th>2020-02-01</th>\n",
       "      <td>14251.0</td>\n",
       "      <td>NaN</td>\n",
       "    </tr>\n",
       "    <tr>\n",
       "      <th>2020-02-08</th>\n",
       "      <td>14544.0</td>\n",
       "      <td>NaN</td>\n",
       "    </tr>\n",
       "  </tbody>\n",
       "</table>\n",
       "</div>"
      ],
      "text/plain": [
       "                ses  forecast\n",
       "date                         \n",
       "2020-01-11  14435.0       NaN\n",
       "2020-01-18  14435.0       NaN\n",
       "2020-01-25  14065.0       NaN\n",
       "2020-02-01  14251.0       NaN\n",
       "2020-02-08  14544.0       NaN"
      ]
     },
     "execution_count": 127,
     "metadata": {},
     "output_type": "execute_result"
    }
   ],
   "source": [
    "final_fcst_inventory = test[['ses','forecast']].copy()\n",
    "final_fcst_inventory.head()"
   ]
  },
  {
   "cell_type": "code",
   "execution_count": 128,
   "metadata": {
    "scrolled": true
   },
   "outputs": [
    {
     "data": {
      "text/html": [
       "<div>\n",
       "<style scoped>\n",
       "    .dataframe tbody tr th:only-of-type {\n",
       "        vertical-align: middle;\n",
       "    }\n",
       "\n",
       "    .dataframe tbody tr th {\n",
       "        vertical-align: top;\n",
       "    }\n",
       "\n",
       "    .dataframe thead th {\n",
       "        text-align: right;\n",
       "    }\n",
       "</style>\n",
       "<table border=\"1\" class=\"dataframe\">\n",
       "  <thead>\n",
       "    <tr style=\"text-align: right;\">\n",
       "      <th></th>\n",
       "      <th>inventory</th>\n",
       "      <th>ses_inventory</th>\n",
       "      <th>fcst_inventory</th>\n",
       "    </tr>\n",
       "    <tr>\n",
       "      <th>date</th>\n",
       "      <th></th>\n",
       "      <th></th>\n",
       "      <th></th>\n",
       "    </tr>\n",
       "  </thead>\n",
       "  <tbody>\n",
       "    <tr>\n",
       "      <th>2017-10-28</th>\n",
       "      <td>17787.0</td>\n",
       "      <td>NaN</td>\n",
       "      <td>NaN</td>\n",
       "    </tr>\n",
       "    <tr>\n",
       "      <th>2017-11-04</th>\n",
       "      <td>17522.0</td>\n",
       "      <td>NaN</td>\n",
       "      <td>NaN</td>\n",
       "    </tr>\n",
       "    <tr>\n",
       "      <th>2017-11-11</th>\n",
       "      <td>17177.0</td>\n",
       "      <td>NaN</td>\n",
       "      <td>NaN</td>\n",
       "    </tr>\n",
       "    <tr>\n",
       "      <th>2017-11-18</th>\n",
       "      <td>16809.0</td>\n",
       "      <td>NaN</td>\n",
       "      <td>NaN</td>\n",
       "    </tr>\n",
       "    <tr>\n",
       "      <th>2017-11-25</th>\n",
       "      <td>16334.0</td>\n",
       "      <td>NaN</td>\n",
       "      <td>NaN</td>\n",
       "    </tr>\n",
       "  </tbody>\n",
       "</table>\n",
       "</div>"
      ],
      "text/plain": [
       "            inventory  ses_inventory  fcst_inventory\n",
       "date                                                \n",
       "2017-10-28    17787.0            NaN             NaN\n",
       "2017-11-04    17522.0            NaN             NaN\n",
       "2017-11-11    17177.0            NaN             NaN\n",
       "2017-11-18    16809.0            NaN             NaN\n",
       "2017-11-25    16334.0            NaN             NaN"
      ]
     },
     "execution_count": 128,
     "metadata": {},
     "output_type": "execute_result"
    }
   ],
   "source": [
    "final_output_inventory = combine.merge(final_fcst_inventory, how='outer', on='date')\n",
    "final_output_inventory = final_output_inventory.rename(columns={\"ses\": \"ses_inventory\", \"forecast\": \"fcst_inventory\"})\n",
    "final_output_inventory.head()"
   ]
  },
  {
   "cell_type": "markdown",
   "metadata": {},
   "source": [
    "# Median Sale Price "
   ]
  },
  {
   "cell_type": "code",
   "execution_count": 129,
   "metadata": {},
   "outputs": [
    {
     "data": {
      "text/html": [
       "<div>\n",
       "<style scoped>\n",
       "    .dataframe tbody tr th:only-of-type {\n",
       "        vertical-align: middle;\n",
       "    }\n",
       "\n",
       "    .dataframe tbody tr th {\n",
       "        vertical-align: top;\n",
       "    }\n",
       "\n",
       "    .dataframe thead th {\n",
       "        text-align: right;\n",
       "    }\n",
       "</style>\n",
       "<table border=\"1\" class=\"dataframe\">\n",
       "  <thead>\n",
       "    <tr style=\"text-align: right;\">\n",
       "      <th></th>\n",
       "      <th>RegionID</th>\n",
       "      <th>SizeRank</th>\n",
       "      <th>RegionName</th>\n",
       "      <th>RegionType</th>\n",
       "      <th>StateName</th>\n",
       "      <th>2/23/2008</th>\n",
       "      <th>3/1/2008</th>\n",
       "      <th>3/8/2008</th>\n",
       "      <th>3/15/2008</th>\n",
       "      <th>3/22/2008</th>\n",
       "      <th>...</th>\n",
       "      <th>6/20/2020</th>\n",
       "      <th>6/27/2020</th>\n",
       "      <th>7/4/2020</th>\n",
       "      <th>7/11/2020</th>\n",
       "      <th>7/18/2020</th>\n",
       "      <th>7/25/2020</th>\n",
       "      <th>8/1/2020</th>\n",
       "      <th>8/8/2020</th>\n",
       "      <th>8/15/2020</th>\n",
       "      <th>8/22/2020</th>\n",
       "    </tr>\n",
       "  </thead>\n",
       "  <tbody>\n",
       "    <tr>\n",
       "      <th>0</th>\n",
       "      <td>102001</td>\n",
       "      <td>0</td>\n",
       "      <td>United States</td>\n",
       "      <td>Country</td>\n",
       "      <td>NaN</td>\n",
       "      <td>202677.0</td>\n",
       "      <td>202747.0</td>\n",
       "      <td>202257.0</td>\n",
       "      <td>201873.0</td>\n",
       "      <td>201850.0</td>\n",
       "      <td>...</td>\n",
       "      <td>267037</td>\n",
       "      <td>267673</td>\n",
       "      <td>269670</td>\n",
       "      <td>271861</td>\n",
       "      <td>273466</td>\n",
       "      <td>275489</td>\n",
       "      <td>275932</td>\n",
       "      <td>277047.0</td>\n",
       "      <td>277801.0</td>\n",
       "      <td>278595.0</td>\n",
       "    </tr>\n",
       "    <tr>\n",
       "      <th>1</th>\n",
       "      <td>394913</td>\n",
       "      <td>1</td>\n",
       "      <td>New York, NY</td>\n",
       "      <td>Msa</td>\n",
       "      <td>NY</td>\n",
       "      <td>NaN</td>\n",
       "      <td>NaN</td>\n",
       "      <td>NaN</td>\n",
       "      <td>NaN</td>\n",
       "      <td>NaN</td>\n",
       "      <td>...</td>\n",
       "      <td>434040</td>\n",
       "      <td>432603</td>\n",
       "      <td>433680</td>\n",
       "      <td>431969</td>\n",
       "      <td>433146</td>\n",
       "      <td>432294</td>\n",
       "      <td>433968</td>\n",
       "      <td>437629.0</td>\n",
       "      <td>440015.0</td>\n",
       "      <td>441896.0</td>\n",
       "    </tr>\n",
       "    <tr>\n",
       "      <th>2</th>\n",
       "      <td>753899</td>\n",
       "      <td>2</td>\n",
       "      <td>Los Angeles-Long Beach-Anaheim, CA</td>\n",
       "      <td>Msa</td>\n",
       "      <td>CA</td>\n",
       "      <td>514232.0</td>\n",
       "      <td>510894.0</td>\n",
       "      <td>507034.0</td>\n",
       "      <td>506298.0</td>\n",
       "      <td>502279.0</td>\n",
       "      <td>...</td>\n",
       "      <td>679775</td>\n",
       "      <td>679951</td>\n",
       "      <td>685348</td>\n",
       "      <td>688100</td>\n",
       "      <td>690707</td>\n",
       "      <td>694605</td>\n",
       "      <td>695155</td>\n",
       "      <td>698233.0</td>\n",
       "      <td>704817.0</td>\n",
       "      <td>706541.0</td>\n",
       "    </tr>\n",
       "    <tr>\n",
       "      <th>3</th>\n",
       "      <td>394463</td>\n",
       "      <td>3</td>\n",
       "      <td>Chicago, IL</td>\n",
       "      <td>Msa</td>\n",
       "      <td>IL</td>\n",
       "      <td>259849.0</td>\n",
       "      <td>260755.0</td>\n",
       "      <td>258484.0</td>\n",
       "      <td>257759.0</td>\n",
       "      <td>254957.0</td>\n",
       "      <td>...</td>\n",
       "      <td>245654</td>\n",
       "      <td>246339</td>\n",
       "      <td>246702</td>\n",
       "      <td>248206</td>\n",
       "      <td>249497</td>\n",
       "      <td>249427</td>\n",
       "      <td>250909</td>\n",
       "      <td>253268.0</td>\n",
       "      <td>254976.0</td>\n",
       "      <td>257348.0</td>\n",
       "    </tr>\n",
       "    <tr>\n",
       "      <th>4</th>\n",
       "      <td>394514</td>\n",
       "      <td>4</td>\n",
       "      <td>Dallas-Fort Worth, TX</td>\n",
       "      <td>Msa</td>\n",
       "      <td>TX</td>\n",
       "      <td>154425.0</td>\n",
       "      <td>152707.0</td>\n",
       "      <td>152883.0</td>\n",
       "      <td>152609.0</td>\n",
       "      <td>153028.0</td>\n",
       "      <td>...</td>\n",
       "      <td>280250</td>\n",
       "      <td>282081</td>\n",
       "      <td>283878</td>\n",
       "      <td>285911</td>\n",
       "      <td>286132</td>\n",
       "      <td>287928</td>\n",
       "      <td>288888</td>\n",
       "      <td>290070.0</td>\n",
       "      <td>291165.0</td>\n",
       "      <td>291204.0</td>\n",
       "    </tr>\n",
       "  </tbody>\n",
       "</table>\n",
       "<p>5 rows × 658 columns</p>\n",
       "</div>"
      ],
      "text/plain": [
       "   RegionID  SizeRank                          RegionName RegionType  \\\n",
       "0    102001         0                       United States    Country   \n",
       "1    394913         1                        New York, NY        Msa   \n",
       "2    753899         2  Los Angeles-Long Beach-Anaheim, CA        Msa   \n",
       "3    394463         3                         Chicago, IL        Msa   \n",
       "4    394514         4               Dallas-Fort Worth, TX        Msa   \n",
       "\n",
       "  StateName  2/23/2008  3/1/2008  3/8/2008  3/15/2008  3/22/2008  ...  \\\n",
       "0       NaN   202677.0  202747.0  202257.0   201873.0   201850.0  ...   \n",
       "1        NY        NaN       NaN       NaN        NaN        NaN  ...   \n",
       "2        CA   514232.0  510894.0  507034.0   506298.0   502279.0  ...   \n",
       "3        IL   259849.0  260755.0  258484.0   257759.0   254957.0  ...   \n",
       "4        TX   154425.0  152707.0  152883.0   152609.0   153028.0  ...   \n",
       "\n",
       "   6/20/2020  6/27/2020  7/4/2020  7/11/2020  7/18/2020  7/25/2020  8/1/2020  \\\n",
       "0     267037     267673    269670     271861     273466     275489    275932   \n",
       "1     434040     432603    433680     431969     433146     432294    433968   \n",
       "2     679775     679951    685348     688100     690707     694605    695155   \n",
       "3     245654     246339    246702     248206     249497     249427    250909   \n",
       "4     280250     282081    283878     285911     286132     287928    288888   \n",
       "\n",
       "   8/8/2020  8/15/2020  8/22/2020  \n",
       "0  277047.0   277801.0   278595.0  \n",
       "1  437629.0   440015.0   441896.0  \n",
       "2  698233.0   704817.0   706541.0  \n",
       "3  253268.0   254976.0   257348.0  \n",
       "4  290070.0   291165.0   291204.0  \n",
       "\n",
       "[5 rows x 658 columns]"
      ]
     },
     "execution_count": 129,
     "metadata": {},
     "output_type": "execute_result"
    }
   ],
   "source": [
    "#read csv file and transform into Data Frame \n",
    "path = \"Raw Data/median_price_all_home.csv\"\n",
    "data = pd.read_csv(path)\n",
    "data = pd.DataFrame(data)\n",
    "data.head()"
   ]
  },
  {
   "cell_type": "markdown",
   "metadata": {},
   "source": [
    "# Los Angeles-Long Beach-Anaheim, CA - Clean Data"
   ]
  },
  {
   "cell_type": "code",
   "execution_count": 130,
   "metadata": {},
   "outputs": [],
   "source": [
    "price = data[data['RegionName'].isin(['Los Angeles-Long Beach-Anaheim, CA'])]\n",
    "price = price.drop(columns=['RegionID', 'SizeRank','RegionName','RegionType','StateName'])"
   ]
  },
  {
   "cell_type": "code",
   "execution_count": 131,
   "metadata": {},
   "outputs": [
    {
     "data": {
      "text/html": [
       "<div>\n",
       "<style scoped>\n",
       "    .dataframe tbody tr th:only-of-type {\n",
       "        vertical-align: middle;\n",
       "    }\n",
       "\n",
       "    .dataframe tbody tr th {\n",
       "        vertical-align: top;\n",
       "    }\n",
       "\n",
       "    .dataframe thead th {\n",
       "        text-align: right;\n",
       "    }\n",
       "</style>\n",
       "<table border=\"1\" class=\"dataframe\">\n",
       "  <thead>\n",
       "    <tr style=\"text-align: right;\">\n",
       "      <th></th>\n",
       "      <th>2</th>\n",
       "    </tr>\n",
       "  </thead>\n",
       "  <tbody>\n",
       "    <tr>\n",
       "      <th>2/23/2008</th>\n",
       "      <td>514232.0</td>\n",
       "    </tr>\n",
       "    <tr>\n",
       "      <th>3/1/2008</th>\n",
       "      <td>510894.0</td>\n",
       "    </tr>\n",
       "    <tr>\n",
       "      <th>3/8/2008</th>\n",
       "      <td>507034.0</td>\n",
       "    </tr>\n",
       "    <tr>\n",
       "      <th>3/15/2008</th>\n",
       "      <td>506298.0</td>\n",
       "    </tr>\n",
       "    <tr>\n",
       "      <th>3/22/2008</th>\n",
       "      <td>502279.0</td>\n",
       "    </tr>\n",
       "  </tbody>\n",
       "</table>\n",
       "</div>"
      ],
      "text/plain": [
       "                  2\n",
       "2/23/2008  514232.0\n",
       "3/1/2008   510894.0\n",
       "3/8/2008   507034.0\n",
       "3/15/2008  506298.0\n",
       "3/22/2008  502279.0"
      ]
     },
     "execution_count": 131,
     "metadata": {},
     "output_type": "execute_result"
    }
   ],
   "source": [
    "price = price.transpose()\n",
    "price.head()"
   ]
  },
  {
   "cell_type": "code",
   "execution_count": 132,
   "metadata": {},
   "outputs": [],
   "source": [
    "price = price.reset_index()"
   ]
  },
  {
   "cell_type": "code",
   "execution_count": 133,
   "metadata": {},
   "outputs": [],
   "source": [
    "price = price[['index',2]].copy()\n",
    "price.columns =['date','price']"
   ]
  },
  {
   "cell_type": "code",
   "execution_count": 134,
   "metadata": {
    "scrolled": true
   },
   "outputs": [
    {
     "data": {
      "text/html": [
       "<div>\n",
       "<style scoped>\n",
       "    .dataframe tbody tr th:only-of-type {\n",
       "        vertical-align: middle;\n",
       "    }\n",
       "\n",
       "    .dataframe tbody tr th {\n",
       "        vertical-align: top;\n",
       "    }\n",
       "\n",
       "    .dataframe thead th {\n",
       "        text-align: right;\n",
       "    }\n",
       "</style>\n",
       "<table border=\"1\" class=\"dataframe\">\n",
       "  <thead>\n",
       "    <tr style=\"text-align: right;\">\n",
       "      <th></th>\n",
       "      <th>date</th>\n",
       "      <th>price</th>\n",
       "    </tr>\n",
       "  </thead>\n",
       "  <tbody>\n",
       "    <tr>\n",
       "      <th>0</th>\n",
       "      <td>2/23/2008</td>\n",
       "      <td>514232.0</td>\n",
       "    </tr>\n",
       "    <tr>\n",
       "      <th>1</th>\n",
       "      <td>3/1/2008</td>\n",
       "      <td>510894.0</td>\n",
       "    </tr>\n",
       "    <tr>\n",
       "      <th>2</th>\n",
       "      <td>3/8/2008</td>\n",
       "      <td>507034.0</td>\n",
       "    </tr>\n",
       "    <tr>\n",
       "      <th>3</th>\n",
       "      <td>3/15/2008</td>\n",
       "      <td>506298.0</td>\n",
       "    </tr>\n",
       "    <tr>\n",
       "      <th>4</th>\n",
       "      <td>3/22/2008</td>\n",
       "      <td>502279.0</td>\n",
       "    </tr>\n",
       "  </tbody>\n",
       "</table>\n",
       "</div>"
      ],
      "text/plain": [
       "        date     price\n",
       "0  2/23/2008  514232.0\n",
       "1   3/1/2008  510894.0\n",
       "2   3/8/2008  507034.0\n",
       "3  3/15/2008  506298.0\n",
       "4  3/22/2008  502279.0"
      ]
     },
     "execution_count": 134,
     "metadata": {},
     "output_type": "execute_result"
    }
   ],
   "source": [
    "price.head()"
   ]
  },
  {
   "cell_type": "code",
   "execution_count": 135,
   "metadata": {},
   "outputs": [
    {
     "data": {
      "text/html": [
       "<div>\n",
       "<style scoped>\n",
       "    .dataframe tbody tr th:only-of-type {\n",
       "        vertical-align: middle;\n",
       "    }\n",
       "\n",
       "    .dataframe tbody tr th {\n",
       "        vertical-align: top;\n",
       "    }\n",
       "\n",
       "    .dataframe thead th {\n",
       "        text-align: right;\n",
       "    }\n",
       "</style>\n",
       "<table border=\"1\" class=\"dataframe\">\n",
       "  <thead>\n",
       "    <tr style=\"text-align: right;\">\n",
       "      <th></th>\n",
       "      <th>price</th>\n",
       "    </tr>\n",
       "    <tr>\n",
       "      <th>date</th>\n",
       "      <th></th>\n",
       "    </tr>\n",
       "  </thead>\n",
       "  <tbody>\n",
       "    <tr>\n",
       "      <th>2008-02-23</th>\n",
       "      <td>514232.0</td>\n",
       "    </tr>\n",
       "    <tr>\n",
       "      <th>2008-03-01</th>\n",
       "      <td>510894.0</td>\n",
       "    </tr>\n",
       "    <tr>\n",
       "      <th>2008-03-08</th>\n",
       "      <td>507034.0</td>\n",
       "    </tr>\n",
       "    <tr>\n",
       "      <th>2008-03-15</th>\n",
       "      <td>506298.0</td>\n",
       "    </tr>\n",
       "    <tr>\n",
       "      <th>2008-03-22</th>\n",
       "      <td>502279.0</td>\n",
       "    </tr>\n",
       "  </tbody>\n",
       "</table>\n",
       "</div>"
      ],
      "text/plain": [
       "               price\n",
       "date                \n",
       "2008-02-23  514232.0\n",
       "2008-03-01  510894.0\n",
       "2008-03-08  507034.0\n",
       "2008-03-15  506298.0\n",
       "2008-03-22  502279.0"
      ]
     },
     "execution_count": 135,
     "metadata": {},
     "output_type": "execute_result"
    }
   ],
   "source": [
    "price['date'] = price.date.astype('datetime64')\n",
    "price = price.set_index('date')\n",
    "price.head()"
   ]
  },
  {
   "cell_type": "code",
   "execution_count": 136,
   "metadata": {},
   "outputs": [
    {
     "data": {
      "text/html": [
       "<div>\n",
       "<style scoped>\n",
       "    .dataframe tbody tr th:only-of-type {\n",
       "        vertical-align: middle;\n",
       "    }\n",
       "\n",
       "    .dataframe tbody tr th {\n",
       "        vertical-align: top;\n",
       "    }\n",
       "\n",
       "    .dataframe thead th {\n",
       "        text-align: right;\n",
       "    }\n",
       "</style>\n",
       "<table border=\"1\" class=\"dataframe\">\n",
       "  <thead>\n",
       "    <tr style=\"text-align: right;\">\n",
       "      <th></th>\n",
       "      <th>price</th>\n",
       "    </tr>\n",
       "    <tr>\n",
       "      <th>date</th>\n",
       "      <th></th>\n",
       "    </tr>\n",
       "  </thead>\n",
       "  <tbody>\n",
       "    <tr>\n",
       "      <th>2008-02-23</th>\n",
       "      <td>514232.0</td>\n",
       "    </tr>\n",
       "    <tr>\n",
       "      <th>2008-03-01</th>\n",
       "      <td>510894.0</td>\n",
       "    </tr>\n",
       "    <tr>\n",
       "      <th>2008-03-08</th>\n",
       "      <td>507034.0</td>\n",
       "    </tr>\n",
       "    <tr>\n",
       "      <th>2008-03-15</th>\n",
       "      <td>506298.0</td>\n",
       "    </tr>\n",
       "    <tr>\n",
       "      <th>2008-03-22</th>\n",
       "      <td>502279.0</td>\n",
       "    </tr>\n",
       "  </tbody>\n",
       "</table>\n",
       "</div>"
      ],
      "text/plain": [
       "               price\n",
       "date                \n",
       "2008-02-23  514232.0\n",
       "2008-03-01  510894.0\n",
       "2008-03-08  507034.0\n",
       "2008-03-15  506298.0\n",
       "2008-03-22  502279.0"
      ]
     },
     "execution_count": 136,
     "metadata": {},
     "output_type": "execute_result"
    }
   ],
   "source": [
    "price = price.dropna()\n",
    "price.head()"
   ]
  },
  {
   "cell_type": "markdown",
   "metadata": {},
   "source": [
    "# Split Train/Test Data"
   ]
  },
  {
   "cell_type": "code",
   "execution_count": 137,
   "metadata": {},
   "outputs": [
    {
     "name": "stdout",
     "output_type": "stream",
     "text": [
      "489 164\n",
      "               price\n",
      "date                \n",
      "2008-02-23  514232.0\n",
      "2008-03-01  510894.0\n",
      "2008-03-08  507034.0\n",
      "2008-03-15  506298.0\n",
      "2008-03-22  502279.0\n",
      "               price\n",
      "date                \n",
      "2017-07-08  606282.0\n",
      "2017-07-15  607670.0\n",
      "2017-07-22  609520.0\n",
      "2017-07-29  605744.0\n",
      "2017-08-05  600499.0\n",
      "               price\n",
      "date                \n",
      "2008-02-23  514232.0\n",
      "2008-03-01  510894.0\n",
      "2008-03-08  507034.0\n",
      "2008-03-15  506298.0\n",
      "2008-03-22  502279.0\n"
     ]
    }
   ],
   "source": [
    "train, test = temporal_train_test_split(price)\n",
    "print(train.shape[0], test.shape[0])\n",
    "print(train.head())\n",
    "print(test.head())\n",
    "combine = pd.concat([train,test])\n",
    "print(combine.head())"
   ]
  },
  {
   "cell_type": "code",
   "execution_count": 138,
   "metadata": {},
   "outputs": [
    {
     "data": {
      "text/plain": [
       "<matplotlib.axes._subplots.AxesSubplot at 0x25ae1051848>"
      ]
     },
     "execution_count": 138,
     "metadata": {},
     "output_type": "execute_result"
    },
    {
     "data": {
      "image/png": "[encoded data removed]",
      "text/plain": [
       "<Figure size 720x360 with 1 Axes>"
      ]
     },
     "metadata": {
      "needs_background": "light"
     },
     "output_type": "display_data"
    }
   ],
   "source": [
    "train.price.plot(figsize=(10,5), fontsize=11)\n",
    "test.price.plot(figsize=(10,5), fontsize=11)"
   ]
  },
  {
   "cell_type": "markdown",
   "metadata": {},
   "source": [
    "# ARIMA"
   ]
  },
  {
   "cell_type": "code",
   "execution_count": 139,
   "metadata": {},
   "outputs": [
    {
     "name": "stderr",
     "output_type": "stream",
     "text": [
      "C:\\Users\\emmayianpan\\AppData\\Roaming\\Python\\Python37\\site-packages\\statsmodels\\tsa\\base\\tsa_model.py:162: ValueWarning: No frequency information was provided, so inferred frequency W-SAT will be used.\n",
      "  % freq, ValueWarning)\n",
      "C:\\Users\\emmayianpan\\AppData\\Roaming\\Python\\Python37\\site-packages\\statsmodels\\tsa\\base\\tsa_model.py:162: ValueWarning: No frequency information was provided, so inferred frequency W-SAT will be used.\n",
      "  % freq, ValueWarning)\n",
      "C:\\ProgramData\\Anaconda3\\lib\\site-packages\\ipykernel_launcher.py:4: SettingWithCopyWarning: \n",
      "A value is trying to be set on a copy of a slice from a DataFrame.\n",
      "Try using .loc[row_indexer,col_indexer] = value instead\n",
      "\n",
      "See the caveats in the documentation: https://pandas.pydata.org/pandas-docs/stable/user_guide/indexing.html#returning-a-view-versus-a-copy\n",
      "  after removing the cwd from sys.path.\n"
     ]
    },
    {
     "data": {
      "text/html": [
       "<div>\n",
       "<style scoped>\n",
       "    .dataframe tbody tr th:only-of-type {\n",
       "        vertical-align: middle;\n",
       "    }\n",
       "\n",
       "    .dataframe tbody tr th {\n",
       "        vertical-align: top;\n",
       "    }\n",
       "\n",
       "    .dataframe thead th {\n",
       "        text-align: right;\n",
       "    }\n",
       "</style>\n",
       "<table border=\"1\" class=\"dataframe\">\n",
       "  <thead>\n",
       "    <tr style=\"text-align: right;\">\n",
       "      <th></th>\n",
       "      <th>price</th>\n",
       "      <th>arima</th>\n",
       "    </tr>\n",
       "    <tr>\n",
       "      <th>date</th>\n",
       "      <th></th>\n",
       "      <th></th>\n",
       "    </tr>\n",
       "  </thead>\n",
       "  <tbody>\n",
       "    <tr>\n",
       "      <th>2020-07-25</th>\n",
       "      <td>694605.0</td>\n",
       "      <td>628829.309019</td>\n",
       "    </tr>\n",
       "    <tr>\n",
       "      <th>2020-08-01</th>\n",
       "      <td>695155.0</td>\n",
       "      <td>629004.895085</td>\n",
       "    </tr>\n",
       "    <tr>\n",
       "      <th>2020-08-08</th>\n",
       "      <td>698233.0</td>\n",
       "      <td>629180.481151</td>\n",
       "    </tr>\n",
       "    <tr>\n",
       "      <th>2020-08-15</th>\n",
       "      <td>704817.0</td>\n",
       "      <td>629356.067217</td>\n",
       "    </tr>\n",
       "    <tr>\n",
       "      <th>2020-08-22</th>\n",
       "      <td>706541.0</td>\n",
       "      <td>629531.653284</td>\n",
       "    </tr>\n",
       "  </tbody>\n",
       "</table>\n",
       "</div>"
      ],
      "text/plain": [
       "               price          arima\n",
       "date                               \n",
       "2020-07-25  694605.0  628829.309019\n",
       "2020-08-01  695155.0  629004.895085\n",
       "2020-08-08  698233.0  629180.481151\n",
       "2020-08-15  704817.0  629356.067217\n",
       "2020-08-22  706541.0  629531.653284"
      ]
     },
     "execution_count": 139,
     "metadata": {},
     "output_type": "execute_result"
    }
   ],
   "source": [
    "#https://machinelearningmastery.com/arima-for-time-series-forecasting-with-python/\n",
    "arima = ARIMA(train.price, order=(0, 1, 1)).fit()\n",
    "fcst_arima = pd.DataFrame(arima.forecast(164)[0], index=test.index)\n",
    "test['arima'] = fcst_arima\n",
    "test.tail()"
   ]
  },
  {
   "cell_type": "code",
   "execution_count": 140,
   "metadata": {},
   "outputs": [
    {
     "data": {
      "image/png": "[encoded data removed]",
      "text/plain": [
       "<Figure size 720x360 with 1 Axes>"
      ]
     },
     "metadata": {
      "needs_background": "light"
     },
     "output_type": "display_data"
    }
   ],
   "source": [
    "#ARIMA chart\n",
    "plt.figure(figsize=(10,5))\n",
    "plt.plot(train['price'], label='Train')\n",
    "plt.plot(test['price'], label='Test')\n",
    "plt.plot(test['arima'], label='ARIMA', color='green')\n",
    "\n",
    "lower_series = test['price']\n",
    "upper_series = test['arima']\n",
    "\n",
    "plt.fill_between(lower_series.index, lower_series, upper_series, \n",
    "                 color='k', alpha=.15)\n",
    "\n",
    "plt.xlabel('Year')\n",
    "plt.ylabel('Price')\n",
    "plt.legend(loc='best')\n",
    "plt.show()"
   ]
  },
  {
   "cell_type": "code",
   "execution_count": 141,
   "metadata": {},
   "outputs": [
    {
     "name": "stdout",
     "output_type": "stream",
     "text": [
      "RMSE = 32984.97646415513\n"
     ]
    }
   ],
   "source": [
    "RMSE_arima = sm.tools.eval_measures.rmse(test.price,test['arima'])\n",
    "print('RMSE', '=', RMSE_arima)"
   ]
  },
  {
   "cell_type": "markdown",
   "metadata": {},
   "source": [
    "# Moving Average"
   ]
  },
  {
   "cell_type": "code",
   "execution_count": 142,
   "metadata": {},
   "outputs": [
    {
     "name": "stderr",
     "output_type": "stream",
     "text": [
      "C:\\ProgramData\\Anaconda3\\lib\\site-packages\\ipykernel_launcher.py:3: SettingWithCopyWarning: \n",
      "A value is trying to be set on a copy of a slice from a DataFrame.\n",
      "Try using .loc[row_indexer,col_indexer] = value instead\n",
      "\n",
      "See the caveats in the documentation: https://pandas.pydata.org/pandas-docs/stable/user_guide/indexing.html#returning-a-view-versus-a-copy\n",
      "  This is separate from the ipykernel package so we can avoid doing imports until\n"
     ]
    },
    {
     "data": {
      "text/html": [
       "<div>\n",
       "<style scoped>\n",
       "    .dataframe tbody tr th:only-of-type {\n",
       "        vertical-align: middle;\n",
       "    }\n",
       "\n",
       "    .dataframe tbody tr th {\n",
       "        vertical-align: top;\n",
       "    }\n",
       "\n",
       "    .dataframe thead th {\n",
       "        text-align: right;\n",
       "    }\n",
       "</style>\n",
       "<table border=\"1\" class=\"dataframe\">\n",
       "  <thead>\n",
       "    <tr style=\"text-align: right;\">\n",
       "      <th></th>\n",
       "      <th>price</th>\n",
       "      <th>arima</th>\n",
       "      <th>ma</th>\n",
       "    </tr>\n",
       "    <tr>\n",
       "      <th>date</th>\n",
       "      <th></th>\n",
       "      <th></th>\n",
       "      <th></th>\n",
       "    </tr>\n",
       "  </thead>\n",
       "  <tbody>\n",
       "    <tr>\n",
       "      <th>2017-07-08</th>\n",
       "      <td>606282.0</td>\n",
       "      <td>600911.124486</td>\n",
       "      <td>595530.8</td>\n",
       "    </tr>\n",
       "    <tr>\n",
       "      <th>2017-07-15</th>\n",
       "      <td>607670.0</td>\n",
       "      <td>601086.710553</td>\n",
       "      <td>597744.2</td>\n",
       "    </tr>\n",
       "    <tr>\n",
       "      <th>2017-07-22</th>\n",
       "      <td>609520.0</td>\n",
       "      <td>601262.296619</td>\n",
       "      <td>600491.6</td>\n",
       "    </tr>\n",
       "    <tr>\n",
       "      <th>2017-07-29</th>\n",
       "      <td>605744.0</td>\n",
       "      <td>601437.882685</td>\n",
       "      <td>603550.6</td>\n",
       "    </tr>\n",
       "    <tr>\n",
       "      <th>2017-08-05</th>\n",
       "      <td>600499.0</td>\n",
       "      <td>601613.468751</td>\n",
       "      <td>605826.8</td>\n",
       "    </tr>\n",
       "  </tbody>\n",
       "</table>\n",
       "</div>"
      ],
      "text/plain": [
       "               price          arima        ma\n",
       "date                                         \n",
       "2017-07-08  606282.0  600911.124486  595530.8\n",
       "2017-07-15  607670.0  601086.710553  597744.2\n",
       "2017-07-22  609520.0  601262.296619  600491.6\n",
       "2017-07-29  605744.0  601437.882685  603550.6\n",
       "2017-08-05  600499.0  601613.468751  605826.8"
      ]
     },
     "execution_count": 142,
     "metadata": {},
     "output_type": "execute_result"
    }
   ],
   "source": [
    "ma = price['price'].rolling(5).mean().shift()\n",
    "fcst_ma = ma.loc[test.index]\n",
    "test['ma'] = fcst_ma\n",
    "test.head()"
   ]
  },
  {
   "cell_type": "code",
   "execution_count": 143,
   "metadata": {},
   "outputs": [
    {
     "data": {
      "image/png": "[encoded data removed]",
      "text/plain": [
       "<Figure size 720x360 with 1 Axes>"
      ]
     },
     "metadata": {
      "needs_background": "light"
     },
     "output_type": "display_data"
    }
   ],
   "source": [
    "#Moving Average chart\n",
    "plt.figure(figsize=(10,5))\n",
    "plt.plot(train['price'], label='Train')\n",
    "plt.plot(test['price'], label='Test')\n",
    "plt.plot(test['ma'], label='Moving Average', color='green')\n",
    "\n",
    "lower_series = test['price']\n",
    "upper_series = test['ma']\n",
    "\n",
    "plt.fill_between(lower_series.index, lower_series, upper_series, \n",
    "                 color='k', alpha=.15)\n",
    "\n",
    "plt.xlabel('Year')\n",
    "plt.ylabel('Price')\n",
    "plt.legend(loc='best')\n",
    "plt.show()"
   ]
  },
  {
   "cell_type": "code",
   "execution_count": 144,
   "metadata": {},
   "outputs": [
    {
     "name": "stdout",
     "output_type": "stream",
     "text": [
      "RMSE = 9707.984096821876\n"
     ]
    }
   ],
   "source": [
    "RMSE_ma = sm.tools.eval_measures.rmse(test.price,test['ma'])\n",
    "print('RMSE', '=', RMSE_ma)"
   ]
  },
  {
   "cell_type": "markdown",
   "metadata": {},
   "source": [
    "# Naive"
   ]
  },
  {
   "cell_type": "code",
   "execution_count": 145,
   "metadata": {},
   "outputs": [
    {
     "name": "stderr",
     "output_type": "stream",
     "text": [
      "C:\\Users\\emmayianpan\\AppData\\Roaming\\Python\\Python37\\site-packages\\statsmodels\\tsa\\base\\tsa_model.py:162: ValueWarning: No frequency information was provided, so inferred frequency W-SAT will be used.\n",
      "  % freq, ValueWarning)\n",
      "C:\\Users\\emmayianpan\\AppData\\Roaming\\Python\\Python37\\site-packages\\statsmodels\\tsa\\base\\tsa_model.py:162: ValueWarning: No frequency information was provided, so inferred frequency W-SAT will be used.\n",
      "  % freq, ValueWarning)\n",
      "C:\\ProgramData\\Anaconda3\\lib\\site-packages\\ipykernel_launcher.py:4: SettingWithCopyWarning: \n",
      "A value is trying to be set on a copy of a slice from a DataFrame.\n",
      "Try using .loc[row_indexer,col_indexer] = value instead\n",
      "\n",
      "See the caveats in the documentation: https://pandas.pydata.org/pandas-docs/stable/user_guide/indexing.html#returning-a-view-versus-a-copy\n",
      "  after removing the cwd from sys.path.\n"
     ]
    },
    {
     "data": {
      "text/html": [
       "<div>\n",
       "<style scoped>\n",
       "    .dataframe tbody tr th:only-of-type {\n",
       "        vertical-align: middle;\n",
       "    }\n",
       "\n",
       "    .dataframe tbody tr th {\n",
       "        vertical-align: top;\n",
       "    }\n",
       "\n",
       "    .dataframe thead th {\n",
       "        text-align: right;\n",
       "    }\n",
       "</style>\n",
       "<table border=\"1\" class=\"dataframe\">\n",
       "  <thead>\n",
       "    <tr style=\"text-align: right;\">\n",
       "      <th></th>\n",
       "      <th>price</th>\n",
       "      <th>arima</th>\n",
       "      <th>ma</th>\n",
       "      <th>naive</th>\n",
       "    </tr>\n",
       "    <tr>\n",
       "      <th>date</th>\n",
       "      <th></th>\n",
       "      <th></th>\n",
       "      <th></th>\n",
       "      <th></th>\n",
       "    </tr>\n",
       "  </thead>\n",
       "  <tbody>\n",
       "    <tr>\n",
       "      <th>2020-07-25</th>\n",
       "      <td>694605.0</td>\n",
       "      <td>628829.309019</td>\n",
       "      <td>684776.2</td>\n",
       "      <td>690707.0</td>\n",
       "    </tr>\n",
       "    <tr>\n",
       "      <th>2020-08-01</th>\n",
       "      <td>695155.0</td>\n",
       "      <td>629004.895085</td>\n",
       "      <td>687742.2</td>\n",
       "      <td>694605.0</td>\n",
       "    </tr>\n",
       "    <tr>\n",
       "      <th>2020-08-08</th>\n",
       "      <td>698233.0</td>\n",
       "      <td>629180.481151</td>\n",
       "      <td>690783.0</td>\n",
       "      <td>695155.0</td>\n",
       "    </tr>\n",
       "    <tr>\n",
       "      <th>2020-08-15</th>\n",
       "      <td>704817.0</td>\n",
       "      <td>629356.067217</td>\n",
       "      <td>693360.0</td>\n",
       "      <td>698233.0</td>\n",
       "    </tr>\n",
       "    <tr>\n",
       "      <th>2020-08-22</th>\n",
       "      <td>706541.0</td>\n",
       "      <td>629531.653284</td>\n",
       "      <td>696703.4</td>\n",
       "      <td>704817.0</td>\n",
       "    </tr>\n",
       "  </tbody>\n",
       "</table>\n",
       "</div>"
      ],
      "text/plain": [
       "               price          arima        ma     naive\n",
       "date                                                   \n",
       "2020-07-25  694605.0  628829.309019  684776.2  690707.0\n",
       "2020-08-01  695155.0  629004.895085  687742.2  694605.0\n",
       "2020-08-08  698233.0  629180.481151  690783.0  695155.0\n",
       "2020-08-15  704817.0  629356.067217  693360.0  698233.0\n",
       "2020-08-22  706541.0  629531.653284  696703.4  704817.0"
      ]
     },
     "execution_count": 145,
     "metadata": {},
     "output_type": "execute_result"
    }
   ],
   "source": [
    "#Naive (using SES with alpha=1)\n",
    "naive = SimpleExpSmoothing(train.price).fit(smoothing_level=1, optimized=False)\n",
    "fcst_naive = SimpleExpSmoothing(combine.price).fit(smoothing_level=1, optimized=False)\n",
    "test['naive'] = fcst_naive.fittedvalues.loc[test.index]\n",
    "test.tail()"
   ]
  },
  {
   "cell_type": "code",
   "execution_count": 146,
   "metadata": {},
   "outputs": [
    {
     "data": {
      "image/png": "[encoded data removed]",
      "text/plain": [
       "<Figure size 720x360 with 1 Axes>"
      ]
     },
     "metadata": {
      "needs_background": "light"
     },
     "output_type": "display_data"
    }
   ],
   "source": [
    "#Naive chart\n",
    "plt.figure(figsize=(10,5))\n",
    "plt.plot(train['price'], label='Train')\n",
    "plt.plot(test['price'], label='Test')\n",
    "plt.plot(test['naive'], label='Naive', color='green')\n",
    "\n",
    "lower_series = test['price']\n",
    "upper_series = test['naive']\n",
    "\n",
    "plt.fill_between(lower_series.index, lower_series, upper_series, \n",
    "                 color='k', alpha=.15)\n",
    "\n",
    "plt.ylabel('Price')\n",
    "plt.xlabel('Year')\n",
    "plt.legend(loc='best')\n",
    "plt.show()"
   ]
  },
  {
   "cell_type": "code",
   "execution_count": 147,
   "metadata": {
    "scrolled": true
   },
   "outputs": [
    {
     "name": "stdout",
     "output_type": "stream",
     "text": [
      "RMSE = 10214.124138697929\n"
     ]
    }
   ],
   "source": [
    "RMSE_naive = sm.tools.eval_measures.rmse(test.price,test['naive'])\n",
    "print('RMSE', '=', RMSE_naive)"
   ]
  },
  {
   "cell_type": "markdown",
   "metadata": {},
   "source": [
    "# Simple Exponenital Smoothing "
   ]
  },
  {
   "cell_type": "code",
   "execution_count": 148,
   "metadata": {
    "scrolled": true
   },
   "outputs": [
    {
     "name": "stderr",
     "output_type": "stream",
     "text": [
      "C:\\Users\\emmayianpan\\AppData\\Roaming\\Python\\Python37\\site-packages\\statsmodels\\tsa\\base\\tsa_model.py:162: ValueWarning: No frequency information was provided, so inferred frequency W-SAT will be used.\n",
      "  % freq, ValueWarning)\n",
      "C:\\Users\\emmayianpan\\AppData\\Roaming\\Python\\Python37\\site-packages\\statsmodels\\tsa\\holtwinters.py:731: RuntimeWarning: invalid value encountered in greater_equal\n",
      "  loc = initial_p >= ub\n",
      "C:\\Users\\emmayianpan\\AppData\\Roaming\\Python\\Python37\\site-packages\\statsmodels\\tsa\\base\\tsa_model.py:162: ValueWarning: No frequency information was provided, so inferred frequency W-SAT will be used.\n",
      "  % freq, ValueWarning)\n",
      "C:\\ProgramData\\Anaconda3\\lib\\site-packages\\ipykernel_launcher.py:4: SettingWithCopyWarning: \n",
      "A value is trying to be set on a copy of a slice from a DataFrame.\n",
      "Try using .loc[row_indexer,col_indexer] = value instead\n",
      "\n",
      "See the caveats in the documentation: https://pandas.pydata.org/pandas-docs/stable/user_guide/indexing.html#returning-a-view-versus-a-copy\n",
      "  after removing the cwd from sys.path.\n"
     ]
    },
    {
     "data": {
      "text/html": [
       "<div>\n",
       "<style scoped>\n",
       "    .dataframe tbody tr th:only-of-type {\n",
       "        vertical-align: middle;\n",
       "    }\n",
       "\n",
       "    .dataframe tbody tr th {\n",
       "        vertical-align: top;\n",
       "    }\n",
       "\n",
       "    .dataframe thead th {\n",
       "        text-align: right;\n",
       "    }\n",
       "</style>\n",
       "<table border=\"1\" class=\"dataframe\">\n",
       "  <thead>\n",
       "    <tr style=\"text-align: right;\">\n",
       "      <th></th>\n",
       "      <th>price</th>\n",
       "      <th>arima</th>\n",
       "      <th>ma</th>\n",
       "      <th>naive</th>\n",
       "      <th>ses</th>\n",
       "    </tr>\n",
       "    <tr>\n",
       "      <th>date</th>\n",
       "      <th></th>\n",
       "      <th></th>\n",
       "      <th></th>\n",
       "      <th></th>\n",
       "      <th></th>\n",
       "    </tr>\n",
       "  </thead>\n",
       "  <tbody>\n",
       "    <tr>\n",
       "      <th>2017-07-08</th>\n",
       "      <td>606282.0</td>\n",
       "      <td>600911.124486</td>\n",
       "      <td>595530.8</td>\n",
       "      <td>599918.0</td>\n",
       "      <td>606282.0</td>\n",
       "    </tr>\n",
       "    <tr>\n",
       "      <th>2017-07-15</th>\n",
       "      <td>607670.0</td>\n",
       "      <td>601086.710553</td>\n",
       "      <td>597744.2</td>\n",
       "      <td>606282.0</td>\n",
       "      <td>606282.0</td>\n",
       "    </tr>\n",
       "    <tr>\n",
       "      <th>2017-07-22</th>\n",
       "      <td>609520.0</td>\n",
       "      <td>601262.296619</td>\n",
       "      <td>600491.6</td>\n",
       "      <td>607670.0</td>\n",
       "      <td>607670.0</td>\n",
       "    </tr>\n",
       "    <tr>\n",
       "      <th>2017-07-29</th>\n",
       "      <td>605744.0</td>\n",
       "      <td>601437.882685</td>\n",
       "      <td>603550.6</td>\n",
       "      <td>609520.0</td>\n",
       "      <td>609520.0</td>\n",
       "    </tr>\n",
       "    <tr>\n",
       "      <th>2017-08-05</th>\n",
       "      <td>600499.0</td>\n",
       "      <td>601613.468751</td>\n",
       "      <td>605826.8</td>\n",
       "      <td>605744.0</td>\n",
       "      <td>605744.0</td>\n",
       "    </tr>\n",
       "  </tbody>\n",
       "</table>\n",
       "</div>"
      ],
      "text/plain": [
       "               price          arima        ma     naive       ses\n",
       "date                                                             \n",
       "2017-07-08  606282.0  600911.124486  595530.8  599918.0  606282.0\n",
       "2017-07-15  607670.0  601086.710553  597744.2  606282.0  606282.0\n",
       "2017-07-22  609520.0  601262.296619  600491.6  607670.0  607670.0\n",
       "2017-07-29  605744.0  601437.882685  603550.6  609520.0  609520.0\n",
       "2017-08-05  600499.0  601613.468751  605826.8  605744.0  605744.0"
      ]
     },
     "execution_count": 148,
     "metadata": {},
     "output_type": "execute_result"
    }
   ],
   "source": [
    "#Simple Exponenital Smoothing\n",
    "ses = SimpleExpSmoothing(train.price).fit()\n",
    "fcst_ses = SimpleExpSmoothing(test.price).fit(smoothing_level=ses.model.params['smoothing_level'], optimized=False)\n",
    "test['ses'] = fcst_ses.fittedvalues\n",
    "test.head()"
   ]
  },
  {
   "cell_type": "code",
   "execution_count": 149,
   "metadata": {},
   "outputs": [
    {
     "data": {
      "image/png": "[encoded data removed]",
      "text/plain": [
       "<Figure size 720x360 with 1 Axes>"
      ]
     },
     "metadata": {
      "needs_background": "light"
     },
     "output_type": "display_data"
    }
   ],
   "source": [
    "#Simple Exponenital Smoothing chart\n",
    "plt.figure(figsize=(10,5))\n",
    "plt.plot(train['price'], label='Train')\n",
    "plt.plot(test['price'], label='Test')\n",
    "plt.plot(test['ses'], label='SES \\u03B1='+ \"{:.4f}\".format(ses.model.params['smoothing_level']), color='green')\n",
    "\n",
    "lower_series = test['price']\n",
    "upper_series = test['ses']\n",
    "\n",
    "plt.fill_between(lower_series.index, lower_series, upper_series, \n",
    "                 color='k', alpha=.15)\n",
    "\n",
    "plt.ylabel('Price')\n",
    "plt.xlabel('Year')\n",
    "plt.legend(loc='best')\n",
    "plt.show()"
   ]
  },
  {
   "cell_type": "code",
   "execution_count": 150,
   "metadata": {
    "scrolled": true
   },
   "outputs": [
    {
     "name": "stdout",
     "output_type": "stream",
     "text": [
      "RMSE = 10202.028115861534\n"
     ]
    }
   ],
   "source": [
    "RMSE_ses = sm.tools.eval_measures.rmse(test.price,test['ses'])\n",
    "print('RMSE', '=', RMSE_ses)"
   ]
  },
  {
   "cell_type": "markdown",
   "metadata": {},
   "source": [
    "# Holt Winter (Additive)"
   ]
  },
  {
   "cell_type": "code",
   "execution_count": 151,
   "metadata": {},
   "outputs": [
    {
     "name": "stderr",
     "output_type": "stream",
     "text": [
      "C:\\Users\\emmayianpan\\AppData\\Roaming\\Python\\Python37\\site-packages\\statsmodels\\tsa\\base\\tsa_model.py:162: ValueWarning: No frequency information was provided, so inferred frequency W-SAT will be used.\n",
      "  % freq, ValueWarning)\n",
      "C:\\Users\\emmayianpan\\AppData\\Roaming\\Python\\Python37\\site-packages\\statsmodels\\tsa\\holtwinters.py:725: RuntimeWarning: invalid value encountered in less_equal\n",
      "  loc = initial_p <= lb\n",
      "C:\\Users\\emmayianpan\\AppData\\Roaming\\Python\\Python37\\site-packages\\statsmodels\\tsa\\holtwinters.py:731: RuntimeWarning: invalid value encountered in greater_equal\n",
      "  loc = initial_p >= ub\n",
      "C:\\Users\\emmayianpan\\AppData\\Roaming\\Python\\Python37\\site-packages\\statsmodels\\tsa\\holtwinters.py:744: ConvergenceWarning: Optimization failed to converge. Check mle_retvals.\n",
      "  ConvergenceWarning)\n",
      "C:\\Users\\emmayianpan\\AppData\\Roaming\\Python\\Python37\\site-packages\\statsmodels\\tsa\\base\\tsa_model.py:162: ValueWarning: No frequency information was provided, so inferred frequency W-SAT will be used.\n",
      "  % freq, ValueWarning)\n",
      "C:\\ProgramData\\Anaconda3\\lib\\site-packages\\ipykernel_launcher.py:4: SettingWithCopyWarning: \n",
      "A value is trying to be set on a copy of a slice from a DataFrame.\n",
      "Try using .loc[row_indexer,col_indexer] = value instead\n",
      "\n",
      "See the caveats in the documentation: https://pandas.pydata.org/pandas-docs/stable/user_guide/indexing.html#returning-a-view-versus-a-copy\n",
      "  after removing the cwd from sys.path.\n"
     ]
    },
    {
     "data": {
      "text/html": [
       "<div>\n",
       "<style scoped>\n",
       "    .dataframe tbody tr th:only-of-type {\n",
       "        vertical-align: middle;\n",
       "    }\n",
       "\n",
       "    .dataframe tbody tr th {\n",
       "        vertical-align: top;\n",
       "    }\n",
       "\n",
       "    .dataframe thead th {\n",
       "        text-align: right;\n",
       "    }\n",
       "</style>\n",
       "<table border=\"1\" class=\"dataframe\">\n",
       "  <thead>\n",
       "    <tr style=\"text-align: right;\">\n",
       "      <th></th>\n",
       "      <th>price</th>\n",
       "      <th>arima</th>\n",
       "      <th>ma</th>\n",
       "      <th>naive</th>\n",
       "      <th>ses</th>\n",
       "      <th>holtwinter_add</th>\n",
       "    </tr>\n",
       "    <tr>\n",
       "      <th>date</th>\n",
       "      <th></th>\n",
       "      <th></th>\n",
       "      <th></th>\n",
       "      <th></th>\n",
       "      <th></th>\n",
       "      <th></th>\n",
       "    </tr>\n",
       "  </thead>\n",
       "  <tbody>\n",
       "    <tr>\n",
       "      <th>2020-07-25</th>\n",
       "      <td>694605.0</td>\n",
       "      <td>628829.309019</td>\n",
       "      <td>684776.2</td>\n",
       "      <td>690707.0</td>\n",
       "      <td>690707.0</td>\n",
       "      <td>689477.980407</td>\n",
       "    </tr>\n",
       "    <tr>\n",
       "      <th>2020-08-01</th>\n",
       "      <td>695155.0</td>\n",
       "      <td>629004.895085</td>\n",
       "      <td>687742.2</td>\n",
       "      <td>694605.0</td>\n",
       "      <td>694605.0</td>\n",
       "      <td>692362.811451</td>\n",
       "    </tr>\n",
       "    <tr>\n",
       "      <th>2020-08-08</th>\n",
       "      <td>698233.0</td>\n",
       "      <td>629180.481151</td>\n",
       "      <td>690783.0</td>\n",
       "      <td>695155.0</td>\n",
       "      <td>695155.0</td>\n",
       "      <td>692772.655412</td>\n",
       "    </tr>\n",
       "    <tr>\n",
       "      <th>2020-08-15</th>\n",
       "      <td>704817.0</td>\n",
       "      <td>629356.067217</td>\n",
       "      <td>693360.0</td>\n",
       "      <td>698233.0</td>\n",
       "      <td>698233.0</td>\n",
       "      <td>697003.917405</td>\n",
       "    </tr>\n",
       "    <tr>\n",
       "      <th>2020-08-22</th>\n",
       "      <td>706541.0</td>\n",
       "      <td>629531.653284</td>\n",
       "      <td>696703.4</td>\n",
       "      <td>704817.0</td>\n",
       "      <td>704817.0</td>\n",
       "      <td>710119.149098</td>\n",
       "    </tr>\n",
       "  </tbody>\n",
       "</table>\n",
       "</div>"
      ],
      "text/plain": [
       "               price          arima        ma     naive       ses  \\\n",
       "date                                                                \n",
       "2020-07-25  694605.0  628829.309019  684776.2  690707.0  690707.0   \n",
       "2020-08-01  695155.0  629004.895085  687742.2  694605.0  694605.0   \n",
       "2020-08-08  698233.0  629180.481151  690783.0  695155.0  695155.0   \n",
       "2020-08-15  704817.0  629356.067217  693360.0  698233.0  698233.0   \n",
       "2020-08-22  706541.0  629531.653284  696703.4  704817.0  704817.0   \n",
       "\n",
       "            holtwinter_add  \n",
       "date                        \n",
       "2020-07-25   689477.980407  \n",
       "2020-08-01   692362.811451  \n",
       "2020-08-08   692772.655412  \n",
       "2020-08-15   697003.917405  \n",
       "2020-08-22   710119.149098  "
      ]
     },
     "execution_count": 151,
     "metadata": {},
     "output_type": "execute_result"
    }
   ],
   "source": [
    "#Holt Winter (t = 3 months, additive)\n",
    "holtwinter_add = ExponentialSmoothing(train.price, seasonal_periods=12, trend='add', seasonal='add').fit()\n",
    "fcst_holtwinter_add = ExponentialSmoothing(test.price, seasonal_periods=12, trend='add', seasonal='add').fit(smoothing_level=holtwinter_add.model.params['smoothing_level'], smoothing_slope=holtwinter_add.model.params['smoothing_slope'], smoothing_seasonal=holtwinter_add.model.params['smoothing_seasonal'], optimized=False)\n",
    "test['holtwinter_add'] = fcst_holtwinter_add.fittedvalues\n",
    "test.tail()"
   ]
  },
  {
   "cell_type": "code",
   "execution_count": 152,
   "metadata": {},
   "outputs": [
    {
     "data": {
      "image/png": "[encoded data removed]",
      "text/plain": [
       "<Figure size 1008x432 with 1 Axes>"
      ]
     },
     "metadata": {
      "needs_background": "light"
     },
     "output_type": "display_data"
    }
   ],
   "source": [
    "#Holt Winter (Additive) chart\n",
    "plt.figure(figsize=(14,6))\n",
    "plt.plot(train['price'], label='Train')\n",
    "plt.plot(test['price'], label='Test')\n",
    "plt.plot(test['holtwinter_add'], label='Holt Winter-Add \\u03B1='+\"{:.3f}\".format(holtwinter_add.model.params['smoothing_level'])+' \\u03B2='+\"{:.3f}\".format(holtwinter_add.model.params['smoothing_slope'])+' \\u03B3='+\"{:.3f}\".format(holtwinter_add.model.params['smoothing_seasonal']), color='green')\n",
    "\n",
    "lower_series = test['price']\n",
    "upper_series = test['holtwinter_add']\n",
    "\n",
    "plt.fill_between(lower_series.index, lower_series, upper_series, \n",
    "                 color='k', alpha=.15)\n",
    "\n",
    "plt.ylabel('Price')\n",
    "plt.xlabel('Year')\n",
    "plt.legend(loc='best')\n",
    "plt.show()"
   ]
  },
  {
   "cell_type": "code",
   "execution_count": 153,
   "metadata": {
    "scrolled": true
   },
   "outputs": [
    {
     "name": "stdout",
     "output_type": "stream",
     "text": [
      "RMSE = 10693.500529264695\n"
     ]
    }
   ],
   "source": [
    "RMSE_holtwinter_add = sm.tools.eval_measures.rmse(test.price,test['holtwinter_add'])\n",
    "print('RMSE', '=', RMSE_holtwinter_add)"
   ]
  },
  {
   "cell_type": "markdown",
   "metadata": {},
   "source": [
    "# Forecast"
   ]
  },
  {
   "cell_type": "code",
   "execution_count": 154,
   "metadata": {
    "scrolled": true
   },
   "outputs": [
    {
     "data": {
      "text/plain": [
       "2020-08-15    599918.0\n",
       "2020-08-22    599918.0\n",
       "2020-08-29    599918.0\n",
       "2020-09-05    599918.0\n",
       "2020-09-12    599918.0\n",
       "2020-09-19    599918.0\n",
       "2020-09-26    599918.0\n",
       "2020-10-03    599918.0\n",
       "2020-10-10    599918.0\n",
       "2020-10-17    599918.0\n",
       "2020-10-24    599918.0\n",
       "2020-10-31    599918.0\n",
       "2020-11-07    599918.0\n",
       "2020-11-14    599918.0\n",
       "2020-11-21    599918.0\n",
       "2020-11-28    599918.0\n",
       "2020-12-05    599918.0\n",
       "2020-12-12    599918.0\n",
       "2020-12-19    599918.0\n",
       "2020-12-26    599918.0\n",
       "2021-01-02    599918.0\n",
       "2021-01-09    599918.0\n",
       "2021-01-16    599918.0\n",
       "2021-01-23    599918.0\n",
       "2021-01-30    599918.0\n",
       "2021-02-06    599918.0\n",
       "2021-02-13    599918.0\n",
       "2021-02-20    599918.0\n",
       "2021-02-27    599918.0\n",
       "2021-03-06    599918.0\n",
       "2021-03-13    599918.0\n",
       "2021-03-20    599918.0\n",
       "2021-03-27    599918.0\n",
       "2021-04-03    599918.0\n",
       "2021-04-10    599918.0\n",
       "2021-04-17    599918.0\n",
       "2021-04-24    599918.0\n",
       "2021-05-01    599918.0\n",
       "2021-05-08    599918.0\n",
       "2021-05-15    599918.0\n",
       "Freq: W-SAT, Name: forecast, dtype: float64"
      ]
     },
     "execution_count": 154,
     "metadata": {},
     "output_type": "execute_result"
    }
   ],
   "source": [
    "fcst_price = ses.predict(start= len(train), \n",
    "                          end = (len(train)-3) + 17 * 12).rename('forecast')\n",
    "fcst_price.tail(40)"
   ]
  },
  {
   "cell_type": "code",
   "execution_count": 155,
   "metadata": {},
   "outputs": [
    {
     "data": {
      "text/html": [
       "<div>\n",
       "<style scoped>\n",
       "    .dataframe tbody tr th:only-of-type {\n",
       "        vertical-align: middle;\n",
       "    }\n",
       "\n",
       "    .dataframe tbody tr th {\n",
       "        vertical-align: top;\n",
       "    }\n",
       "\n",
       "    .dataframe thead th {\n",
       "        text-align: right;\n",
       "    }\n",
       "</style>\n",
       "<table border=\"1\" class=\"dataframe\">\n",
       "  <thead>\n",
       "    <tr style=\"text-align: right;\">\n",
       "      <th></th>\n",
       "      <th>forecast</th>\n",
       "    </tr>\n",
       "  </thead>\n",
       "  <tbody>\n",
       "    <tr>\n",
       "      <th>2020-08-29</th>\n",
       "      <td>599918.0</td>\n",
       "    </tr>\n",
       "    <tr>\n",
       "      <th>2020-09-05</th>\n",
       "      <td>599918.0</td>\n",
       "    </tr>\n",
       "    <tr>\n",
       "      <th>2020-09-12</th>\n",
       "      <td>599918.0</td>\n",
       "    </tr>\n",
       "    <tr>\n",
       "      <th>2020-09-19</th>\n",
       "      <td>599918.0</td>\n",
       "    </tr>\n",
       "    <tr>\n",
       "      <th>2020-09-26</th>\n",
       "      <td>599918.0</td>\n",
       "    </tr>\n",
       "  </tbody>\n",
       "</table>\n",
       "</div>"
      ],
      "text/plain": [
       "            forecast\n",
       "2020-08-29  599918.0\n",
       "2020-09-05  599918.0\n",
       "2020-09-12  599918.0\n",
       "2020-09-19  599918.0\n",
       "2020-09-26  599918.0"
      ]
     },
     "execution_count": 155,
     "metadata": {},
     "output_type": "execute_result"
    }
   ],
   "source": [
    "fcst_price = fcst_price.loc['20200829':'20210515']\n",
    "fcst_price = pd.DataFrame(fcst_price)\n",
    "fcst_price.head()"
   ]
  },
  {
   "cell_type": "code",
   "execution_count": 156,
   "metadata": {},
   "outputs": [],
   "source": [
    "fcst_price = fcst_price.reset_index()"
   ]
  },
  {
   "cell_type": "code",
   "execution_count": 157,
   "metadata": {
    "scrolled": true
   },
   "outputs": [
    {
     "data": {
      "text/html": [
       "<div>\n",
       "<style scoped>\n",
       "    .dataframe tbody tr th:only-of-type {\n",
       "        vertical-align: middle;\n",
       "    }\n",
       "\n",
       "    .dataframe tbody tr th {\n",
       "        vertical-align: top;\n",
       "    }\n",
       "\n",
       "    .dataframe thead th {\n",
       "        text-align: right;\n",
       "    }\n",
       "</style>\n",
       "<table border=\"1\" class=\"dataframe\">\n",
       "  <thead>\n",
       "    <tr style=\"text-align: right;\">\n",
       "      <th></th>\n",
       "      <th>date</th>\n",
       "      <th>forecast</th>\n",
       "    </tr>\n",
       "  </thead>\n",
       "  <tbody>\n",
       "    <tr>\n",
       "      <th>0</th>\n",
       "      <td>2020-08-29</td>\n",
       "      <td>599918.0</td>\n",
       "    </tr>\n",
       "    <tr>\n",
       "      <th>1</th>\n",
       "      <td>2020-09-05</td>\n",
       "      <td>599918.0</td>\n",
       "    </tr>\n",
       "    <tr>\n",
       "      <th>2</th>\n",
       "      <td>2020-09-12</td>\n",
       "      <td>599918.0</td>\n",
       "    </tr>\n",
       "    <tr>\n",
       "      <th>3</th>\n",
       "      <td>2020-09-19</td>\n",
       "      <td>599918.0</td>\n",
       "    </tr>\n",
       "    <tr>\n",
       "      <th>4</th>\n",
       "      <td>2020-09-26</td>\n",
       "      <td>599918.0</td>\n",
       "    </tr>\n",
       "  </tbody>\n",
       "</table>\n",
       "</div>"
      ],
      "text/plain": [
       "        date  forecast\n",
       "0 2020-08-29  599918.0\n",
       "1 2020-09-05  599918.0\n",
       "2 2020-09-12  599918.0\n",
       "3 2020-09-19  599918.0\n",
       "4 2020-09-26  599918.0"
      ]
     },
     "execution_count": 157,
     "metadata": {},
     "output_type": "execute_result"
    }
   ],
   "source": [
    "fcst_price.columns =['date','forecast']\n",
    "fcst_price.head()"
   ]
  },
  {
   "cell_type": "code",
   "execution_count": 158,
   "metadata": {},
   "outputs": [
    {
     "data": {
      "text/html": [
       "<div>\n",
       "<style scoped>\n",
       "    .dataframe tbody tr th:only-of-type {\n",
       "        vertical-align: middle;\n",
       "    }\n",
       "\n",
       "    .dataframe tbody tr th {\n",
       "        vertical-align: top;\n",
       "    }\n",
       "\n",
       "    .dataframe thead th {\n",
       "        text-align: right;\n",
       "    }\n",
       "</style>\n",
       "<table border=\"1\" class=\"dataframe\">\n",
       "  <thead>\n",
       "    <tr style=\"text-align: right;\">\n",
       "      <th></th>\n",
       "      <th>forecast</th>\n",
       "    </tr>\n",
       "    <tr>\n",
       "      <th>date</th>\n",
       "      <th></th>\n",
       "    </tr>\n",
       "  </thead>\n",
       "  <tbody>\n",
       "    <tr>\n",
       "      <th>2020-08-29</th>\n",
       "      <td>599918.0</td>\n",
       "    </tr>\n",
       "    <tr>\n",
       "      <th>2020-09-05</th>\n",
       "      <td>599918.0</td>\n",
       "    </tr>\n",
       "    <tr>\n",
       "      <th>2020-09-12</th>\n",
       "      <td>599918.0</td>\n",
       "    </tr>\n",
       "    <tr>\n",
       "      <th>2020-09-19</th>\n",
       "      <td>599918.0</td>\n",
       "    </tr>\n",
       "    <tr>\n",
       "      <th>2020-09-26</th>\n",
       "      <td>599918.0</td>\n",
       "    </tr>\n",
       "  </tbody>\n",
       "</table>\n",
       "</div>"
      ],
      "text/plain": [
       "            forecast\n",
       "date                \n",
       "2020-08-29  599918.0\n",
       "2020-09-05  599918.0\n",
       "2020-09-12  599918.0\n",
       "2020-09-19  599918.0\n",
       "2020-09-26  599918.0"
      ]
     },
     "execution_count": 158,
     "metadata": {},
     "output_type": "execute_result"
    }
   ],
   "source": [
    "fcst_price = fcst_price.set_index('date')\n",
    "fcst_price.head()"
   ]
  },
  {
   "cell_type": "markdown",
   "metadata": {},
   "source": [
    "# Merge Test Data/Forecast"
   ]
  },
  {
   "cell_type": "code",
   "execution_count": 159,
   "metadata": {},
   "outputs": [
    {
     "data": {
      "text/html": [
       "<div>\n",
       "<style scoped>\n",
       "    .dataframe tbody tr th:only-of-type {\n",
       "        vertical-align: middle;\n",
       "    }\n",
       "\n",
       "    .dataframe tbody tr th {\n",
       "        vertical-align: top;\n",
       "    }\n",
       "\n",
       "    .dataframe thead th {\n",
       "        text-align: right;\n",
       "    }\n",
       "</style>\n",
       "<table border=\"1\" class=\"dataframe\">\n",
       "  <thead>\n",
       "    <tr style=\"text-align: right;\">\n",
       "      <th></th>\n",
       "      <th>price</th>\n",
       "      <th>arima</th>\n",
       "      <th>ma</th>\n",
       "      <th>naive</th>\n",
       "      <th>ses</th>\n",
       "      <th>holtwinter_add</th>\n",
       "      <th>forecast</th>\n",
       "    </tr>\n",
       "    <tr>\n",
       "      <th>date</th>\n",
       "      <th></th>\n",
       "      <th></th>\n",
       "      <th></th>\n",
       "      <th></th>\n",
       "      <th></th>\n",
       "      <th></th>\n",
       "      <th></th>\n",
       "    </tr>\n",
       "  </thead>\n",
       "  <tbody>\n",
       "    <tr>\n",
       "      <th>2021-04-17</th>\n",
       "      <td>NaN</td>\n",
       "      <td>NaN</td>\n",
       "      <td>NaN</td>\n",
       "      <td>NaN</td>\n",
       "      <td>NaN</td>\n",
       "      <td>NaN</td>\n",
       "      <td>599918.0</td>\n",
       "    </tr>\n",
       "    <tr>\n",
       "      <th>2021-04-24</th>\n",
       "      <td>NaN</td>\n",
       "      <td>NaN</td>\n",
       "      <td>NaN</td>\n",
       "      <td>NaN</td>\n",
       "      <td>NaN</td>\n",
       "      <td>NaN</td>\n",
       "      <td>599918.0</td>\n",
       "    </tr>\n",
       "    <tr>\n",
       "      <th>2021-05-01</th>\n",
       "      <td>NaN</td>\n",
       "      <td>NaN</td>\n",
       "      <td>NaN</td>\n",
       "      <td>NaN</td>\n",
       "      <td>NaN</td>\n",
       "      <td>NaN</td>\n",
       "      <td>599918.0</td>\n",
       "    </tr>\n",
       "    <tr>\n",
       "      <th>2021-05-08</th>\n",
       "      <td>NaN</td>\n",
       "      <td>NaN</td>\n",
       "      <td>NaN</td>\n",
       "      <td>NaN</td>\n",
       "      <td>NaN</td>\n",
       "      <td>NaN</td>\n",
       "      <td>599918.0</td>\n",
       "    </tr>\n",
       "    <tr>\n",
       "      <th>2021-05-15</th>\n",
       "      <td>NaN</td>\n",
       "      <td>NaN</td>\n",
       "      <td>NaN</td>\n",
       "      <td>NaN</td>\n",
       "      <td>NaN</td>\n",
       "      <td>NaN</td>\n",
       "      <td>599918.0</td>\n",
       "    </tr>\n",
       "  </tbody>\n",
       "</table>\n",
       "</div>"
      ],
      "text/plain": [
       "            price  arima  ma  naive  ses  holtwinter_add  forecast\n",
       "date                                                              \n",
       "2021-04-17    NaN    NaN NaN    NaN  NaN             NaN  599918.0\n",
       "2021-04-24    NaN    NaN NaN    NaN  NaN             NaN  599918.0\n",
       "2021-05-01    NaN    NaN NaN    NaN  NaN             NaN  599918.0\n",
       "2021-05-08    NaN    NaN NaN    NaN  NaN             NaN  599918.0\n",
       "2021-05-15    NaN    NaN NaN    NaN  NaN             NaN  599918.0"
      ]
     },
     "execution_count": 159,
     "metadata": {},
     "output_type": "execute_result"
    }
   ],
   "source": [
    "test = test.merge(fcst_price, how='outer', on='date')\n",
    "test.tail()"
   ]
  },
  {
   "cell_type": "code",
   "execution_count": 160,
   "metadata": {},
   "outputs": [
    {
     "data": {
      "image/png": "[encoded data removed]",
      "text/plain": [
       "<Figure size 720x360 with 1 Axes>"
      ]
     },
     "metadata": {
      "needs_background": "light"
     },
     "output_type": "display_data"
    }
   ],
   "source": [
    "#Simple Exponenital Smoothing chart\n",
    "plt.figure(figsize=(10,5))\n",
    "plt.plot(train['price'], label='Train')\n",
    "plt.plot(test['price'], label='Test')\n",
    "plt.plot(test['ses'], label='SES \\u03B1='+ \"{:.4f}\".format(ses.model.params['smoothing_level']), color='green')\n",
    "plt.plot(test['forecast'], label='Forecast', color='yellow')\n",
    "\n",
    "lower_series = test['price']\n",
    "upper_series = test['ses']\n",
    "\n",
    "plt.fill_between(lower_series.index, lower_series, upper_series, \n",
    "                 color='k', alpha=.15)\n",
    "\n",
    "plt.ylabel('Price')\n",
    "plt.xlabel('Year')\n",
    "plt.legend(loc='best')\n",
    "plt.show()"
   ]
  },
  {
   "cell_type": "markdown",
   "metadata": {},
   "source": [
    "# Summary/Inventory Output"
   ]
  },
  {
   "cell_type": "code",
   "execution_count": 161,
   "metadata": {
    "scrolled": true
   },
   "outputs": [
    {
     "data": {
      "text/html": [
       "<div>\n",
       "<style scoped>\n",
       "    .dataframe tbody tr th:only-of-type {\n",
       "        vertical-align: middle;\n",
       "    }\n",
       "\n",
       "    .dataframe tbody tr th {\n",
       "        vertical-align: top;\n",
       "    }\n",
       "\n",
       "    .dataframe thead th {\n",
       "        text-align: right;\n",
       "    }\n",
       "</style>\n",
       "<table border=\"1\" class=\"dataframe\">\n",
       "  <thead>\n",
       "    <tr style=\"text-align: right;\">\n",
       "      <th></th>\n",
       "      <th>price</th>\n",
       "      <th>arima</th>\n",
       "      <th>ma</th>\n",
       "      <th>naive</th>\n",
       "      <th>ses</th>\n",
       "      <th>holtwinter_add</th>\n",
       "      <th>forecast</th>\n",
       "    </tr>\n",
       "    <tr>\n",
       "      <th>date</th>\n",
       "      <th></th>\n",
       "      <th></th>\n",
       "      <th></th>\n",
       "      <th></th>\n",
       "      <th></th>\n",
       "      <th></th>\n",
       "      <th></th>\n",
       "    </tr>\n",
       "  </thead>\n",
       "  <tbody>\n",
       "    <tr>\n",
       "      <th>2017-07-08</th>\n",
       "      <td>606282.0</td>\n",
       "      <td>600911.124486</td>\n",
       "      <td>595530.8</td>\n",
       "      <td>599918.0</td>\n",
       "      <td>606282.0</td>\n",
       "      <td>606871.423611</td>\n",
       "      <td>NaN</td>\n",
       "    </tr>\n",
       "    <tr>\n",
       "      <th>2017-07-15</th>\n",
       "      <td>607670.0</td>\n",
       "      <td>601086.710553</td>\n",
       "      <td>597744.2</td>\n",
       "      <td>606282.0</td>\n",
       "      <td>606282.0</td>\n",
       "      <td>608293.711411</td>\n",
       "      <td>NaN</td>\n",
       "    </tr>\n",
       "    <tr>\n",
       "      <th>2017-07-22</th>\n",
       "      <td>609520.0</td>\n",
       "      <td>601262.296619</td>\n",
       "      <td>600491.6</td>\n",
       "      <td>607670.0</td>\n",
       "      <td>607670.0</td>\n",
       "      <td>610117.949202</td>\n",
       "      <td>NaN</td>\n",
       "    </tr>\n",
       "    <tr>\n",
       "      <th>2017-07-29</th>\n",
       "      <td>605744.0</td>\n",
       "      <td>601437.882685</td>\n",
       "      <td>603550.6</td>\n",
       "      <td>609520.0</td>\n",
       "      <td>609520.0</td>\n",
       "      <td>606311.079118</td>\n",
       "      <td>NaN</td>\n",
       "    </tr>\n",
       "    <tr>\n",
       "      <th>2017-08-05</th>\n",
       "      <td>600499.0</td>\n",
       "      <td>601613.468751</td>\n",
       "      <td>605826.8</td>\n",
       "      <td>605744.0</td>\n",
       "      <td>605744.0</td>\n",
       "      <td>601036.125078</td>\n",
       "      <td>NaN</td>\n",
       "    </tr>\n",
       "  </tbody>\n",
       "</table>\n",
       "</div>"
      ],
      "text/plain": [
       "               price          arima        ma     naive       ses  \\\n",
       "date                                                                \n",
       "2017-07-08  606282.0  600911.124486  595530.8  599918.0  606282.0   \n",
       "2017-07-15  607670.0  601086.710553  597744.2  606282.0  606282.0   \n",
       "2017-07-22  609520.0  601262.296619  600491.6  607670.0  607670.0   \n",
       "2017-07-29  605744.0  601437.882685  603550.6  609520.0  609520.0   \n",
       "2017-08-05  600499.0  601613.468751  605826.8  605744.0  605744.0   \n",
       "\n",
       "            holtwinter_add  forecast  \n",
       "date                                  \n",
       "2017-07-08   606871.423611       NaN  \n",
       "2017-07-15   608293.711411       NaN  \n",
       "2017-07-22   610117.949202       NaN  \n",
       "2017-07-29   606311.079118       NaN  \n",
       "2017-08-05   601036.125078       NaN  "
      ]
     },
     "execution_count": 161,
     "metadata": {},
     "output_type": "execute_result"
    }
   ],
   "source": [
    "test.head()"
   ]
  },
  {
   "cell_type": "code",
   "execution_count": 162,
   "metadata": {},
   "outputs": [
    {
     "data": {
      "image/png": "[encoded data removed]",
      "text/plain": [
       "<Figure size 1008x432 with 1 Axes>"
      ]
     },
     "metadata": {
      "needs_background": "light"
     },
     "output_type": "display_data"
    }
   ],
   "source": [
    "plt.figure(figsize=(14,6))\n",
    "plt.plot(test['price'], label='Actual For-Sale Inventory')\n",
    "plt.plot(test['arima'], label='ARIMA')\n",
    "plt.plot(test['ma'] , label='Moving Average')\n",
    "plt.plot(test['naive'] , label='Naive')\n",
    "plt.plot(test['ses'] , label='SES')\n",
    "plt.plot(test['holtwinter_add'] , label='Holt Winter (Additive)')\n",
    "\n",
    "plt.ylabel('Price')\n",
    "plt.xlabel('Year')\n",
    "plt.legend(loc='best')\n",
    "plt.show()"
   ]
  },
  {
   "cell_type": "code",
   "execution_count": 163,
   "metadata": {
    "scrolled": true
   },
   "outputs": [
    {
     "data": {
      "text/html": [
       "<div>\n",
       "<style scoped>\n",
       "    .dataframe tbody tr th:only-of-type {\n",
       "        vertical-align: middle;\n",
       "    }\n",
       "\n",
       "    .dataframe tbody tr th {\n",
       "        vertical-align: top;\n",
       "    }\n",
       "\n",
       "    .dataframe thead th {\n",
       "        text-align: right;\n",
       "    }\n",
       "</style>\n",
       "<table border=\"1\" class=\"dataframe\">\n",
       "  <thead>\n",
       "    <tr style=\"text-align: right;\">\n",
       "      <th></th>\n",
       "      <th>Model</th>\n",
       "      <th>RMSE</th>\n",
       "    </tr>\n",
       "  </thead>\n",
       "  <tbody>\n",
       "    <tr>\n",
       "      <th>0</th>\n",
       "      <td>ARIMA</td>\n",
       "      <td>32984.976464</td>\n",
       "    </tr>\n",
       "    <tr>\n",
       "      <th>1</th>\n",
       "      <td>Moving Average</td>\n",
       "      <td>9707.984097</td>\n",
       "    </tr>\n",
       "    <tr>\n",
       "      <th>2</th>\n",
       "      <td>Naive</td>\n",
       "      <td>10214.124139</td>\n",
       "    </tr>\n",
       "    <tr>\n",
       "      <th>3</th>\n",
       "      <td>Simple Exponential Smoothing</td>\n",
       "      <td>10202.028116</td>\n",
       "    </tr>\n",
       "    <tr>\n",
       "      <th>4</th>\n",
       "      <td>Holt Winter (Additive)</td>\n",
       "      <td>10693.500529</td>\n",
       "    </tr>\n",
       "  </tbody>\n",
       "</table>\n",
       "</div>"
      ],
      "text/plain": [
       "                          Model          RMSE\n",
       "0                         ARIMA  32984.976464\n",
       "1                Moving Average   9707.984097\n",
       "2                         Naive  10214.124139\n",
       "3  Simple Exponential Smoothing  10202.028116\n",
       "4        Holt Winter (Additive)  10693.500529"
      ]
     },
     "execution_count": 163,
     "metadata": {},
     "output_type": "execute_result"
    }
   ],
   "source": [
    "RMSE = pd.DataFrame({'Model':['ARIMA', 'Moving Average', 'Naive','Simple Exponential Smoothing','Holt Winter (Additive)'],\n",
    "                     'RMSE':[RMSE_arima, RMSE_ma, RMSE_naive, RMSE_ses, RMSE_holtwinter_add]})\n",
    "RMSE"
   ]
  },
  {
   "cell_type": "markdown",
   "metadata": {},
   "source": [
    "# We choose to use \"Simple Exponenital Smoothing\" method to predict future Median Sale Price"
   ]
  },
  {
   "cell_type": "code",
   "execution_count": 164,
   "metadata": {
    "scrolled": true
   },
   "outputs": [
    {
     "data": {
      "text/html": [
       "<div>\n",
       "<style scoped>\n",
       "    .dataframe tbody tr th:only-of-type {\n",
       "        vertical-align: middle;\n",
       "    }\n",
       "\n",
       "    .dataframe tbody tr th {\n",
       "        vertical-align: top;\n",
       "    }\n",
       "\n",
       "    .dataframe thead th {\n",
       "        text-align: right;\n",
       "    }\n",
       "</style>\n",
       "<table border=\"1\" class=\"dataframe\">\n",
       "  <thead>\n",
       "    <tr style=\"text-align: right;\">\n",
       "      <th></th>\n",
       "      <th>ses</th>\n",
       "      <th>forecast</th>\n",
       "    </tr>\n",
       "    <tr>\n",
       "      <th>date</th>\n",
       "      <th></th>\n",
       "      <th></th>\n",
       "    </tr>\n",
       "  </thead>\n",
       "  <tbody>\n",
       "    <tr>\n",
       "      <th>2017-07-08</th>\n",
       "      <td>606282.0</td>\n",
       "      <td>NaN</td>\n",
       "    </tr>\n",
       "    <tr>\n",
       "      <th>2017-07-15</th>\n",
       "      <td>606282.0</td>\n",
       "      <td>NaN</td>\n",
       "    </tr>\n",
       "    <tr>\n",
       "      <th>2017-07-22</th>\n",
       "      <td>607670.0</td>\n",
       "      <td>NaN</td>\n",
       "    </tr>\n",
       "    <tr>\n",
       "      <th>2017-07-29</th>\n",
       "      <td>609520.0</td>\n",
       "      <td>NaN</td>\n",
       "    </tr>\n",
       "    <tr>\n",
       "      <th>2017-08-05</th>\n",
       "      <td>605744.0</td>\n",
       "      <td>NaN</td>\n",
       "    </tr>\n",
       "  </tbody>\n",
       "</table>\n",
       "</div>"
      ],
      "text/plain": [
       "                 ses  forecast\n",
       "date                          \n",
       "2017-07-08  606282.0       NaN\n",
       "2017-07-15  606282.0       NaN\n",
       "2017-07-22  607670.0       NaN\n",
       "2017-07-29  609520.0       NaN\n",
       "2017-08-05  605744.0       NaN"
      ]
     },
     "execution_count": 164,
     "metadata": {},
     "output_type": "execute_result"
    }
   ],
   "source": [
    "final_fcst_price = test[['ses','forecast']].copy()\n",
    "final_fcst_price.head()"
   ]
  },
  {
   "cell_type": "code",
   "execution_count": 165,
   "metadata": {
    "scrolled": true
   },
   "outputs": [
    {
     "data": {
      "text/html": [
       "<div>\n",
       "<style scoped>\n",
       "    .dataframe tbody tr th:only-of-type {\n",
       "        vertical-align: middle;\n",
       "    }\n",
       "\n",
       "    .dataframe tbody tr th {\n",
       "        vertical-align: top;\n",
       "    }\n",
       "\n",
       "    .dataframe thead th {\n",
       "        text-align: right;\n",
       "    }\n",
       "</style>\n",
       "<table border=\"1\" class=\"dataframe\">\n",
       "  <thead>\n",
       "    <tr style=\"text-align: right;\">\n",
       "      <th></th>\n",
       "      <th>price</th>\n",
       "      <th>ses_price</th>\n",
       "      <th>fcst_price</th>\n",
       "    </tr>\n",
       "    <tr>\n",
       "      <th>date</th>\n",
       "      <th></th>\n",
       "      <th></th>\n",
       "      <th></th>\n",
       "    </tr>\n",
       "  </thead>\n",
       "  <tbody>\n",
       "    <tr>\n",
       "      <th>2008-02-23</th>\n",
       "      <td>514232.0</td>\n",
       "      <td>NaN</td>\n",
       "      <td>NaN</td>\n",
       "    </tr>\n",
       "    <tr>\n",
       "      <th>2008-03-01</th>\n",
       "      <td>510894.0</td>\n",
       "      <td>NaN</td>\n",
       "      <td>NaN</td>\n",
       "    </tr>\n",
       "    <tr>\n",
       "      <th>2008-03-08</th>\n",
       "      <td>507034.0</td>\n",
       "      <td>NaN</td>\n",
       "      <td>NaN</td>\n",
       "    </tr>\n",
       "    <tr>\n",
       "      <th>2008-03-15</th>\n",
       "      <td>506298.0</td>\n",
       "      <td>NaN</td>\n",
       "      <td>NaN</td>\n",
       "    </tr>\n",
       "    <tr>\n",
       "      <th>2008-03-22</th>\n",
       "      <td>502279.0</td>\n",
       "      <td>NaN</td>\n",
       "      <td>NaN</td>\n",
       "    </tr>\n",
       "  </tbody>\n",
       "</table>\n",
       "</div>"
      ],
      "text/plain": [
       "               price  ses_price  fcst_price\n",
       "date                                       \n",
       "2008-02-23  514232.0        NaN         NaN\n",
       "2008-03-01  510894.0        NaN         NaN\n",
       "2008-03-08  507034.0        NaN         NaN\n",
       "2008-03-15  506298.0        NaN         NaN\n",
       "2008-03-22  502279.0        NaN         NaN"
      ]
     },
     "execution_count": 165,
     "metadata": {},
     "output_type": "execute_result"
    }
   ],
   "source": [
    "final_output_price = combine.merge(final_fcst_price, how='outer', on='date')\n",
    "final_output_price = final_output_price.rename(columns={\"ses\": \"ses_price\", \"forecast\": \"fcst_price\"})\n",
    "final_output_price.head()"
   ]
  },
  {
   "cell_type": "code",
   "execution_count": 166,
   "metadata": {},
   "outputs": [
    {
     "data": {
      "text/html": [
       "<div>\n",
       "<style scoped>\n",
       "    .dataframe tbody tr th:only-of-type {\n",
       "        vertical-align: middle;\n",
       "    }\n",
       "\n",
       "    .dataframe tbody tr th {\n",
       "        vertical-align: top;\n",
       "    }\n",
       "\n",
       "    .dataframe thead th {\n",
       "        text-align: right;\n",
       "    }\n",
       "</style>\n",
       "<table border=\"1\" class=\"dataframe\">\n",
       "  <thead>\n",
       "    <tr style=\"text-align: right;\">\n",
       "      <th></th>\n",
       "      <th>inventory</th>\n",
       "      <th>ses_inventory</th>\n",
       "      <th>fcst_inventory</th>\n",
       "      <th>price</th>\n",
       "      <th>ses_price</th>\n",
       "      <th>fcst_price</th>\n",
       "    </tr>\n",
       "    <tr>\n",
       "      <th>date</th>\n",
       "      <th></th>\n",
       "      <th></th>\n",
       "      <th></th>\n",
       "      <th></th>\n",
       "      <th></th>\n",
       "      <th></th>\n",
       "    </tr>\n",
       "  </thead>\n",
       "  <tbody>\n",
       "    <tr>\n",
       "      <th>2017-10-28</th>\n",
       "      <td>17787.0</td>\n",
       "      <td>NaN</td>\n",
       "      <td>NaN</td>\n",
       "      <td>610341.0</td>\n",
       "      <td>611139.0</td>\n",
       "      <td>NaN</td>\n",
       "    </tr>\n",
       "    <tr>\n",
       "      <th>2017-11-04</th>\n",
       "      <td>17522.0</td>\n",
       "      <td>NaN</td>\n",
       "      <td>NaN</td>\n",
       "      <td>613303.0</td>\n",
       "      <td>610341.0</td>\n",
       "      <td>NaN</td>\n",
       "    </tr>\n",
       "    <tr>\n",
       "      <th>2017-11-11</th>\n",
       "      <td>17177.0</td>\n",
       "      <td>NaN</td>\n",
       "      <td>NaN</td>\n",
       "      <td>614171.0</td>\n",
       "      <td>613303.0</td>\n",
       "      <td>NaN</td>\n",
       "    </tr>\n",
       "    <tr>\n",
       "      <th>2017-11-18</th>\n",
       "      <td>16809.0</td>\n",
       "      <td>NaN</td>\n",
       "      <td>NaN</td>\n",
       "      <td>614582.0</td>\n",
       "      <td>614171.0</td>\n",
       "      <td>NaN</td>\n",
       "    </tr>\n",
       "    <tr>\n",
       "      <th>2017-11-25</th>\n",
       "      <td>16334.0</td>\n",
       "      <td>NaN</td>\n",
       "      <td>NaN</td>\n",
       "      <td>615719.0</td>\n",
       "      <td>614582.0</td>\n",
       "      <td>NaN</td>\n",
       "    </tr>\n",
       "  </tbody>\n",
       "</table>\n",
       "</div>"
      ],
      "text/plain": [
       "            inventory  ses_inventory  fcst_inventory     price  ses_price  \\\n",
       "date                                                                        \n",
       "2017-10-28    17787.0            NaN             NaN  610341.0   611139.0   \n",
       "2017-11-04    17522.0            NaN             NaN  613303.0   610341.0   \n",
       "2017-11-11    17177.0            NaN             NaN  614171.0   613303.0   \n",
       "2017-11-18    16809.0            NaN             NaN  614582.0   614171.0   \n",
       "2017-11-25    16334.0            NaN             NaN  615719.0   614582.0   \n",
       "\n",
       "            fcst_price  \n",
       "date                    \n",
       "2017-10-28         NaN  \n",
       "2017-11-04         NaN  \n",
       "2017-11-11         NaN  \n",
       "2017-11-18         NaN  \n",
       "2017-11-25         NaN  "
      ]
     },
     "execution_count": 166,
     "metadata": {},
     "output_type": "execute_result"
    }
   ],
   "source": [
    "final_output = final_output_inventory.merge(final_output_price, how='outer', on='date')\n",
    "final_output.head()"
   ]
  },
  {
   "cell_type": "code",
   "execution_count": 167,
   "metadata": {},
   "outputs": [],
   "source": [
    "final_output.to_csv(r'static\\data\\la.csv', index = True)"
   ]
  },
  {
   "cell_type": "code",
   "execution_count": null,
   "metadata": {},
   "outputs": [],
   "source": []
  }
 ],
 "metadata": {
  "kernelspec": {
   "display_name": "Python 3",
   "language": "python",
   "name": "python3"
  },
  "language_info": {
   "codemirror_mode": {
    "name": "ipython",
    "version": 3
   },
   "file_extension": ".py",
   "mimetype": "text/x-python",
   "name": "python",
   "nbconvert_exporter": "python",
   "pygments_lexer": "ipython3",
   "version": "3.7.6"
  }
 },
 "nbformat": 4,
 "nbformat_minor": 4
}
