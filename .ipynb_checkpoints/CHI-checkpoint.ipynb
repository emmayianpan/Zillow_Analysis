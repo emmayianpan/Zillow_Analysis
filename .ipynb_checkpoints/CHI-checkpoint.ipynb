{
 "cells": [
  {
   "cell_type": "code",
   "execution_count": 1,
   "metadata": {},
   "outputs": [],
   "source": [
    "import requests\n",
    "import pandas as pd\n",
    "import numpy as np\n",
    "import matplotlib.pyplot as plt\n",
    "import datetime as dt\n",
    "from sktime.forecasting.model_selection import temporal_train_test_split"
   ]
  },
  {
   "cell_type": "markdown",
   "metadata": {},
   "source": [
    "# For-Sale Inventory"
   ]
  },
  {
   "cell_type": "code",
   "execution_count": 2,
   "metadata": {},
   "outputs": [
    {
     "data": {
      "text/html": [
       "<div>\n",
       "<style scoped>\n",
       "    .dataframe tbody tr th:only-of-type {\n",
       "        vertical-align: middle;\n",
       "    }\n",
       "\n",
       "    .dataframe tbody tr th {\n",
       "        vertical-align: top;\n",
       "    }\n",
       "\n",
       "    .dataframe thead th {\n",
       "        text-align: right;\n",
       "    }\n",
       "</style>\n",
       "<table border=\"1\" class=\"dataframe\">\n",
       "  <thead>\n",
       "    <tr style=\"text-align: right;\">\n",
       "      <th></th>\n",
       "      <th>RegionID</th>\n",
       "      <th>SizeRank</th>\n",
       "      <th>RegionName</th>\n",
       "      <th>RegionType</th>\n",
       "      <th>StateName</th>\n",
       "      <th>10/28/2017</th>\n",
       "      <th>11/4/2017</th>\n",
       "      <th>11/11/2017</th>\n",
       "      <th>11/18/2017</th>\n",
       "      <th>11/25/2017</th>\n",
       "      <th>...</th>\n",
       "      <th>8/1/2020</th>\n",
       "      <th>8/8/2020</th>\n",
       "      <th>8/15/2020</th>\n",
       "      <th>8/22/2020</th>\n",
       "      <th>8/29/2020</th>\n",
       "      <th>9/5/2020</th>\n",
       "      <th>9/12/2020</th>\n",
       "      <th>9/19/2020</th>\n",
       "      <th>9/26/2020</th>\n",
       "      <th>10/3/2020</th>\n",
       "    </tr>\n",
       "  </thead>\n",
       "  <tbody>\n",
       "    <tr>\n",
       "      <th>0</th>\n",
       "      <td>102001</td>\n",
       "      <td>0</td>\n",
       "      <td>United States</td>\n",
       "      <td>Country</td>\n",
       "      <td>NaN</td>\n",
       "      <td>1313144.0</td>\n",
       "      <td>1306211.0</td>\n",
       "      <td>1295559.0</td>\n",
       "      <td>1282592.0</td>\n",
       "      <td>1264313.0</td>\n",
       "      <td>...</td>\n",
       "      <td>964279</td>\n",
       "      <td>953389</td>\n",
       "      <td>941273</td>\n",
       "      <td>930423</td>\n",
       "      <td>920394</td>\n",
       "      <td>915373</td>\n",
       "      <td>906542</td>\n",
       "      <td>900360</td>\n",
       "      <td>893541</td>\n",
       "      <td>882454</td>\n",
       "    </tr>\n",
       "    <tr>\n",
       "      <th>1</th>\n",
       "      <td>394913</td>\n",
       "      <td>1</td>\n",
       "      <td>New York, NY</td>\n",
       "      <td>Msa</td>\n",
       "      <td>NY</td>\n",
       "      <td>67063.0</td>\n",
       "      <td>66557.0</td>\n",
       "      <td>65763.0</td>\n",
       "      <td>64791.0</td>\n",
       "      <td>63528.0</td>\n",
       "      <td>...</td>\n",
       "      <td>60547</td>\n",
       "      <td>60457</td>\n",
       "      <td>60445</td>\n",
       "      <td>60285</td>\n",
       "      <td>60329</td>\n",
       "      <td>60543</td>\n",
       "      <td>60632</td>\n",
       "      <td>60813</td>\n",
       "      <td>60902</td>\n",
       "      <td>61010</td>\n",
       "    </tr>\n",
       "    <tr>\n",
       "      <th>2</th>\n",
       "      <td>753899</td>\n",
       "      <td>2</td>\n",
       "      <td>Los Angeles-Long Beach-Anaheim, CA</td>\n",
       "      <td>Msa</td>\n",
       "      <td>CA</td>\n",
       "      <td>17787.0</td>\n",
       "      <td>17522.0</td>\n",
       "      <td>17177.0</td>\n",
       "      <td>16809.0</td>\n",
       "      <td>16334.0</td>\n",
       "      <td>...</td>\n",
       "      <td>17224</td>\n",
       "      <td>17225</td>\n",
       "      <td>17197</td>\n",
       "      <td>17140</td>\n",
       "      <td>17079</td>\n",
       "      <td>17120</td>\n",
       "      <td>17105</td>\n",
       "      <td>17159</td>\n",
       "      <td>17231</td>\n",
       "      <td>17263</td>\n",
       "    </tr>\n",
       "    <tr>\n",
       "      <th>3</th>\n",
       "      <td>394463</td>\n",
       "      <td>3</td>\n",
       "      <td>Chicago, IL</td>\n",
       "      <td>Msa</td>\n",
       "      <td>IL</td>\n",
       "      <td>38027.0</td>\n",
       "      <td>37590.0</td>\n",
       "      <td>36926.0</td>\n",
       "      <td>36131.0</td>\n",
       "      <td>35079.0</td>\n",
       "      <td>...</td>\n",
       "      <td>31418</td>\n",
       "      <td>31315</td>\n",
       "      <td>31087</td>\n",
       "      <td>31004</td>\n",
       "      <td>30933</td>\n",
       "      <td>30905</td>\n",
       "      <td>30862</td>\n",
       "      <td>30845</td>\n",
       "      <td>30871</td>\n",
       "      <td>30759</td>\n",
       "    </tr>\n",
       "    <tr>\n",
       "      <th>4</th>\n",
       "      <td>394514</td>\n",
       "      <td>4</td>\n",
       "      <td>Dallas-Fort Worth, TX</td>\n",
       "      <td>Msa</td>\n",
       "      <td>TX</td>\n",
       "      <td>21912.0</td>\n",
       "      <td>21836.0</td>\n",
       "      <td>21550.0</td>\n",
       "      <td>21306.0</td>\n",
       "      <td>20883.0</td>\n",
       "      <td>...</td>\n",
       "      <td>23510</td>\n",
       "      <td>23106</td>\n",
       "      <td>22714</td>\n",
       "      <td>22296</td>\n",
       "      <td>21915</td>\n",
       "      <td>21631</td>\n",
       "      <td>21214</td>\n",
       "      <td>20849</td>\n",
       "      <td>20461</td>\n",
       "      <td>20023</td>\n",
       "    </tr>\n",
       "  </tbody>\n",
       "</table>\n",
       "<p>5 rows × 159 columns</p>\n",
       "</div>"
      ],
      "text/plain": [
       "   RegionID  SizeRank                          RegionName RegionType  \\\n",
       "0    102001         0                       United States    Country   \n",
       "1    394913         1                        New York, NY        Msa   \n",
       "2    753899         2  Los Angeles-Long Beach-Anaheim, CA        Msa   \n",
       "3    394463         3                         Chicago, IL        Msa   \n",
       "4    394514         4               Dallas-Fort Worth, TX        Msa   \n",
       "\n",
       "  StateName  10/28/2017  11/4/2017  11/11/2017  11/18/2017  11/25/2017  ...  \\\n",
       "0       NaN   1313144.0  1306211.0   1295559.0   1282592.0   1264313.0  ...   \n",
       "1        NY     67063.0    66557.0     65763.0     64791.0     63528.0  ...   \n",
       "2        CA     17787.0    17522.0     17177.0     16809.0     16334.0  ...   \n",
       "3        IL     38027.0    37590.0     36926.0     36131.0     35079.0  ...   \n",
       "4        TX     21912.0    21836.0     21550.0     21306.0     20883.0  ...   \n",
       "\n",
       "   8/1/2020  8/8/2020  8/15/2020  8/22/2020  8/29/2020  9/5/2020  9/12/2020  \\\n",
       "0    964279    953389     941273     930423     920394    915373     906542   \n",
       "1     60547     60457      60445      60285      60329     60543      60632   \n",
       "2     17224     17225      17197      17140      17079     17120      17105   \n",
       "3     31418     31315      31087      31004      30933     30905      30862   \n",
       "4     23510     23106      22714      22296      21915     21631      21214   \n",
       "\n",
       "   9/19/2020  9/26/2020  10/3/2020  \n",
       "0     900360     893541     882454  \n",
       "1      60813      60902      61010  \n",
       "2      17159      17231      17263  \n",
       "3      30845      30871      30759  \n",
       "4      20849      20461      20023  \n",
       "\n",
       "[5 rows x 159 columns]"
      ]
     },
     "execution_count": 2,
     "metadata": {},
     "output_type": "execute_result"
    }
   ],
   "source": [
    "#read csv file and transform into Data Frame \n",
    "path = \"Raw Data/for_sale_inventory_all_home.csv\"\n",
    "data = pd.read_csv(path)\n",
    "data = pd.DataFrame(data)\n",
    "data.head()"
   ]
  },
  {
   "cell_type": "markdown",
   "metadata": {},
   "source": [
    "# Chicago, IL - Clean Data"
   ]
  },
  {
   "cell_type": "code",
   "execution_count": 3,
   "metadata": {},
   "outputs": [],
   "source": [
    "inventory = data[data['RegionName'].isin(['Chicago, IL'])]\n",
    "inventory = inventory.drop(columns=['RegionID', 'SizeRank','RegionName','RegionType','StateName'])"
   ]
  },
  {
   "cell_type": "code",
   "execution_count": 4,
   "metadata": {},
   "outputs": [
    {
     "data": {
      "text/html": [
       "<div>\n",
       "<style scoped>\n",
       "    .dataframe tbody tr th:only-of-type {\n",
       "        vertical-align: middle;\n",
       "    }\n",
       "\n",
       "    .dataframe tbody tr th {\n",
       "        vertical-align: top;\n",
       "    }\n",
       "\n",
       "    .dataframe thead th {\n",
       "        text-align: right;\n",
       "    }\n",
       "</style>\n",
       "<table border=\"1\" class=\"dataframe\">\n",
       "  <thead>\n",
       "    <tr style=\"text-align: right;\">\n",
       "      <th></th>\n",
       "      <th>3</th>\n",
       "    </tr>\n",
       "  </thead>\n",
       "  <tbody>\n",
       "    <tr>\n",
       "      <th>10/28/2017</th>\n",
       "      <td>38027.0</td>\n",
       "    </tr>\n",
       "    <tr>\n",
       "      <th>11/4/2017</th>\n",
       "      <td>37590.0</td>\n",
       "    </tr>\n",
       "    <tr>\n",
       "      <th>11/11/2017</th>\n",
       "      <td>36926.0</td>\n",
       "    </tr>\n",
       "    <tr>\n",
       "      <th>11/18/2017</th>\n",
       "      <td>36131.0</td>\n",
       "    </tr>\n",
       "    <tr>\n",
       "      <th>11/25/2017</th>\n",
       "      <td>35079.0</td>\n",
       "    </tr>\n",
       "  </tbody>\n",
       "</table>\n",
       "</div>"
      ],
      "text/plain": [
       "                  3\n",
       "10/28/2017  38027.0\n",
       "11/4/2017   37590.0\n",
       "11/11/2017  36926.0\n",
       "11/18/2017  36131.0\n",
       "11/25/2017  35079.0"
      ]
     },
     "execution_count": 4,
     "metadata": {},
     "output_type": "execute_result"
    }
   ],
   "source": [
    "inventory = inventory.transpose()\n",
    "inventory.head()"
   ]
  },
  {
   "cell_type": "code",
   "execution_count": 5,
   "metadata": {},
   "outputs": [],
   "source": [
    "inventory = inventory.reset_index()"
   ]
  },
  {
   "cell_type": "code",
   "execution_count": 7,
   "metadata": {},
   "outputs": [],
   "source": [
    "inventory = inventory[['index',3]].copy()\n",
    "inventory.columns =['date','inventory']"
   ]
  },
  {
   "cell_type": "code",
   "execution_count": 8,
   "metadata": {
    "scrolled": true
   },
   "outputs": [
    {
     "data": {
      "text/html": [
       "<div>\n",
       "<style scoped>\n",
       "    .dataframe tbody tr th:only-of-type {\n",
       "        vertical-align: middle;\n",
       "    }\n",
       "\n",
       "    .dataframe tbody tr th {\n",
       "        vertical-align: top;\n",
       "    }\n",
       "\n",
       "    .dataframe thead th {\n",
       "        text-align: right;\n",
       "    }\n",
       "</style>\n",
       "<table border=\"1\" class=\"dataframe\">\n",
       "  <thead>\n",
       "    <tr style=\"text-align: right;\">\n",
       "      <th></th>\n",
       "      <th>date</th>\n",
       "      <th>inventory</th>\n",
       "    </tr>\n",
       "  </thead>\n",
       "  <tbody>\n",
       "    <tr>\n",
       "      <th>0</th>\n",
       "      <td>10/28/2017</td>\n",
       "      <td>38027.0</td>\n",
       "    </tr>\n",
       "    <tr>\n",
       "      <th>1</th>\n",
       "      <td>11/4/2017</td>\n",
       "      <td>37590.0</td>\n",
       "    </tr>\n",
       "    <tr>\n",
       "      <th>2</th>\n",
       "      <td>11/11/2017</td>\n",
       "      <td>36926.0</td>\n",
       "    </tr>\n",
       "    <tr>\n",
       "      <th>3</th>\n",
       "      <td>11/18/2017</td>\n",
       "      <td>36131.0</td>\n",
       "    </tr>\n",
       "    <tr>\n",
       "      <th>4</th>\n",
       "      <td>11/25/2017</td>\n",
       "      <td>35079.0</td>\n",
       "    </tr>\n",
       "  </tbody>\n",
       "</table>\n",
       "</div>"
      ],
      "text/plain": [
       "         date  inventory\n",
       "0  10/28/2017    38027.0\n",
       "1   11/4/2017    37590.0\n",
       "2  11/11/2017    36926.0\n",
       "3  11/18/2017    36131.0\n",
       "4  11/25/2017    35079.0"
      ]
     },
     "execution_count": 8,
     "metadata": {},
     "output_type": "execute_result"
    }
   ],
   "source": [
    "inventory.head()"
   ]
  },
  {
   "cell_type": "code",
   "execution_count": 9,
   "metadata": {},
   "outputs": [
    {
     "data": {
      "text/html": [
       "<div>\n",
       "<style scoped>\n",
       "    .dataframe tbody tr th:only-of-type {\n",
       "        vertical-align: middle;\n",
       "    }\n",
       "\n",
       "    .dataframe tbody tr th {\n",
       "        vertical-align: top;\n",
       "    }\n",
       "\n",
       "    .dataframe thead th {\n",
       "        text-align: right;\n",
       "    }\n",
       "</style>\n",
       "<table border=\"1\" class=\"dataframe\">\n",
       "  <thead>\n",
       "    <tr style=\"text-align: right;\">\n",
       "      <th></th>\n",
       "      <th>inventory</th>\n",
       "    </tr>\n",
       "    <tr>\n",
       "      <th>date</th>\n",
       "      <th></th>\n",
       "    </tr>\n",
       "  </thead>\n",
       "  <tbody>\n",
       "    <tr>\n",
       "      <th>2017-10-28</th>\n",
       "      <td>38027.0</td>\n",
       "    </tr>\n",
       "    <tr>\n",
       "      <th>2017-11-04</th>\n",
       "      <td>37590.0</td>\n",
       "    </tr>\n",
       "    <tr>\n",
       "      <th>2017-11-11</th>\n",
       "      <td>36926.0</td>\n",
       "    </tr>\n",
       "    <tr>\n",
       "      <th>2017-11-18</th>\n",
       "      <td>36131.0</td>\n",
       "    </tr>\n",
       "    <tr>\n",
       "      <th>2017-11-25</th>\n",
       "      <td>35079.0</td>\n",
       "    </tr>\n",
       "  </tbody>\n",
       "</table>\n",
       "</div>"
      ],
      "text/plain": [
       "            inventory\n",
       "date                 \n",
       "2017-10-28    38027.0\n",
       "2017-11-04    37590.0\n",
       "2017-11-11    36926.0\n",
       "2017-11-18    36131.0\n",
       "2017-11-25    35079.0"
      ]
     },
     "execution_count": 9,
     "metadata": {},
     "output_type": "execute_result"
    }
   ],
   "source": [
    "inventory['date'] = inventory.date.astype('datetime64')\n",
    "inventory = inventory.set_index('date')\n",
    "inventory.head()"
   ]
  },
  {
   "cell_type": "markdown",
   "metadata": {},
   "source": [
    "# Split Train/Test Data "
   ]
  },
  {
   "cell_type": "code",
   "execution_count": 10,
   "metadata": {},
   "outputs": [
    {
     "name": "stdout",
     "output_type": "stream",
     "text": [
      "115 39\n",
      "            inventory\n",
      "date                 \n",
      "2017-10-28    38027.0\n",
      "2017-11-04    37590.0\n",
      "2017-11-11    36926.0\n",
      "2017-11-18    36131.0\n",
      "2017-11-25    35079.0\n",
      "            inventory\n",
      "date                 \n",
      "2020-01-11    30730.0\n",
      "2020-01-18    30128.0\n",
      "2020-01-25    30164.0\n",
      "2020-02-01    30303.0\n",
      "2020-02-08    30573.0\n",
      "            inventory\n",
      "date                 \n",
      "2017-10-28    38027.0\n",
      "2017-11-04    37590.0\n",
      "2017-11-11    36926.0\n",
      "2017-11-18    36131.0\n",
      "2017-11-25    35079.0\n"
     ]
    }
   ],
   "source": [
    "train, test = temporal_train_test_split(inventory)\n",
    "print(train.shape[0], test.shape[0])\n",
    "print(train.head())\n",
    "print(test.head())\n",
    "combine = pd.concat([train,test])\n",
    "print(combine.head())"
   ]
  },
  {
   "cell_type": "code",
   "execution_count": 11,
   "metadata": {},
   "outputs": [
    {
     "data": {
      "text/plain": [
       "<matplotlib.axes._subplots.AxesSubplot at 0x2c34050f288>"
      ]
     },
     "execution_count": 11,
     "metadata": {},
     "output_type": "execute_result"
    },
    {
     "data": {
      "image/png": "[encoded data removed]",
      "text/plain": [
       "<Figure size 720x360 with 1 Axes>"
      ]
     },
     "metadata": {
      "needs_background": "light"
     },
     "output_type": "display_data"
    }
   ],
   "source": [
    "train.inventory.plot(figsize=(10,5), fontsize=11)\n",
    "test.inventory.plot(figsize=(10,5), fontsize=11)"
   ]
  },
  {
   "cell_type": "markdown",
   "metadata": {},
   "source": [
    "# Import Machine Learning Models"
   ]
  },
  {
   "cell_type": "code",
   "execution_count": 12,
   "metadata": {},
   "outputs": [],
   "source": [
    "import statsmodels.api as sm\n",
    "from statsmodels.tsa.api import ExponentialSmoothing, SimpleExpSmoothing, Holt\n",
    "from statsmodels.tsa.arima_model import ARIMA"
   ]
  },
  {
   "cell_type": "markdown",
   "metadata": {},
   "source": [
    "# ARIMA"
   ]
  },
  {
   "cell_type": "code",
   "execution_count": 13,
   "metadata": {},
   "outputs": [
    {
     "name": "stderr",
     "output_type": "stream",
     "text": [
      "C:\\Users\\emmayianpan\\AppData\\Roaming\\Python\\Python37\\site-packages\\statsmodels\\tsa\\base\\tsa_model.py:162: ValueWarning: No frequency information was provided, so inferred frequency W-SAT will be used.\n",
      "  % freq, ValueWarning)\n",
      "C:\\Users\\emmayianpan\\AppData\\Roaming\\Python\\Python37\\site-packages\\statsmodels\\tsa\\base\\tsa_model.py:162: ValueWarning: No frequency information was provided, so inferred frequency W-SAT will be used.\n",
      "  % freq, ValueWarning)\n",
      "C:\\ProgramData\\Anaconda3\\lib\\site-packages\\ipykernel_launcher.py:4: SettingWithCopyWarning: \n",
      "A value is trying to be set on a copy of a slice from a DataFrame.\n",
      "Try using .loc[row_indexer,col_indexer] = value instead\n",
      "\n",
      "See the caveats in the documentation: https://pandas.pydata.org/pandas-docs/stable/user_guide/indexing.html#returning-a-view-versus-a-copy\n",
      "  after removing the cwd from sys.path.\n"
     ]
    },
    {
     "data": {
      "text/html": [
       "<div>\n",
       "<style scoped>\n",
       "    .dataframe tbody tr th:only-of-type {\n",
       "        vertical-align: middle;\n",
       "    }\n",
       "\n",
       "    .dataframe tbody tr th {\n",
       "        vertical-align: top;\n",
       "    }\n",
       "\n",
       "    .dataframe thead th {\n",
       "        text-align: right;\n",
       "    }\n",
       "</style>\n",
       "<table border=\"1\" class=\"dataframe\">\n",
       "  <thead>\n",
       "    <tr style=\"text-align: right;\">\n",
       "      <th></th>\n",
       "      <th>inventory</th>\n",
       "      <th>arima</th>\n",
       "    </tr>\n",
       "    <tr>\n",
       "      <th>date</th>\n",
       "      <th></th>\n",
       "      <th></th>\n",
       "    </tr>\n",
       "  </thead>\n",
       "  <tbody>\n",
       "    <tr>\n",
       "      <th>2020-09-05</th>\n",
       "      <td>30905.0</td>\n",
       "      <td>29027.219595</td>\n",
       "    </tr>\n",
       "    <tr>\n",
       "      <th>2020-09-12</th>\n",
       "      <td>30862.0</td>\n",
       "      <td>28965.923901</td>\n",
       "    </tr>\n",
       "    <tr>\n",
       "      <th>2020-09-19</th>\n",
       "      <td>30845.0</td>\n",
       "      <td>28904.628206</td>\n",
       "    </tr>\n",
       "    <tr>\n",
       "      <th>2020-09-26</th>\n",
       "      <td>30871.0</td>\n",
       "      <td>28843.332512</td>\n",
       "    </tr>\n",
       "    <tr>\n",
       "      <th>2020-10-03</th>\n",
       "      <td>30759.0</td>\n",
       "      <td>28782.036817</td>\n",
       "    </tr>\n",
       "  </tbody>\n",
       "</table>\n",
       "</div>"
      ],
      "text/plain": [
       "            inventory         arima\n",
       "date                               \n",
       "2020-09-05    30905.0  29027.219595\n",
       "2020-09-12    30862.0  28965.923901\n",
       "2020-09-19    30845.0  28904.628206\n",
       "2020-09-26    30871.0  28843.332512\n",
       "2020-10-03    30759.0  28782.036817"
      ]
     },
     "execution_count": 13,
     "metadata": {},
     "output_type": "execute_result"
    }
   ],
   "source": [
    "#https://machinelearningmastery.com/arima-for-time-series-forecasting-with-python/\n",
    "arima = ARIMA(train.inventory, order=(0, 1, 1)).fit()\n",
    "fcst_arima = pd.DataFrame(arima.forecast(39)[0], index=test.index)\n",
    "test['arima'] = fcst_arima\n",
    "test.tail()"
   ]
  },
  {
   "cell_type": "code",
   "execution_count": 15,
   "metadata": {},
   "outputs": [
    {
     "data": {
      "image/png": "[encoded data removed]",
      "text/plain": [
       "<Figure size 720x360 with 1 Axes>"
      ]
     },
     "metadata": {
      "needs_background": "light"
     },
     "output_type": "display_data"
    }
   ],
   "source": [
    "#ARIMA chart\n",
    "plt.figure(figsize=(10,5))\n",
    "plt.plot(train['inventory'], label='Train')\n",
    "plt.plot(test['inventory'], label='Test')\n",
    "plt.plot(test['arima'], label='ARIMA', color='green')\n",
    "\n",
    "lower_series = test['inventory']\n",
    "upper_series = test['arima']\n",
    "\n",
    "plt.fill_between(lower_series.index, lower_series, upper_series, \n",
    "                 color='k', alpha=.15)\n",
    "\n",
    "plt.xlabel('Month')\n",
    "plt.ylabel('Inventory')\n",
    "plt.legend(loc='best')\n",
    "plt.show()"
   ]
  },
  {
   "cell_type": "code",
   "execution_count": 16,
   "metadata": {},
   "outputs": [
    {
     "name": "stdout",
     "output_type": "stream",
     "text": [
      "RMSE = 1640.1355925659534\n"
     ]
    }
   ],
   "source": [
    "RMSE_arima = sm.tools.eval_measures.rmse(test.inventory,test['arima'])\n",
    "print('RMSE', '=', RMSE_arima)"
   ]
  },
  {
   "cell_type": "markdown",
   "metadata": {},
   "source": [
    "# Moving Average"
   ]
  },
  {
   "cell_type": "code",
   "execution_count": 17,
   "metadata": {},
   "outputs": [
    {
     "name": "stderr",
     "output_type": "stream",
     "text": [
      "C:\\ProgramData\\Anaconda3\\lib\\site-packages\\ipykernel_launcher.py:3: SettingWithCopyWarning: \n",
      "A value is trying to be set on a copy of a slice from a DataFrame.\n",
      "Try using .loc[row_indexer,col_indexer] = value instead\n",
      "\n",
      "See the caveats in the documentation: https://pandas.pydata.org/pandas-docs/stable/user_guide/indexing.html#returning-a-view-versus-a-copy\n",
      "  This is separate from the ipykernel package so we can avoid doing imports until\n"
     ]
    },
    {
     "data": {
      "text/html": [
       "<div>\n",
       "<style scoped>\n",
       "    .dataframe tbody tr th:only-of-type {\n",
       "        vertical-align: middle;\n",
       "    }\n",
       "\n",
       "    .dataframe tbody tr th {\n",
       "        vertical-align: top;\n",
       "    }\n",
       "\n",
       "    .dataframe thead th {\n",
       "        text-align: right;\n",
       "    }\n",
       "</style>\n",
       "<table border=\"1\" class=\"dataframe\">\n",
       "  <thead>\n",
       "    <tr style=\"text-align: right;\">\n",
       "      <th></th>\n",
       "      <th>inventory</th>\n",
       "      <th>arima</th>\n",
       "      <th>ma</th>\n",
       "    </tr>\n",
       "    <tr>\n",
       "      <th>date</th>\n",
       "      <th></th>\n",
       "      <th></th>\n",
       "      <th></th>\n",
       "    </tr>\n",
       "  </thead>\n",
       "  <tbody>\n",
       "    <tr>\n",
       "      <th>2020-01-11</th>\n",
       "      <td>30730.0</td>\n",
       "      <td>31111.273205</td>\n",
       "      <td>32248.5</td>\n",
       "    </tr>\n",
       "    <tr>\n",
       "      <th>2020-01-18</th>\n",
       "      <td>30128.0</td>\n",
       "      <td>31049.977511</td>\n",
       "      <td>31176.0</td>\n",
       "    </tr>\n",
       "    <tr>\n",
       "      <th>2020-01-25</th>\n",
       "      <td>30164.0</td>\n",
       "      <td>30988.681817</td>\n",
       "      <td>30429.0</td>\n",
       "    </tr>\n",
       "    <tr>\n",
       "      <th>2020-02-01</th>\n",
       "      <td>30303.0</td>\n",
       "      <td>30927.386122</td>\n",
       "      <td>30146.0</td>\n",
       "    </tr>\n",
       "    <tr>\n",
       "      <th>2020-02-08</th>\n",
       "      <td>30573.0</td>\n",
       "      <td>30866.090428</td>\n",
       "      <td>30233.5</td>\n",
       "    </tr>\n",
       "  </tbody>\n",
       "</table>\n",
       "</div>"
      ],
      "text/plain": [
       "            inventory         arima       ma\n",
       "date                                        \n",
       "2020-01-11    30730.0  31111.273205  32248.5\n",
       "2020-01-18    30128.0  31049.977511  31176.0\n",
       "2020-01-25    30164.0  30988.681817  30429.0\n",
       "2020-02-01    30303.0  30927.386122  30146.0\n",
       "2020-02-08    30573.0  30866.090428  30233.5"
      ]
     },
     "execution_count": 17,
     "metadata": {},
     "output_type": "execute_result"
    }
   ],
   "source": [
    "ma = inventory['inventory'].rolling(2).mean().shift()\n",
    "fcst_ma = ma.loc[test.index]\n",
    "test['ma'] = fcst_ma\n",
    "test.head()"
   ]
  },
  {
   "cell_type": "code",
   "execution_count": 18,
   "metadata": {},
   "outputs": [
    {
     "data": {
      "image/png": "[encoded data removed]",
      "text/plain": [
       "<Figure size 720x360 with 1 Axes>"
      ]
     },
     "metadata": {
      "needs_background": "light"
     },
     "output_type": "display_data"
    }
   ],
   "source": [
    "#Moving Average chart\n",
    "plt.figure(figsize=(10,5))\n",
    "plt.plot(train['inventory'], label='Train')\n",
    "plt.plot(test['inventory'], label='Test')\n",
    "plt.plot(test['ma'], label='Moving Average', color='green')\n",
    "\n",
    "lower_series = test['inventory']\n",
    "upper_series = test['ma']\n",
    "\n",
    "plt.fill_between(lower_series.index, lower_series, upper_series, \n",
    "                 color='k', alpha=.15)\n",
    "\n",
    "plt.xlabel('Month')\n",
    "plt.ylabel('Inventory')\n",
    "plt.legend(loc='best')\n",
    "plt.show()"
   ]
  },
  {
   "cell_type": "code",
   "execution_count": 19,
   "metadata": {},
   "outputs": [
    {
     "name": "stdout",
     "output_type": "stream",
     "text": [
      "RMSE = 519.9499606101164\n"
     ]
    }
   ],
   "source": [
    "RMSE_ma = sm.tools.eval_measures.rmse(test.inventory,test['ma'])\n",
    "print('RMSE', '=', RMSE_ma)"
   ]
  },
  {
   "cell_type": "markdown",
   "metadata": {},
   "source": [
    "# Naive"
   ]
  },
  {
   "cell_type": "code",
   "execution_count": 20,
   "metadata": {},
   "outputs": [
    {
     "name": "stderr",
     "output_type": "stream",
     "text": [
      "C:\\Users\\emmayianpan\\AppData\\Roaming\\Python\\Python37\\site-packages\\statsmodels\\tsa\\base\\tsa_model.py:162: ValueWarning: No frequency information was provided, so inferred frequency W-SAT will be used.\n",
      "  % freq, ValueWarning)\n",
      "C:\\Users\\emmayianpan\\AppData\\Roaming\\Python\\Python37\\site-packages\\statsmodels\\tsa\\base\\tsa_model.py:162: ValueWarning: No frequency information was provided, so inferred frequency W-SAT will be used.\n",
      "  % freq, ValueWarning)\n",
      "C:\\ProgramData\\Anaconda3\\lib\\site-packages\\ipykernel_launcher.py:4: SettingWithCopyWarning: \n",
      "A value is trying to be set on a copy of a slice from a DataFrame.\n",
      "Try using .loc[row_indexer,col_indexer] = value instead\n",
      "\n",
      "See the caveats in the documentation: https://pandas.pydata.org/pandas-docs/stable/user_guide/indexing.html#returning-a-view-versus-a-copy\n",
      "  after removing the cwd from sys.path.\n"
     ]
    },
    {
     "data": {
      "text/html": [
       "<div>\n",
       "<style scoped>\n",
       "    .dataframe tbody tr th:only-of-type {\n",
       "        vertical-align: middle;\n",
       "    }\n",
       "\n",
       "    .dataframe tbody tr th {\n",
       "        vertical-align: top;\n",
       "    }\n",
       "\n",
       "    .dataframe thead th {\n",
       "        text-align: right;\n",
       "    }\n",
       "</style>\n",
       "<table border=\"1\" class=\"dataframe\">\n",
       "  <thead>\n",
       "    <tr style=\"text-align: right;\">\n",
       "      <th></th>\n",
       "      <th>inventory</th>\n",
       "      <th>arima</th>\n",
       "      <th>ma</th>\n",
       "      <th>naive</th>\n",
       "    </tr>\n",
       "    <tr>\n",
       "      <th>date</th>\n",
       "      <th></th>\n",
       "      <th></th>\n",
       "      <th></th>\n",
       "      <th></th>\n",
       "    </tr>\n",
       "  </thead>\n",
       "  <tbody>\n",
       "    <tr>\n",
       "      <th>2020-09-05</th>\n",
       "      <td>30905.0</td>\n",
       "      <td>29027.219595</td>\n",
       "      <td>30968.5</td>\n",
       "      <td>30933.0</td>\n",
       "    </tr>\n",
       "    <tr>\n",
       "      <th>2020-09-12</th>\n",
       "      <td>30862.0</td>\n",
       "      <td>28965.923901</td>\n",
       "      <td>30919.0</td>\n",
       "      <td>30905.0</td>\n",
       "    </tr>\n",
       "    <tr>\n",
       "      <th>2020-09-19</th>\n",
       "      <td>30845.0</td>\n",
       "      <td>28904.628206</td>\n",
       "      <td>30883.5</td>\n",
       "      <td>30862.0</td>\n",
       "    </tr>\n",
       "    <tr>\n",
       "      <th>2020-09-26</th>\n",
       "      <td>30871.0</td>\n",
       "      <td>28843.332512</td>\n",
       "      <td>30853.5</td>\n",
       "      <td>30845.0</td>\n",
       "    </tr>\n",
       "    <tr>\n",
       "      <th>2020-10-03</th>\n",
       "      <td>30759.0</td>\n",
       "      <td>28782.036817</td>\n",
       "      <td>30858.0</td>\n",
       "      <td>30871.0</td>\n",
       "    </tr>\n",
       "  </tbody>\n",
       "</table>\n",
       "</div>"
      ],
      "text/plain": [
       "            inventory         arima       ma    naive\n",
       "date                                                 \n",
       "2020-09-05    30905.0  29027.219595  30968.5  30933.0\n",
       "2020-09-12    30862.0  28965.923901  30919.0  30905.0\n",
       "2020-09-19    30845.0  28904.628206  30883.5  30862.0\n",
       "2020-09-26    30871.0  28843.332512  30853.5  30845.0\n",
       "2020-10-03    30759.0  28782.036817  30858.0  30871.0"
      ]
     },
     "execution_count": 20,
     "metadata": {},
     "output_type": "execute_result"
    }
   ],
   "source": [
    "#Naive (using SES with alpha=1)\n",
    "naive = SimpleExpSmoothing(train.inventory).fit(smoothing_level=1, optimized=False)\n",
    "fcst_naive = SimpleExpSmoothing(combine.inventory).fit(smoothing_level=1, optimized=False)\n",
    "test['naive'] = fcst_naive.fittedvalues.loc[test.index]\n",
    "test.tail()"
   ]
  },
  {
   "cell_type": "code",
   "execution_count": 21,
   "metadata": {},
   "outputs": [
    {
     "data": {
      "image/png": "[encoded data removed]",
      "text/plain": [
       "<Figure size 720x360 with 1 Axes>"
      ]
     },
     "metadata": {
      "needs_background": "light"
     },
     "output_type": "display_data"
    }
   ],
   "source": [
    "#Naive chart\n",
    "plt.figure(figsize=(10,5))\n",
    "plt.plot(train['inventory'], label='Train')\n",
    "plt.plot(test['inventory'], label='Test')\n",
    "plt.plot(test['naive'], label='Naive', color='green')\n",
    "\n",
    "lower_series = test['inventory']\n",
    "upper_series = test['naive']\n",
    "\n",
    "plt.fill_between(lower_series.index, lower_series, upper_series, \n",
    "                 color='k', alpha=.15)\n",
    "\n",
    "plt.ylabel('Inventory')\n",
    "plt.xlabel('Month')\n",
    "plt.legend(loc='best')\n",
    "plt.show()"
   ]
  },
  {
   "cell_type": "code",
   "execution_count": 22,
   "metadata": {
    "scrolled": true
   },
   "outputs": [
    {
     "name": "stdout",
     "output_type": "stream",
     "text": [
      "RMSE = 342.63732040356217\n"
     ]
    }
   ],
   "source": [
    "RMSE_naive = sm.tools.eval_measures.rmse(test.inventory,test['naive'])\n",
    "print('RMSE', '=', RMSE_naive)"
   ]
  },
  {
   "cell_type": "markdown",
   "metadata": {},
   "source": [
    "# Simple Exponenital Smoothing "
   ]
  },
  {
   "cell_type": "code",
   "execution_count": 23,
   "metadata": {
    "scrolled": true
   },
   "outputs": [
    {
     "name": "stderr",
     "output_type": "stream",
     "text": [
      "C:\\Users\\emmayianpan\\AppData\\Roaming\\Python\\Python37\\site-packages\\statsmodels\\tsa\\base\\tsa_model.py:162: ValueWarning: No frequency information was provided, so inferred frequency W-SAT will be used.\n",
      "  % freq, ValueWarning)\n",
      "C:\\Users\\emmayianpan\\AppData\\Roaming\\Python\\Python37\\site-packages\\statsmodels\\tsa\\holtwinters.py:731: RuntimeWarning: invalid value encountered in greater_equal\n",
      "  loc = initial_p >= ub\n",
      "C:\\Users\\emmayianpan\\AppData\\Roaming\\Python\\Python37\\site-packages\\statsmodels\\tsa\\base\\tsa_model.py:162: ValueWarning: No frequency information was provided, so inferred frequency W-SAT will be used.\n",
      "  % freq, ValueWarning)\n",
      "C:\\ProgramData\\Anaconda3\\lib\\site-packages\\ipykernel_launcher.py:4: SettingWithCopyWarning: \n",
      "A value is trying to be set on a copy of a slice from a DataFrame.\n",
      "Try using .loc[row_indexer,col_indexer] = value instead\n",
      "\n",
      "See the caveats in the documentation: https://pandas.pydata.org/pandas-docs/stable/user_guide/indexing.html#returning-a-view-versus-a-copy\n",
      "  after removing the cwd from sys.path.\n"
     ]
    },
    {
     "data": {
      "text/html": [
       "<div>\n",
       "<style scoped>\n",
       "    .dataframe tbody tr th:only-of-type {\n",
       "        vertical-align: middle;\n",
       "    }\n",
       "\n",
       "    .dataframe tbody tr th {\n",
       "        vertical-align: top;\n",
       "    }\n",
       "\n",
       "    .dataframe thead th {\n",
       "        text-align: right;\n",
       "    }\n",
       "</style>\n",
       "<table border=\"1\" class=\"dataframe\">\n",
       "  <thead>\n",
       "    <tr style=\"text-align: right;\">\n",
       "      <th></th>\n",
       "      <th>inventory</th>\n",
       "      <th>arima</th>\n",
       "      <th>ma</th>\n",
       "      <th>naive</th>\n",
       "      <th>ses</th>\n",
       "    </tr>\n",
       "    <tr>\n",
       "      <th>date</th>\n",
       "      <th></th>\n",
       "      <th></th>\n",
       "      <th></th>\n",
       "      <th></th>\n",
       "      <th></th>\n",
       "    </tr>\n",
       "  </thead>\n",
       "  <tbody>\n",
       "    <tr>\n",
       "      <th>2020-01-11</th>\n",
       "      <td>30730.0</td>\n",
       "      <td>31111.273205</td>\n",
       "      <td>32248.5</td>\n",
       "      <td>31622.0</td>\n",
       "      <td>30730.0</td>\n",
       "    </tr>\n",
       "    <tr>\n",
       "      <th>2020-01-18</th>\n",
       "      <td>30128.0</td>\n",
       "      <td>31049.977511</td>\n",
       "      <td>31176.0</td>\n",
       "      <td>30730.0</td>\n",
       "      <td>30730.0</td>\n",
       "    </tr>\n",
       "    <tr>\n",
       "      <th>2020-01-25</th>\n",
       "      <td>30164.0</td>\n",
       "      <td>30988.681817</td>\n",
       "      <td>30429.0</td>\n",
       "      <td>30128.0</td>\n",
       "      <td>30128.0</td>\n",
       "    </tr>\n",
       "    <tr>\n",
       "      <th>2020-02-01</th>\n",
       "      <td>30303.0</td>\n",
       "      <td>30927.386122</td>\n",
       "      <td>30146.0</td>\n",
       "      <td>30164.0</td>\n",
       "      <td>30164.0</td>\n",
       "    </tr>\n",
       "    <tr>\n",
       "      <th>2020-02-08</th>\n",
       "      <td>30573.0</td>\n",
       "      <td>30866.090428</td>\n",
       "      <td>30233.5</td>\n",
       "      <td>30303.0</td>\n",
       "      <td>30303.0</td>\n",
       "    </tr>\n",
       "  </tbody>\n",
       "</table>\n",
       "</div>"
      ],
      "text/plain": [
       "            inventory         arima       ma    naive      ses\n",
       "date                                                          \n",
       "2020-01-11    30730.0  31111.273205  32248.5  31622.0  30730.0\n",
       "2020-01-18    30128.0  31049.977511  31176.0  30730.0  30730.0\n",
       "2020-01-25    30164.0  30988.681817  30429.0  30128.0  30128.0\n",
       "2020-02-01    30303.0  30927.386122  30146.0  30164.0  30164.0\n",
       "2020-02-08    30573.0  30866.090428  30233.5  30303.0  30303.0"
      ]
     },
     "execution_count": 23,
     "metadata": {},
     "output_type": "execute_result"
    }
   ],
   "source": [
    "#Simple Exponenital Smoothing\n",
    "ses = SimpleExpSmoothing(train.inventory).fit()\n",
    "fcst_ses = SimpleExpSmoothing(test.inventory).fit(smoothing_level=ses.model.params['smoothing_level'], optimized=False)\n",
    "test['ses'] = fcst_ses.fittedvalues\n",
    "test.head()"
   ]
  },
  {
   "cell_type": "code",
   "execution_count": 24,
   "metadata": {},
   "outputs": [
    {
     "data": {
      "image/png": "[encoded data removed]",
      "text/plain": [
       "<Figure size 720x360 with 1 Axes>"
      ]
     },
     "metadata": {
      "needs_background": "light"
     },
     "output_type": "display_data"
    }
   ],
   "source": [
    "#Simple Exponenital Smoothing chart\n",
    "plt.figure(figsize=(10,5))\n",
    "plt.plot(train['inventory'], label='Train')\n",
    "plt.plot(test['inventory'], label='Test')\n",
    "plt.plot(test['ses'], label='SES \\u03B1='+ \"{:.4f}\".format(ses.model.params['smoothing_level']), color='green')\n",
    "\n",
    "lower_series = test['inventory']\n",
    "upper_series = test['ses']\n",
    "\n",
    "plt.fill_between(lower_series.index, lower_series, upper_series, \n",
    "                 color='k', alpha=.15)\n",
    "\n",
    "plt.ylabel('Inventory')\n",
    "plt.xlabel('Month')\n",
    "plt.legend(loc='best')\n",
    "plt.show()"
   ]
  },
  {
   "cell_type": "code",
   "execution_count": 25,
   "metadata": {
    "scrolled": true
   },
   "outputs": [
    {
     "name": "stdout",
     "output_type": "stream",
     "text": [
      "RMSE = 311.4461306673954\n"
     ]
    }
   ],
   "source": [
    "RMSE_ses = sm.tools.eval_measures.rmse(test.inventory,test['ses'])\n",
    "print('RMSE', '=', RMSE_ses)"
   ]
  },
  {
   "cell_type": "markdown",
   "metadata": {},
   "source": [
    "# Holt Winter (Additive)"
   ]
  },
  {
   "cell_type": "code",
   "execution_count": 26,
   "metadata": {},
   "outputs": [
    {
     "name": "stderr",
     "output_type": "stream",
     "text": [
      "C:\\Users\\emmayianpan\\AppData\\Roaming\\Python\\Python37\\site-packages\\statsmodels\\tsa\\base\\tsa_model.py:162: ValueWarning: No frequency information was provided, so inferred frequency W-SAT will be used.\n",
      "  % freq, ValueWarning)\n",
      "C:\\Users\\emmayianpan\\AppData\\Roaming\\Python\\Python37\\site-packages\\statsmodels\\tsa\\holtwinters.py:725: RuntimeWarning: invalid value encountered in less_equal\n",
      "  loc = initial_p <= lb\n",
      "C:\\Users\\emmayianpan\\AppData\\Roaming\\Python\\Python37\\site-packages\\statsmodels\\tsa\\holtwinters.py:731: RuntimeWarning: invalid value encountered in greater_equal\n",
      "  loc = initial_p >= ub\n",
      "C:\\Users\\emmayianpan\\AppData\\Roaming\\Python\\Python37\\site-packages\\statsmodels\\tsa\\holtwinters.py:744: ConvergenceWarning: Optimization failed to converge. Check mle_retvals.\n",
      "  ConvergenceWarning)\n",
      "C:\\Users\\emmayianpan\\AppData\\Roaming\\Python\\Python37\\site-packages\\statsmodels\\tsa\\base\\tsa_model.py:162: ValueWarning: No frequency information was provided, so inferred frequency W-SAT will be used.\n",
      "  % freq, ValueWarning)\n",
      "C:\\ProgramData\\Anaconda3\\lib\\site-packages\\ipykernel_launcher.py:4: SettingWithCopyWarning: \n",
      "A value is trying to be set on a copy of a slice from a DataFrame.\n",
      "Try using .loc[row_indexer,col_indexer] = value instead\n",
      "\n",
      "See the caveats in the documentation: https://pandas.pydata.org/pandas-docs/stable/user_guide/indexing.html#returning-a-view-versus-a-copy\n",
      "  after removing the cwd from sys.path.\n"
     ]
    },
    {
     "data": {
      "text/html": [
       "<div>\n",
       "<style scoped>\n",
       "    .dataframe tbody tr th:only-of-type {\n",
       "        vertical-align: middle;\n",
       "    }\n",
       "\n",
       "    .dataframe tbody tr th {\n",
       "        vertical-align: top;\n",
       "    }\n",
       "\n",
       "    .dataframe thead th {\n",
       "        text-align: right;\n",
       "    }\n",
       "</style>\n",
       "<table border=\"1\" class=\"dataframe\">\n",
       "  <thead>\n",
       "    <tr style=\"text-align: right;\">\n",
       "      <th></th>\n",
       "      <th>inventory</th>\n",
       "      <th>arima</th>\n",
       "      <th>ma</th>\n",
       "      <th>naive</th>\n",
       "      <th>ses</th>\n",
       "      <th>holtwinter_add</th>\n",
       "    </tr>\n",
       "    <tr>\n",
       "      <th>date</th>\n",
       "      <th></th>\n",
       "      <th></th>\n",
       "      <th></th>\n",
       "      <th></th>\n",
       "      <th></th>\n",
       "      <th></th>\n",
       "    </tr>\n",
       "  </thead>\n",
       "  <tbody>\n",
       "    <tr>\n",
       "      <th>2020-01-11</th>\n",
       "      <td>30730.0</td>\n",
       "      <td>31111.273205</td>\n",
       "      <td>32248.5</td>\n",
       "      <td>31622.0</td>\n",
       "      <td>30730.0</td>\n",
       "      <td>30714.215278</td>\n",
       "    </tr>\n",
       "    <tr>\n",
       "      <th>2020-01-18</th>\n",
       "      <td>30128.0</td>\n",
       "      <td>31049.977511</td>\n",
       "      <td>31176.0</td>\n",
       "      <td>30730.0</td>\n",
       "      <td>30730.0</td>\n",
       "      <td>30105.175554</td>\n",
       "    </tr>\n",
       "    <tr>\n",
       "      <th>2020-01-25</th>\n",
       "      <td>30164.0</td>\n",
       "      <td>30988.681817</td>\n",
       "      <td>30429.0</td>\n",
       "      <td>30128.0</td>\n",
       "      <td>30128.0</td>\n",
       "      <td>30138.473204</td>\n",
       "    </tr>\n",
       "    <tr>\n",
       "      <th>2020-02-01</th>\n",
       "      <td>30303.0</td>\n",
       "      <td>30927.386122</td>\n",
       "      <td>30146.0</td>\n",
       "      <td>30164.0</td>\n",
       "      <td>30164.0</td>\n",
       "      <td>30276.900257</td>\n",
       "    </tr>\n",
       "    <tr>\n",
       "      <th>2020-02-08</th>\n",
       "      <td>30573.0</td>\n",
       "      <td>30866.090428</td>\n",
       "      <td>30233.5</td>\n",
       "      <td>30303.0</td>\n",
       "      <td>30303.0</td>\n",
       "      <td>30547.351846</td>\n",
       "    </tr>\n",
       "  </tbody>\n",
       "</table>\n",
       "</div>"
      ],
      "text/plain": [
       "            inventory         arima       ma    naive      ses  holtwinter_add\n",
       "date                                                                          \n",
       "2020-01-11    30730.0  31111.273205  32248.5  31622.0  30730.0    30714.215278\n",
       "2020-01-18    30128.0  31049.977511  31176.0  30730.0  30730.0    30105.175554\n",
       "2020-01-25    30164.0  30988.681817  30429.0  30128.0  30128.0    30138.473204\n",
       "2020-02-01    30303.0  30927.386122  30146.0  30164.0  30164.0    30276.900257\n",
       "2020-02-08    30573.0  30866.090428  30233.5  30303.0  30303.0    30547.351846"
      ]
     },
     "execution_count": 26,
     "metadata": {},
     "output_type": "execute_result"
    }
   ],
   "source": [
    "#Holt Winter (t = 3 months, additive)\n",
    "holtwinter_add = ExponentialSmoothing(train.inventory, seasonal_periods=12, trend='add', seasonal='add').fit()\n",
    "fcst_holtwinter_add = ExponentialSmoothing(test.inventory, seasonal_periods=12, trend='add', seasonal='add').fit(smoothing_level=holtwinter_add.model.params['smoothing_level'], smoothing_slope=holtwinter_add.model.params['smoothing_slope'], smoothing_seasonal=holtwinter_add.model.params['smoothing_seasonal'], optimized=False)\n",
    "test['holtwinter_add'] = fcst_holtwinter_add.fittedvalues\n",
    "test.head()"
   ]
  },
  {
   "cell_type": "code",
   "execution_count": 27,
   "metadata": {},
   "outputs": [
    {
     "data": {
      "image/png": "[encoded data removed]",
      "text/plain": [
       "<Figure size 1008x432 with 1 Axes>"
      ]
     },
     "metadata": {
      "needs_background": "light"
     },
     "output_type": "display_data"
    }
   ],
   "source": [
    "#Holt Winter (Additive) chart\n",
    "plt.figure(figsize=(14,6))\n",
    "plt.plot(train['inventory'], label='Train')\n",
    "plt.plot(test['inventory'], label='Test')\n",
    "plt.plot(test['holtwinter_add'], label='Holt Winter-Add \\u03B1='+\"{:.3f}\".format(holtwinter_add.model.params['smoothing_level'])+' \\u03B2='+\"{:.3f}\".format(holtwinter_add.model.params['smoothing_slope'])+' \\u03B3='+\"{:.3f}\".format(holtwinter_add.model.params['smoothing_seasonal']), color='green')\n",
    "\n",
    "lower_series = test['inventory']\n",
    "upper_series = test['holtwinter_add']\n",
    "\n",
    "plt.fill_between(lower_series.index, lower_series, upper_series, \n",
    "                 color='k', alpha=.15)\n",
    "\n",
    "plt.ylabel('Inventory')\n",
    "plt.xlabel('Month')\n",
    "plt.legend(loc='best')\n",
    "plt.show()"
   ]
  },
  {
   "cell_type": "code",
   "execution_count": 28,
   "metadata": {
    "scrolled": true
   },
   "outputs": [
    {
     "name": "stdout",
     "output_type": "stream",
     "text": [
      "RMSE = 737.2043544402944\n"
     ]
    }
   ],
   "source": [
    "RMSE_holtwinter_add = sm.tools.eval_measures.rmse(test.inventory,test['holtwinter_add'])\n",
    "print('RMSE', '=', RMSE_holtwinter_add)"
   ]
  },
  {
   "cell_type": "markdown",
   "metadata": {},
   "source": [
    "# Forecast"
   ]
  },
  {
   "cell_type": "code",
   "execution_count": 29,
   "metadata": {
    "scrolled": true
   },
   "outputs": [
    {
     "data": {
      "text/plain": [
       "2021-01-16    31622.0\n",
       "2021-01-23    31622.0\n",
       "2021-01-30    31622.0\n",
       "2021-02-06    31622.0\n",
       "2021-02-13    31622.0\n",
       "Freq: W-SAT, Name: forecast, dtype: float64"
      ]
     },
     "execution_count": 29,
     "metadata": {},
     "output_type": "execute_result"
    }
   ],
   "source": [
    "fcst_inventory = ses.predict(start= len(train), \n",
    "                          end = (len(train)-3) + 5 * 12).rename('forecast')\n",
    "fcst_inventory.tail()"
   ]
  },
  {
   "cell_type": "code",
   "execution_count": 30,
   "metadata": {},
   "outputs": [
    {
     "data": {
      "text/html": [
       "<div>\n",
       "<style scoped>\n",
       "    .dataframe tbody tr th:only-of-type {\n",
       "        vertical-align: middle;\n",
       "    }\n",
       "\n",
       "    .dataframe tbody tr th {\n",
       "        vertical-align: top;\n",
       "    }\n",
       "\n",
       "    .dataframe thead th {\n",
       "        text-align: right;\n",
       "    }\n",
       "</style>\n",
       "<table border=\"1\" class=\"dataframe\">\n",
       "  <thead>\n",
       "    <tr style=\"text-align: right;\">\n",
       "      <th></th>\n",
       "      <th>forecast</th>\n",
       "    </tr>\n",
       "  </thead>\n",
       "  <tbody>\n",
       "    <tr>\n",
       "      <th>2020-10-10</th>\n",
       "      <td>31622.0</td>\n",
       "    </tr>\n",
       "    <tr>\n",
       "      <th>2020-10-17</th>\n",
       "      <td>31622.0</td>\n",
       "    </tr>\n",
       "    <tr>\n",
       "      <th>2020-10-24</th>\n",
       "      <td>31622.0</td>\n",
       "    </tr>\n",
       "    <tr>\n",
       "      <th>2020-10-31</th>\n",
       "      <td>31622.0</td>\n",
       "    </tr>\n",
       "    <tr>\n",
       "      <th>2020-11-07</th>\n",
       "      <td>31622.0</td>\n",
       "    </tr>\n",
       "  </tbody>\n",
       "</table>\n",
       "</div>"
      ],
      "text/plain": [
       "            forecast\n",
       "2020-10-10   31622.0\n",
       "2020-10-17   31622.0\n",
       "2020-10-24   31622.0\n",
       "2020-10-31   31622.0\n",
       "2020-11-07   31622.0"
      ]
     },
     "execution_count": 30,
     "metadata": {},
     "output_type": "execute_result"
    }
   ],
   "source": [
    "fcst_inventory = fcst_inventory.loc['20201010':'20210213']\n",
    "fcst_inventory = pd.DataFrame(fcst_inventory)\n",
    "fcst_inventory.head()"
   ]
  },
  {
   "cell_type": "code",
   "execution_count": 31,
   "metadata": {},
   "outputs": [],
   "source": [
    "fcst_inventory = fcst_inventory.reset_index()"
   ]
  },
  {
   "cell_type": "code",
   "execution_count": 32,
   "metadata": {
    "scrolled": true
   },
   "outputs": [
    {
     "data": {
      "text/html": [
       "<div>\n",
       "<style scoped>\n",
       "    .dataframe tbody tr th:only-of-type {\n",
       "        vertical-align: middle;\n",
       "    }\n",
       "\n",
       "    .dataframe tbody tr th {\n",
       "        vertical-align: top;\n",
       "    }\n",
       "\n",
       "    .dataframe thead th {\n",
       "        text-align: right;\n",
       "    }\n",
       "</style>\n",
       "<table border=\"1\" class=\"dataframe\">\n",
       "  <thead>\n",
       "    <tr style=\"text-align: right;\">\n",
       "      <th></th>\n",
       "      <th>date</th>\n",
       "      <th>forecast</th>\n",
       "    </tr>\n",
       "  </thead>\n",
       "  <tbody>\n",
       "    <tr>\n",
       "      <th>0</th>\n",
       "      <td>2020-10-10</td>\n",
       "      <td>31622.0</td>\n",
       "    </tr>\n",
       "    <tr>\n",
       "      <th>1</th>\n",
       "      <td>2020-10-17</td>\n",
       "      <td>31622.0</td>\n",
       "    </tr>\n",
       "    <tr>\n",
       "      <th>2</th>\n",
       "      <td>2020-10-24</td>\n",
       "      <td>31622.0</td>\n",
       "    </tr>\n",
       "    <tr>\n",
       "      <th>3</th>\n",
       "      <td>2020-10-31</td>\n",
       "      <td>31622.0</td>\n",
       "    </tr>\n",
       "    <tr>\n",
       "      <th>4</th>\n",
       "      <td>2020-11-07</td>\n",
       "      <td>31622.0</td>\n",
       "    </tr>\n",
       "  </tbody>\n",
       "</table>\n",
       "</div>"
      ],
      "text/plain": [
       "        date  forecast\n",
       "0 2020-10-10   31622.0\n",
       "1 2020-10-17   31622.0\n",
       "2 2020-10-24   31622.0\n",
       "3 2020-10-31   31622.0\n",
       "4 2020-11-07   31622.0"
      ]
     },
     "execution_count": 32,
     "metadata": {},
     "output_type": "execute_result"
    }
   ],
   "source": [
    "fcst_inventory.columns =['date','forecast']\n",
    "fcst_inventory.head()"
   ]
  },
  {
   "cell_type": "code",
   "execution_count": 33,
   "metadata": {},
   "outputs": [
    {
     "data": {
      "text/html": [
       "<div>\n",
       "<style scoped>\n",
       "    .dataframe tbody tr th:only-of-type {\n",
       "        vertical-align: middle;\n",
       "    }\n",
       "\n",
       "    .dataframe tbody tr th {\n",
       "        vertical-align: top;\n",
       "    }\n",
       "\n",
       "    .dataframe thead th {\n",
       "        text-align: right;\n",
       "    }\n",
       "</style>\n",
       "<table border=\"1\" class=\"dataframe\">\n",
       "  <thead>\n",
       "    <tr style=\"text-align: right;\">\n",
       "      <th></th>\n",
       "      <th>forecast</th>\n",
       "    </tr>\n",
       "    <tr>\n",
       "      <th>date</th>\n",
       "      <th></th>\n",
       "    </tr>\n",
       "  </thead>\n",
       "  <tbody>\n",
       "    <tr>\n",
       "      <th>2020-10-10</th>\n",
       "      <td>31622.0</td>\n",
       "    </tr>\n",
       "    <tr>\n",
       "      <th>2020-10-17</th>\n",
       "      <td>31622.0</td>\n",
       "    </tr>\n",
       "    <tr>\n",
       "      <th>2020-10-24</th>\n",
       "      <td>31622.0</td>\n",
       "    </tr>\n",
       "    <tr>\n",
       "      <th>2020-10-31</th>\n",
       "      <td>31622.0</td>\n",
       "    </tr>\n",
       "    <tr>\n",
       "      <th>2020-11-07</th>\n",
       "      <td>31622.0</td>\n",
       "    </tr>\n",
       "  </tbody>\n",
       "</table>\n",
       "</div>"
      ],
      "text/plain": [
       "            forecast\n",
       "date                \n",
       "2020-10-10   31622.0\n",
       "2020-10-17   31622.0\n",
       "2020-10-24   31622.0\n",
       "2020-10-31   31622.0\n",
       "2020-11-07   31622.0"
      ]
     },
     "execution_count": 33,
     "metadata": {},
     "output_type": "execute_result"
    }
   ],
   "source": [
    "fcst_inventory = fcst_inventory.set_index('date')\n",
    "fcst_inventory.head()"
   ]
  },
  {
   "cell_type": "markdown",
   "metadata": {},
   "source": [
    "# Merge Test Data/Forecast"
   ]
  },
  {
   "cell_type": "code",
   "execution_count": 34,
   "metadata": {},
   "outputs": [
    {
     "data": {
      "text/html": [
       "<div>\n",
       "<style scoped>\n",
       "    .dataframe tbody tr th:only-of-type {\n",
       "        vertical-align: middle;\n",
       "    }\n",
       "\n",
       "    .dataframe tbody tr th {\n",
       "        vertical-align: top;\n",
       "    }\n",
       "\n",
       "    .dataframe thead th {\n",
       "        text-align: right;\n",
       "    }\n",
       "</style>\n",
       "<table border=\"1\" class=\"dataframe\">\n",
       "  <thead>\n",
       "    <tr style=\"text-align: right;\">\n",
       "      <th></th>\n",
       "      <th>inventory</th>\n",
       "      <th>arima</th>\n",
       "      <th>ma</th>\n",
       "      <th>naive</th>\n",
       "      <th>ses</th>\n",
       "      <th>holtwinter_add</th>\n",
       "      <th>forecast</th>\n",
       "    </tr>\n",
       "    <tr>\n",
       "      <th>date</th>\n",
       "      <th></th>\n",
       "      <th></th>\n",
       "      <th></th>\n",
       "      <th></th>\n",
       "      <th></th>\n",
       "      <th></th>\n",
       "      <th></th>\n",
       "    </tr>\n",
       "  </thead>\n",
       "  <tbody>\n",
       "    <tr>\n",
       "      <th>2021-01-16</th>\n",
       "      <td>NaN</td>\n",
       "      <td>NaN</td>\n",
       "      <td>NaN</td>\n",
       "      <td>NaN</td>\n",
       "      <td>NaN</td>\n",
       "      <td>NaN</td>\n",
       "      <td>31622.0</td>\n",
       "    </tr>\n",
       "    <tr>\n",
       "      <th>2021-01-23</th>\n",
       "      <td>NaN</td>\n",
       "      <td>NaN</td>\n",
       "      <td>NaN</td>\n",
       "      <td>NaN</td>\n",
       "      <td>NaN</td>\n",
       "      <td>NaN</td>\n",
       "      <td>31622.0</td>\n",
       "    </tr>\n",
       "    <tr>\n",
       "      <th>2021-01-30</th>\n",
       "      <td>NaN</td>\n",
       "      <td>NaN</td>\n",
       "      <td>NaN</td>\n",
       "      <td>NaN</td>\n",
       "      <td>NaN</td>\n",
       "      <td>NaN</td>\n",
       "      <td>31622.0</td>\n",
       "    </tr>\n",
       "    <tr>\n",
       "      <th>2021-02-06</th>\n",
       "      <td>NaN</td>\n",
       "      <td>NaN</td>\n",
       "      <td>NaN</td>\n",
       "      <td>NaN</td>\n",
       "      <td>NaN</td>\n",
       "      <td>NaN</td>\n",
       "      <td>31622.0</td>\n",
       "    </tr>\n",
       "    <tr>\n",
       "      <th>2021-02-13</th>\n",
       "      <td>NaN</td>\n",
       "      <td>NaN</td>\n",
       "      <td>NaN</td>\n",
       "      <td>NaN</td>\n",
       "      <td>NaN</td>\n",
       "      <td>NaN</td>\n",
       "      <td>31622.0</td>\n",
       "    </tr>\n",
       "  </tbody>\n",
       "</table>\n",
       "</div>"
      ],
      "text/plain": [
       "            inventory  arima  ma  naive  ses  holtwinter_add  forecast\n",
       "date                                                                  \n",
       "2021-01-16        NaN    NaN NaN    NaN  NaN             NaN   31622.0\n",
       "2021-01-23        NaN    NaN NaN    NaN  NaN             NaN   31622.0\n",
       "2021-01-30        NaN    NaN NaN    NaN  NaN             NaN   31622.0\n",
       "2021-02-06        NaN    NaN NaN    NaN  NaN             NaN   31622.0\n",
       "2021-02-13        NaN    NaN NaN    NaN  NaN             NaN   31622.0"
      ]
     },
     "execution_count": 34,
     "metadata": {},
     "output_type": "execute_result"
    }
   ],
   "source": [
    "test = test.merge(fcst_inventory, how='outer', on='date')\n",
    "test.tail()"
   ]
  },
  {
   "cell_type": "code",
   "execution_count": 35,
   "metadata": {},
   "outputs": [
    {
     "data": {
      "image/png": "[encoded data removed]",
      "text/plain": [
       "<Figure size 864x432 with 1 Axes>"
      ]
     },
     "metadata": {
      "needs_background": "light"
     },
     "output_type": "display_data"
    }
   ],
   "source": [
    "#Updated SES chart \n",
    "plt.figure(figsize=(12,6))\n",
    "plt.plot(train['inventory'], label='Train')\n",
    "plt.plot(test['inventory'], label='Test')\n",
    "plt.plot(test['ses'], label='SES \\u03B1='+ \"{:.4f}\".format(ses.model.params['smoothing_level']), color='green')\n",
    "plt.plot(test['forecast'], label='SES Forecast', color='yellow')\n",
    "\n",
    "lower_series = test['inventory']\n",
    "upper_series = test['ses']\n",
    "\n",
    "plt.fill_between(lower_series.index, lower_series, upper_series, \n",
    "                 color='k', alpha=.15)\n",
    "\n",
    "plt.ylabel('Inventory')\n",
    "plt.xlabel('Month')\n",
    "plt.legend(loc='best')\n",
    "plt.show()"
   ]
  },
  {
   "cell_type": "markdown",
   "metadata": {},
   "source": [
    "# Summary/Inventory Output"
   ]
  },
  {
   "cell_type": "code",
   "execution_count": 36,
   "metadata": {
    "scrolled": true
   },
   "outputs": [
    {
     "data": {
      "text/html": [
       "<div>\n",
       "<style scoped>\n",
       "    .dataframe tbody tr th:only-of-type {\n",
       "        vertical-align: middle;\n",
       "    }\n",
       "\n",
       "    .dataframe tbody tr th {\n",
       "        vertical-align: top;\n",
       "    }\n",
       "\n",
       "    .dataframe thead th {\n",
       "        text-align: right;\n",
       "    }\n",
       "</style>\n",
       "<table border=\"1\" class=\"dataframe\">\n",
       "  <thead>\n",
       "    <tr style=\"text-align: right;\">\n",
       "      <th></th>\n",
       "      <th>inventory</th>\n",
       "      <th>arima</th>\n",
       "      <th>ma</th>\n",
       "      <th>naive</th>\n",
       "      <th>ses</th>\n",
       "      <th>holtwinter_add</th>\n",
       "      <th>forecast</th>\n",
       "    </tr>\n",
       "    <tr>\n",
       "      <th>date</th>\n",
       "      <th></th>\n",
       "      <th></th>\n",
       "      <th></th>\n",
       "      <th></th>\n",
       "      <th></th>\n",
       "      <th></th>\n",
       "      <th></th>\n",
       "    </tr>\n",
       "  </thead>\n",
       "  <tbody>\n",
       "    <tr>\n",
       "      <th>2020-01-11</th>\n",
       "      <td>30730.0</td>\n",
       "      <td>31111.273205</td>\n",
       "      <td>32248.5</td>\n",
       "      <td>31622.0</td>\n",
       "      <td>30730.0</td>\n",
       "      <td>30714.215278</td>\n",
       "      <td>NaN</td>\n",
       "    </tr>\n",
       "    <tr>\n",
       "      <th>2020-01-18</th>\n",
       "      <td>30128.0</td>\n",
       "      <td>31049.977511</td>\n",
       "      <td>31176.0</td>\n",
       "      <td>30730.0</td>\n",
       "      <td>30730.0</td>\n",
       "      <td>30105.175554</td>\n",
       "      <td>NaN</td>\n",
       "    </tr>\n",
       "    <tr>\n",
       "      <th>2020-01-25</th>\n",
       "      <td>30164.0</td>\n",
       "      <td>30988.681817</td>\n",
       "      <td>30429.0</td>\n",
       "      <td>30128.0</td>\n",
       "      <td>30128.0</td>\n",
       "      <td>30138.473204</td>\n",
       "      <td>NaN</td>\n",
       "    </tr>\n",
       "    <tr>\n",
       "      <th>2020-02-01</th>\n",
       "      <td>30303.0</td>\n",
       "      <td>30927.386122</td>\n",
       "      <td>30146.0</td>\n",
       "      <td>30164.0</td>\n",
       "      <td>30164.0</td>\n",
       "      <td>30276.900257</td>\n",
       "      <td>NaN</td>\n",
       "    </tr>\n",
       "    <tr>\n",
       "      <th>2020-02-08</th>\n",
       "      <td>30573.0</td>\n",
       "      <td>30866.090428</td>\n",
       "      <td>30233.5</td>\n",
       "      <td>30303.0</td>\n",
       "      <td>30303.0</td>\n",
       "      <td>30547.351846</td>\n",
       "      <td>NaN</td>\n",
       "    </tr>\n",
       "  </tbody>\n",
       "</table>\n",
       "</div>"
      ],
      "text/plain": [
       "            inventory         arima       ma    naive      ses  \\\n",
       "date                                                             \n",
       "2020-01-11    30730.0  31111.273205  32248.5  31622.0  30730.0   \n",
       "2020-01-18    30128.0  31049.977511  31176.0  30730.0  30730.0   \n",
       "2020-01-25    30164.0  30988.681817  30429.0  30128.0  30128.0   \n",
       "2020-02-01    30303.0  30927.386122  30146.0  30164.0  30164.0   \n",
       "2020-02-08    30573.0  30866.090428  30233.5  30303.0  30303.0   \n",
       "\n",
       "            holtwinter_add  forecast  \n",
       "date                                  \n",
       "2020-01-11    30714.215278       NaN  \n",
       "2020-01-18    30105.175554       NaN  \n",
       "2020-01-25    30138.473204       NaN  \n",
       "2020-02-01    30276.900257       NaN  \n",
       "2020-02-08    30547.351846       NaN  "
      ]
     },
     "execution_count": 36,
     "metadata": {},
     "output_type": "execute_result"
    }
   ],
   "source": [
    "test.head()"
   ]
  },
  {
   "cell_type": "code",
   "execution_count": 37,
   "metadata": {},
   "outputs": [
    {
     "data": {
      "image/png": "[encoded data removed]",
      "text/plain": [
       "<Figure size 1008x432 with 1 Axes>"
      ]
     },
     "metadata": {
      "needs_background": "light"
     },
     "output_type": "display_data"
    }
   ],
   "source": [
    "plt.figure(figsize=(14,6))\n",
    "plt.plot(test['inventory'], label='Actual For-Sale Inventory')\n",
    "plt.plot(test['arima'], label='ARIMA')\n",
    "plt.plot(test['ma'] , label='Moving Average')\n",
    "plt.plot(test['naive'] , label='Naive')\n",
    "plt.plot(test['ses'] , label='SES')\n",
    "plt.plot(test['holtwinter_add'] , label='Holt Winter (Additive)')\n",
    "\n",
    "plt.ylabel('Inventory')\n",
    "plt.xlabel('Month')\n",
    "plt.legend(loc='best')\n",
    "plt.show()"
   ]
  },
  {
   "cell_type": "code",
   "execution_count": 38,
   "metadata": {
    "scrolled": true
   },
   "outputs": [
    {
     "data": {
      "text/html": [
       "<div>\n",
       "<style scoped>\n",
       "    .dataframe tbody tr th:only-of-type {\n",
       "        vertical-align: middle;\n",
       "    }\n",
       "\n",
       "    .dataframe tbody tr th {\n",
       "        vertical-align: top;\n",
       "    }\n",
       "\n",
       "    .dataframe thead th {\n",
       "        text-align: right;\n",
       "    }\n",
       "</style>\n",
       "<table border=\"1\" class=\"dataframe\">\n",
       "  <thead>\n",
       "    <tr style=\"text-align: right;\">\n",
       "      <th></th>\n",
       "      <th>Model</th>\n",
       "      <th>RMSE</th>\n",
       "    </tr>\n",
       "  </thead>\n",
       "  <tbody>\n",
       "    <tr>\n",
       "      <th>0</th>\n",
       "      <td>ARIMA</td>\n",
       "      <td>1640.135593</td>\n",
       "    </tr>\n",
       "    <tr>\n",
       "      <th>1</th>\n",
       "      <td>Moving Average</td>\n",
       "      <td>519.949961</td>\n",
       "    </tr>\n",
       "    <tr>\n",
       "      <th>2</th>\n",
       "      <td>Naive</td>\n",
       "      <td>342.637320</td>\n",
       "    </tr>\n",
       "    <tr>\n",
       "      <th>3</th>\n",
       "      <td>Simple Exponential Smoothing</td>\n",
       "      <td>311.446131</td>\n",
       "    </tr>\n",
       "    <tr>\n",
       "      <th>4</th>\n",
       "      <td>Holt Winter (Additive)</td>\n",
       "      <td>737.204354</td>\n",
       "    </tr>\n",
       "  </tbody>\n",
       "</table>\n",
       "</div>"
      ],
      "text/plain": [
       "                          Model         RMSE\n",
       "0                         ARIMA  1640.135593\n",
       "1                Moving Average   519.949961\n",
       "2                         Naive   342.637320\n",
       "3  Simple Exponential Smoothing   311.446131\n",
       "4        Holt Winter (Additive)   737.204354"
      ]
     },
     "execution_count": 38,
     "metadata": {},
     "output_type": "execute_result"
    }
   ],
   "source": [
    "RMSE = pd.DataFrame({'Model':['ARIMA', 'Moving Average', 'Naive','Simple Exponential Smoothing','Holt Winter (Additive)'],\n",
    "                     'RMSE':[RMSE_arima, RMSE_ma, RMSE_naive, RMSE_ses, RMSE_holtwinter_add]})\n",
    "RMSE"
   ]
  },
  {
   "cell_type": "markdown",
   "metadata": {},
   "source": [
    "# We choose to use \"Simple Exponential Smoothing\" method to predict future For-Sale Inventory"
   ]
  },
  {
   "cell_type": "code",
   "execution_count": 39,
   "metadata": {
    "scrolled": true
   },
   "outputs": [
    {
     "data": {
      "text/html": [
       "<div>\n",
       "<style scoped>\n",
       "    .dataframe tbody tr th:only-of-type {\n",
       "        vertical-align: middle;\n",
       "    }\n",
       "\n",
       "    .dataframe tbody tr th {\n",
       "        vertical-align: top;\n",
       "    }\n",
       "\n",
       "    .dataframe thead th {\n",
       "        text-align: right;\n",
       "    }\n",
       "</style>\n",
       "<table border=\"1\" class=\"dataframe\">\n",
       "  <thead>\n",
       "    <tr style=\"text-align: right;\">\n",
       "      <th></th>\n",
       "      <th>ses</th>\n",
       "      <th>forecast</th>\n",
       "    </tr>\n",
       "    <tr>\n",
       "      <th>date</th>\n",
       "      <th></th>\n",
       "      <th></th>\n",
       "    </tr>\n",
       "  </thead>\n",
       "  <tbody>\n",
       "    <tr>\n",
       "      <th>2020-01-11</th>\n",
       "      <td>30730.0</td>\n",
       "      <td>NaN</td>\n",
       "    </tr>\n",
       "    <tr>\n",
       "      <th>2020-01-18</th>\n",
       "      <td>30730.0</td>\n",
       "      <td>NaN</td>\n",
       "    </tr>\n",
       "    <tr>\n",
       "      <th>2020-01-25</th>\n",
       "      <td>30128.0</td>\n",
       "      <td>NaN</td>\n",
       "    </tr>\n",
       "    <tr>\n",
       "      <th>2020-02-01</th>\n",
       "      <td>30164.0</td>\n",
       "      <td>NaN</td>\n",
       "    </tr>\n",
       "    <tr>\n",
       "      <th>2020-02-08</th>\n",
       "      <td>30303.0</td>\n",
       "      <td>NaN</td>\n",
       "    </tr>\n",
       "  </tbody>\n",
       "</table>\n",
       "</div>"
      ],
      "text/plain": [
       "                ses  forecast\n",
       "date                         \n",
       "2020-01-11  30730.0       NaN\n",
       "2020-01-18  30730.0       NaN\n",
       "2020-01-25  30128.0       NaN\n",
       "2020-02-01  30164.0       NaN\n",
       "2020-02-08  30303.0       NaN"
      ]
     },
     "execution_count": 39,
     "metadata": {},
     "output_type": "execute_result"
    }
   ],
   "source": [
    "final_fcst_inventory = test[['ses','forecast']].copy()\n",
    "final_fcst_inventory.head()"
   ]
  },
  {
   "cell_type": "code",
   "execution_count": 40,
   "metadata": {
    "scrolled": true
   },
   "outputs": [
    {
     "data": {
      "text/html": [
       "<div>\n",
       "<style scoped>\n",
       "    .dataframe tbody tr th:only-of-type {\n",
       "        vertical-align: middle;\n",
       "    }\n",
       "\n",
       "    .dataframe tbody tr th {\n",
       "        vertical-align: top;\n",
       "    }\n",
       "\n",
       "    .dataframe thead th {\n",
       "        text-align: right;\n",
       "    }\n",
       "</style>\n",
       "<table border=\"1\" class=\"dataframe\">\n",
       "  <thead>\n",
       "    <tr style=\"text-align: right;\">\n",
       "      <th></th>\n",
       "      <th>inventory</th>\n",
       "      <th>ses_inventory</th>\n",
       "      <th>fcst_inventory</th>\n",
       "    </tr>\n",
       "    <tr>\n",
       "      <th>date</th>\n",
       "      <th></th>\n",
       "      <th></th>\n",
       "      <th></th>\n",
       "    </tr>\n",
       "  </thead>\n",
       "  <tbody>\n",
       "    <tr>\n",
       "      <th>2017-10-28</th>\n",
       "      <td>38027.0</td>\n",
       "      <td>NaN</td>\n",
       "      <td>NaN</td>\n",
       "    </tr>\n",
       "    <tr>\n",
       "      <th>2017-11-04</th>\n",
       "      <td>37590.0</td>\n",
       "      <td>NaN</td>\n",
       "      <td>NaN</td>\n",
       "    </tr>\n",
       "    <tr>\n",
       "      <th>2017-11-11</th>\n",
       "      <td>36926.0</td>\n",
       "      <td>NaN</td>\n",
       "      <td>NaN</td>\n",
       "    </tr>\n",
       "    <tr>\n",
       "      <th>2017-11-18</th>\n",
       "      <td>36131.0</td>\n",
       "      <td>NaN</td>\n",
       "      <td>NaN</td>\n",
       "    </tr>\n",
       "    <tr>\n",
       "      <th>2017-11-25</th>\n",
       "      <td>35079.0</td>\n",
       "      <td>NaN</td>\n",
       "      <td>NaN</td>\n",
       "    </tr>\n",
       "  </tbody>\n",
       "</table>\n",
       "</div>"
      ],
      "text/plain": [
       "            inventory  ses_inventory  fcst_inventory\n",
       "date                                                \n",
       "2017-10-28    38027.0            NaN             NaN\n",
       "2017-11-04    37590.0            NaN             NaN\n",
       "2017-11-11    36926.0            NaN             NaN\n",
       "2017-11-18    36131.0            NaN             NaN\n",
       "2017-11-25    35079.0            NaN             NaN"
      ]
     },
     "execution_count": 40,
     "metadata": {},
     "output_type": "execute_result"
    }
   ],
   "source": [
    "final_output_inventory = combine.merge(final_fcst_inventory, how='outer', on='date')\n",
    "final_output_inventory = final_output_inventory.rename(columns={\"ses\": \"ses_inventory\", \"forecast\": \"fcst_inventory\"})\n",
    "final_output_inventory.head()"
   ]
  },
  {
   "cell_type": "markdown",
   "metadata": {},
   "source": [
    "# Median Sale Price "
   ]
  },
  {
   "cell_type": "code",
   "execution_count": 44,
   "metadata": {},
   "outputs": [
    {
     "data": {
      "text/html": [
       "<div>\n",
       "<style scoped>\n",
       "    .dataframe tbody tr th:only-of-type {\n",
       "        vertical-align: middle;\n",
       "    }\n",
       "\n",
       "    .dataframe tbody tr th {\n",
       "        vertical-align: top;\n",
       "    }\n",
       "\n",
       "    .dataframe thead th {\n",
       "        text-align: right;\n",
       "    }\n",
       "</style>\n",
       "<table border=\"1\" class=\"dataframe\">\n",
       "  <thead>\n",
       "    <tr style=\"text-align: right;\">\n",
       "      <th></th>\n",
       "      <th>RegionID</th>\n",
       "      <th>SizeRank</th>\n",
       "      <th>RegionName</th>\n",
       "      <th>RegionType</th>\n",
       "      <th>StateName</th>\n",
       "      <th>2/23/2008</th>\n",
       "      <th>3/1/2008</th>\n",
       "      <th>3/8/2008</th>\n",
       "      <th>3/15/2008</th>\n",
       "      <th>3/22/2008</th>\n",
       "      <th>...</th>\n",
       "      <th>6/20/2020</th>\n",
       "      <th>6/27/2020</th>\n",
       "      <th>7/4/2020</th>\n",
       "      <th>7/11/2020</th>\n",
       "      <th>7/18/2020</th>\n",
       "      <th>7/25/2020</th>\n",
       "      <th>8/1/2020</th>\n",
       "      <th>8/8/2020</th>\n",
       "      <th>8/15/2020</th>\n",
       "      <th>8/22/2020</th>\n",
       "    </tr>\n",
       "  </thead>\n",
       "  <tbody>\n",
       "    <tr>\n",
       "      <th>0</th>\n",
       "      <td>102001</td>\n",
       "      <td>0</td>\n",
       "      <td>United States</td>\n",
       "      <td>Country</td>\n",
       "      <td>NaN</td>\n",
       "      <td>202677.0</td>\n",
       "      <td>202747.0</td>\n",
       "      <td>202257.0</td>\n",
       "      <td>201873.0</td>\n",
       "      <td>201850.0</td>\n",
       "      <td>...</td>\n",
       "      <td>267037</td>\n",
       "      <td>267673</td>\n",
       "      <td>269670</td>\n",
       "      <td>271861</td>\n",
       "      <td>273466</td>\n",
       "      <td>275489</td>\n",
       "      <td>275932</td>\n",
       "      <td>277047.0</td>\n",
       "      <td>277801.0</td>\n",
       "      <td>278595.0</td>\n",
       "    </tr>\n",
       "    <tr>\n",
       "      <th>1</th>\n",
       "      <td>394913</td>\n",
       "      <td>1</td>\n",
       "      <td>New York, NY</td>\n",
       "      <td>Msa</td>\n",
       "      <td>NY</td>\n",
       "      <td>NaN</td>\n",
       "      <td>NaN</td>\n",
       "      <td>NaN</td>\n",
       "      <td>NaN</td>\n",
       "      <td>NaN</td>\n",
       "      <td>...</td>\n",
       "      <td>434040</td>\n",
       "      <td>432603</td>\n",
       "      <td>433680</td>\n",
       "      <td>431969</td>\n",
       "      <td>433146</td>\n",
       "      <td>432294</td>\n",
       "      <td>433968</td>\n",
       "      <td>437629.0</td>\n",
       "      <td>440015.0</td>\n",
       "      <td>441896.0</td>\n",
       "    </tr>\n",
       "    <tr>\n",
       "      <th>2</th>\n",
       "      <td>753899</td>\n",
       "      <td>2</td>\n",
       "      <td>Los Angeles-Long Beach-Anaheim, CA</td>\n",
       "      <td>Msa</td>\n",
       "      <td>CA</td>\n",
       "      <td>514232.0</td>\n",
       "      <td>510894.0</td>\n",
       "      <td>507034.0</td>\n",
       "      <td>506298.0</td>\n",
       "      <td>502279.0</td>\n",
       "      <td>...</td>\n",
       "      <td>679775</td>\n",
       "      <td>679951</td>\n",
       "      <td>685348</td>\n",
       "      <td>688100</td>\n",
       "      <td>690707</td>\n",
       "      <td>694605</td>\n",
       "      <td>695155</td>\n",
       "      <td>698233.0</td>\n",
       "      <td>704817.0</td>\n",
       "      <td>706541.0</td>\n",
       "    </tr>\n",
       "    <tr>\n",
       "      <th>3</th>\n",
       "      <td>394463</td>\n",
       "      <td>3</td>\n",
       "      <td>Chicago, IL</td>\n",
       "      <td>Msa</td>\n",
       "      <td>IL</td>\n",
       "      <td>259849.0</td>\n",
       "      <td>260755.0</td>\n",
       "      <td>258484.0</td>\n",
       "      <td>257759.0</td>\n",
       "      <td>254957.0</td>\n",
       "      <td>...</td>\n",
       "      <td>245654</td>\n",
       "      <td>246339</td>\n",
       "      <td>246702</td>\n",
       "      <td>248206</td>\n",
       "      <td>249497</td>\n",
       "      <td>249427</td>\n",
       "      <td>250909</td>\n",
       "      <td>253268.0</td>\n",
       "      <td>254976.0</td>\n",
       "      <td>257348.0</td>\n",
       "    </tr>\n",
       "    <tr>\n",
       "      <th>4</th>\n",
       "      <td>394514</td>\n",
       "      <td>4</td>\n",
       "      <td>Dallas-Fort Worth, TX</td>\n",
       "      <td>Msa</td>\n",
       "      <td>TX</td>\n",
       "      <td>154425.0</td>\n",
       "      <td>152707.0</td>\n",
       "      <td>152883.0</td>\n",
       "      <td>152609.0</td>\n",
       "      <td>153028.0</td>\n",
       "      <td>...</td>\n",
       "      <td>280250</td>\n",
       "      <td>282081</td>\n",
       "      <td>283878</td>\n",
       "      <td>285911</td>\n",
       "      <td>286132</td>\n",
       "      <td>287928</td>\n",
       "      <td>288888</td>\n",
       "      <td>290070.0</td>\n",
       "      <td>291165.0</td>\n",
       "      <td>291204.0</td>\n",
       "    </tr>\n",
       "  </tbody>\n",
       "</table>\n",
       "<p>5 rows × 658 columns</p>\n",
       "</div>"
      ],
      "text/plain": [
       "   RegionID  SizeRank                          RegionName RegionType  \\\n",
       "0    102001         0                       United States    Country   \n",
       "1    394913         1                        New York, NY        Msa   \n",
       "2    753899         2  Los Angeles-Long Beach-Anaheim, CA        Msa   \n",
       "3    394463         3                         Chicago, IL        Msa   \n",
       "4    394514         4               Dallas-Fort Worth, TX        Msa   \n",
       "\n",
       "  StateName  2/23/2008  3/1/2008  3/8/2008  3/15/2008  3/22/2008  ...  \\\n",
       "0       NaN   202677.0  202747.0  202257.0   201873.0   201850.0  ...   \n",
       "1        NY        NaN       NaN       NaN        NaN        NaN  ...   \n",
       "2        CA   514232.0  510894.0  507034.0   506298.0   502279.0  ...   \n",
       "3        IL   259849.0  260755.0  258484.0   257759.0   254957.0  ...   \n",
       "4        TX   154425.0  152707.0  152883.0   152609.0   153028.0  ...   \n",
       "\n",
       "   6/20/2020  6/27/2020  7/4/2020  7/11/2020  7/18/2020  7/25/2020  8/1/2020  \\\n",
       "0     267037     267673    269670     271861     273466     275489    275932   \n",
       "1     434040     432603    433680     431969     433146     432294    433968   \n",
       "2     679775     679951    685348     688100     690707     694605    695155   \n",
       "3     245654     246339    246702     248206     249497     249427    250909   \n",
       "4     280250     282081    283878     285911     286132     287928    288888   \n",
       "\n",
       "   8/8/2020  8/15/2020  8/22/2020  \n",
       "0  277047.0   277801.0   278595.0  \n",
       "1  437629.0   440015.0   441896.0  \n",
       "2  698233.0   704817.0   706541.0  \n",
       "3  253268.0   254976.0   257348.0  \n",
       "4  290070.0   291165.0   291204.0  \n",
       "\n",
       "[5 rows x 658 columns]"
      ]
     },
     "execution_count": 44,
     "metadata": {},
     "output_type": "execute_result"
    }
   ],
   "source": [
    "#read csv file and transform into Data Frame \n",
    "path = \"Raw Data/median_price_all_home.csv\"\n",
    "data = pd.read_csv(path)\n",
    "data = pd.DataFrame(data)\n",
    "data.head()"
   ]
  },
  {
   "cell_type": "markdown",
   "metadata": {},
   "source": [
    "# Chicago, IL - Clean Data"
   ]
  },
  {
   "cell_type": "code",
   "execution_count": 45,
   "metadata": {},
   "outputs": [],
   "source": [
    "price = data[data['RegionName'].isin(['Chicago, IL'])]\n",
    "price = price.drop(columns=['RegionID', 'SizeRank','RegionName','RegionType','StateName'])"
   ]
  },
  {
   "cell_type": "code",
   "execution_count": 48,
   "metadata": {},
   "outputs": [
    {
     "data": {
      "text/html": [
       "<div>\n",
       "<style scoped>\n",
       "    .dataframe tbody tr th:only-of-type {\n",
       "        vertical-align: middle;\n",
       "    }\n",
       "\n",
       "    .dataframe tbody tr th {\n",
       "        vertical-align: top;\n",
       "    }\n",
       "\n",
       "    .dataframe thead th {\n",
       "        text-align: right;\n",
       "    }\n",
       "</style>\n",
       "<table border=\"1\" class=\"dataframe\">\n",
       "  <thead>\n",
       "    <tr style=\"text-align: right;\">\n",
       "      <th></th>\n",
       "      <th>3</th>\n",
       "    </tr>\n",
       "  </thead>\n",
       "  <tbody>\n",
       "    <tr>\n",
       "      <th>2/23/2008</th>\n",
       "      <td>259849.0</td>\n",
       "    </tr>\n",
       "    <tr>\n",
       "      <th>3/1/2008</th>\n",
       "      <td>260755.0</td>\n",
       "    </tr>\n",
       "    <tr>\n",
       "      <th>3/8/2008</th>\n",
       "      <td>258484.0</td>\n",
       "    </tr>\n",
       "    <tr>\n",
       "      <th>3/15/2008</th>\n",
       "      <td>257759.0</td>\n",
       "    </tr>\n",
       "    <tr>\n",
       "      <th>3/22/2008</th>\n",
       "      <td>254957.0</td>\n",
       "    </tr>\n",
       "  </tbody>\n",
       "</table>\n",
       "</div>"
      ],
      "text/plain": [
       "                  3\n",
       "2/23/2008  259849.0\n",
       "3/1/2008   260755.0\n",
       "3/8/2008   258484.0\n",
       "3/15/2008  257759.0\n",
       "3/22/2008  254957.0"
      ]
     },
     "execution_count": 48,
     "metadata": {},
     "output_type": "execute_result"
    }
   ],
   "source": [
    "price = price.transpose()\n",
    "price.head()"
   ]
  },
  {
   "cell_type": "code",
   "execution_count": 49,
   "metadata": {},
   "outputs": [],
   "source": [
    "price = price.reset_index()"
   ]
  },
  {
   "cell_type": "code",
   "execution_count": 50,
   "metadata": {},
   "outputs": [],
   "source": [
    "price = price[['index',3]].copy()\n",
    "price.columns =['date','price']"
   ]
  },
  {
   "cell_type": "code",
   "execution_count": 51,
   "metadata": {
    "scrolled": true
   },
   "outputs": [
    {
     "data": {
      "text/html": [
       "<div>\n",
       "<style scoped>\n",
       "    .dataframe tbody tr th:only-of-type {\n",
       "        vertical-align: middle;\n",
       "    }\n",
       "\n",
       "    .dataframe tbody tr th {\n",
       "        vertical-align: top;\n",
       "    }\n",
       "\n",
       "    .dataframe thead th {\n",
       "        text-align: right;\n",
       "    }\n",
       "</style>\n",
       "<table border=\"1\" class=\"dataframe\">\n",
       "  <thead>\n",
       "    <tr style=\"text-align: right;\">\n",
       "      <th></th>\n",
       "      <th>date</th>\n",
       "      <th>price</th>\n",
       "    </tr>\n",
       "  </thead>\n",
       "  <tbody>\n",
       "    <tr>\n",
       "      <th>0</th>\n",
       "      <td>2/23/2008</td>\n",
       "      <td>259849.0</td>\n",
       "    </tr>\n",
       "    <tr>\n",
       "      <th>1</th>\n",
       "      <td>3/1/2008</td>\n",
       "      <td>260755.0</td>\n",
       "    </tr>\n",
       "    <tr>\n",
       "      <th>2</th>\n",
       "      <td>3/8/2008</td>\n",
       "      <td>258484.0</td>\n",
       "    </tr>\n",
       "    <tr>\n",
       "      <th>3</th>\n",
       "      <td>3/15/2008</td>\n",
       "      <td>257759.0</td>\n",
       "    </tr>\n",
       "    <tr>\n",
       "      <th>4</th>\n",
       "      <td>3/22/2008</td>\n",
       "      <td>254957.0</td>\n",
       "    </tr>\n",
       "  </tbody>\n",
       "</table>\n",
       "</div>"
      ],
      "text/plain": [
       "        date     price\n",
       "0  2/23/2008  259849.0\n",
       "1   3/1/2008  260755.0\n",
       "2   3/8/2008  258484.0\n",
       "3  3/15/2008  257759.0\n",
       "4  3/22/2008  254957.0"
      ]
     },
     "execution_count": 51,
     "metadata": {},
     "output_type": "execute_result"
    }
   ],
   "source": [
    "price.head()"
   ]
  },
  {
   "cell_type": "code",
   "execution_count": 52,
   "metadata": {},
   "outputs": [
    {
     "data": {
      "text/html": [
       "<div>\n",
       "<style scoped>\n",
       "    .dataframe tbody tr th:only-of-type {\n",
       "        vertical-align: middle;\n",
       "    }\n",
       "\n",
       "    .dataframe tbody tr th {\n",
       "        vertical-align: top;\n",
       "    }\n",
       "\n",
       "    .dataframe thead th {\n",
       "        text-align: right;\n",
       "    }\n",
       "</style>\n",
       "<table border=\"1\" class=\"dataframe\">\n",
       "  <thead>\n",
       "    <tr style=\"text-align: right;\">\n",
       "      <th></th>\n",
       "      <th>price</th>\n",
       "    </tr>\n",
       "    <tr>\n",
       "      <th>date</th>\n",
       "      <th></th>\n",
       "    </tr>\n",
       "  </thead>\n",
       "  <tbody>\n",
       "    <tr>\n",
       "      <th>2008-02-23</th>\n",
       "      <td>259849.0</td>\n",
       "    </tr>\n",
       "    <tr>\n",
       "      <th>2008-03-01</th>\n",
       "      <td>260755.0</td>\n",
       "    </tr>\n",
       "    <tr>\n",
       "      <th>2008-03-08</th>\n",
       "      <td>258484.0</td>\n",
       "    </tr>\n",
       "    <tr>\n",
       "      <th>2008-03-15</th>\n",
       "      <td>257759.0</td>\n",
       "    </tr>\n",
       "    <tr>\n",
       "      <th>2008-03-22</th>\n",
       "      <td>254957.0</td>\n",
       "    </tr>\n",
       "  </tbody>\n",
       "</table>\n",
       "</div>"
      ],
      "text/plain": [
       "               price\n",
       "date                \n",
       "2008-02-23  259849.0\n",
       "2008-03-01  260755.0\n",
       "2008-03-08  258484.0\n",
       "2008-03-15  257759.0\n",
       "2008-03-22  254957.0"
      ]
     },
     "execution_count": 52,
     "metadata": {},
     "output_type": "execute_result"
    }
   ],
   "source": [
    "price['date'] = price.date.astype('datetime64')\n",
    "price = price.set_index('date')\n",
    "price.head()"
   ]
  },
  {
   "cell_type": "code",
   "execution_count": 53,
   "metadata": {},
   "outputs": [
    {
     "data": {
      "text/html": [
       "<div>\n",
       "<style scoped>\n",
       "    .dataframe tbody tr th:only-of-type {\n",
       "        vertical-align: middle;\n",
       "    }\n",
       "\n",
       "    .dataframe tbody tr th {\n",
       "        vertical-align: top;\n",
       "    }\n",
       "\n",
       "    .dataframe thead th {\n",
       "        text-align: right;\n",
       "    }\n",
       "</style>\n",
       "<table border=\"1\" class=\"dataframe\">\n",
       "  <thead>\n",
       "    <tr style=\"text-align: right;\">\n",
       "      <th></th>\n",
       "      <th>price</th>\n",
       "    </tr>\n",
       "    <tr>\n",
       "      <th>date</th>\n",
       "      <th></th>\n",
       "    </tr>\n",
       "  </thead>\n",
       "  <tbody>\n",
       "    <tr>\n",
       "      <th>2008-02-23</th>\n",
       "      <td>259849.0</td>\n",
       "    </tr>\n",
       "    <tr>\n",
       "      <th>2008-03-01</th>\n",
       "      <td>260755.0</td>\n",
       "    </tr>\n",
       "    <tr>\n",
       "      <th>2008-03-08</th>\n",
       "      <td>258484.0</td>\n",
       "    </tr>\n",
       "    <tr>\n",
       "      <th>2008-03-15</th>\n",
       "      <td>257759.0</td>\n",
       "    </tr>\n",
       "    <tr>\n",
       "      <th>2008-03-22</th>\n",
       "      <td>254957.0</td>\n",
       "    </tr>\n",
       "  </tbody>\n",
       "</table>\n",
       "</div>"
      ],
      "text/plain": [
       "               price\n",
       "date                \n",
       "2008-02-23  259849.0\n",
       "2008-03-01  260755.0\n",
       "2008-03-08  258484.0\n",
       "2008-03-15  257759.0\n",
       "2008-03-22  254957.0"
      ]
     },
     "execution_count": 53,
     "metadata": {},
     "output_type": "execute_result"
    }
   ],
   "source": [
    "price = price.dropna()\n",
    "price.head()"
   ]
  },
  {
   "cell_type": "markdown",
   "metadata": {},
   "source": [
    "# Split Train/Test Data"
   ]
  },
  {
   "cell_type": "code",
   "execution_count": 54,
   "metadata": {},
   "outputs": [
    {
     "name": "stdout",
     "output_type": "stream",
     "text": [
      "489 164\n",
      "               price\n",
      "date                \n",
      "2008-02-23  259849.0\n",
      "2008-03-01  260755.0\n",
      "2008-03-08  258484.0\n",
      "2008-03-15  257759.0\n",
      "2008-03-22  254957.0\n",
      "               price\n",
      "date                \n",
      "2017-07-08  223347.0\n",
      "2017-07-15  223371.0\n",
      "2017-07-22  224520.0\n",
      "2017-07-29  224731.0\n",
      "2017-08-05  225925.0\n",
      "               price\n",
      "date                \n",
      "2008-02-23  259849.0\n",
      "2008-03-01  260755.0\n",
      "2008-03-08  258484.0\n",
      "2008-03-15  257759.0\n",
      "2008-03-22  254957.0\n"
     ]
    }
   ],
   "source": [
    "train, test = temporal_train_test_split(price)\n",
    "print(train.shape[0], test.shape[0])\n",
    "print(train.head())\n",
    "print(test.head())\n",
    "combine = pd.concat([train,test])\n",
    "print(combine.head())"
   ]
  },
  {
   "cell_type": "code",
   "execution_count": 55,
   "metadata": {},
   "outputs": [
    {
     "data": {
      "text/plain": [
       "<matplotlib.axes._subplots.AxesSubplot at 0x2c341d79748>"
      ]
     },
     "execution_count": 55,
     "metadata": {},
     "output_type": "execute_result"
    },
    {
     "data": {
      "image/png": "[encoded data removed]",
      "text/plain": [
       "<Figure size 720x360 with 1 Axes>"
      ]
     },
     "metadata": {
      "needs_background": "light"
     },
     "output_type": "display_data"
    }
   ],
   "source": [
    "train.price.plot(figsize=(10,5), fontsize=11)\n",
    "test.price.plot(figsize=(10,5), fontsize=11)"
   ]
  },
  {
   "cell_type": "markdown",
   "metadata": {},
   "source": [
    "# ARIMA"
   ]
  },
  {
   "cell_type": "code",
   "execution_count": 56,
   "metadata": {},
   "outputs": [
    {
     "name": "stderr",
     "output_type": "stream",
     "text": [
      "C:\\Users\\emmayianpan\\AppData\\Roaming\\Python\\Python37\\site-packages\\statsmodels\\tsa\\base\\tsa_model.py:162: ValueWarning: No frequency information was provided, so inferred frequency W-SAT will be used.\n",
      "  % freq, ValueWarning)\n",
      "C:\\Users\\emmayianpan\\AppData\\Roaming\\Python\\Python37\\site-packages\\statsmodels\\tsa\\base\\tsa_model.py:162: ValueWarning: No frequency information was provided, so inferred frequency W-SAT will be used.\n",
      "  % freq, ValueWarning)\n",
      "C:\\ProgramData\\Anaconda3\\lib\\site-packages\\ipykernel_launcher.py:4: SettingWithCopyWarning: \n",
      "A value is trying to be set on a copy of a slice from a DataFrame.\n",
      "Try using .loc[row_indexer,col_indexer] = value instead\n",
      "\n",
      "See the caveats in the documentation: https://pandas.pydata.org/pandas-docs/stable/user_guide/indexing.html#returning-a-view-versus-a-copy\n",
      "  after removing the cwd from sys.path.\n"
     ]
    },
    {
     "data": {
      "text/html": [
       "<div>\n",
       "<style scoped>\n",
       "    .dataframe tbody tr th:only-of-type {\n",
       "        vertical-align: middle;\n",
       "    }\n",
       "\n",
       "    .dataframe tbody tr th {\n",
       "        vertical-align: top;\n",
       "    }\n",
       "\n",
       "    .dataframe thead th {\n",
       "        text-align: right;\n",
       "    }\n",
       "</style>\n",
       "<table border=\"1\" class=\"dataframe\">\n",
       "  <thead>\n",
       "    <tr style=\"text-align: right;\">\n",
       "      <th></th>\n",
       "      <th>price</th>\n",
       "      <th>arima</th>\n",
       "    </tr>\n",
       "    <tr>\n",
       "      <th>date</th>\n",
       "      <th></th>\n",
       "      <th></th>\n",
       "    </tr>\n",
       "  </thead>\n",
       "  <tbody>\n",
       "    <tr>\n",
       "      <th>2020-07-25</th>\n",
       "      <td>249427.0</td>\n",
       "      <td>212128.750124</td>\n",
       "    </tr>\n",
       "    <tr>\n",
       "      <th>2020-08-01</th>\n",
       "      <td>250909.0</td>\n",
       "      <td>212055.102586</td>\n",
       "    </tr>\n",
       "    <tr>\n",
       "      <th>2020-08-08</th>\n",
       "      <td>253268.0</td>\n",
       "      <td>211981.455048</td>\n",
       "    </tr>\n",
       "    <tr>\n",
       "      <th>2020-08-15</th>\n",
       "      <td>254976.0</td>\n",
       "      <td>211907.807510</td>\n",
       "    </tr>\n",
       "    <tr>\n",
       "      <th>2020-08-22</th>\n",
       "      <td>257348.0</td>\n",
       "      <td>211834.159972</td>\n",
       "    </tr>\n",
       "  </tbody>\n",
       "</table>\n",
       "</div>"
      ],
      "text/plain": [
       "               price          arima\n",
       "date                               \n",
       "2020-07-25  249427.0  212128.750124\n",
       "2020-08-01  250909.0  212055.102586\n",
       "2020-08-08  253268.0  211981.455048\n",
       "2020-08-15  254976.0  211907.807510\n",
       "2020-08-22  257348.0  211834.159972"
      ]
     },
     "execution_count": 56,
     "metadata": {},
     "output_type": "execute_result"
    }
   ],
   "source": [
    "#https://machinelearningmastery.com/arima-for-time-series-forecasting-with-python/\n",
    "arima = ARIMA(train.price, order=(0, 1, 1)).fit()\n",
    "fcst_arima = pd.DataFrame(arima.forecast(164)[0], index=test.index)\n",
    "test['arima'] = fcst_arima\n",
    "test.tail()"
   ]
  },
  {
   "cell_type": "code",
   "execution_count": 57,
   "metadata": {},
   "outputs": [
    {
     "data": {
      "image/png": "[encoded data removed]",
      "text/plain": [
       "<Figure size 720x360 with 1 Axes>"
      ]
     },
     "metadata": {
      "needs_background": "light"
     },
     "output_type": "display_data"
    }
   ],
   "source": [
    "#ARIMA chart\n",
    "plt.figure(figsize=(10,5))\n",
    "plt.plot(train['price'], label='Train')\n",
    "plt.plot(test['price'], label='Test')\n",
    "plt.plot(test['arima'], label='ARIMA', color='green')\n",
    "\n",
    "lower_series = test['price']\n",
    "upper_series = test['arima']\n",
    "\n",
    "plt.fill_between(lower_series.index, lower_series, upper_series, \n",
    "                 color='k', alpha=.15)\n",
    "\n",
    "plt.xlabel('Year')\n",
    "plt.ylabel('Price')\n",
    "plt.legend(loc='best')\n",
    "plt.show()"
   ]
  },
  {
   "cell_type": "code",
   "execution_count": 58,
   "metadata": {},
   "outputs": [
    {
     "name": "stdout",
     "output_type": "stream",
     "text": [
      "RMSE = 19242.44789724613\n"
     ]
    }
   ],
   "source": [
    "RMSE_arima = sm.tools.eval_measures.rmse(test.price,test['arima'])\n",
    "print('RMSE', '=', RMSE_arima)"
   ]
  },
  {
   "cell_type": "markdown",
   "metadata": {},
   "source": [
    "# Moving Average"
   ]
  },
  {
   "cell_type": "code",
   "execution_count": 59,
   "metadata": {},
   "outputs": [
    {
     "name": "stderr",
     "output_type": "stream",
     "text": [
      "C:\\ProgramData\\Anaconda3\\lib\\site-packages\\ipykernel_launcher.py:3: SettingWithCopyWarning: \n",
      "A value is trying to be set on a copy of a slice from a DataFrame.\n",
      "Try using .loc[row_indexer,col_indexer] = value instead\n",
      "\n",
      "See the caveats in the documentation: https://pandas.pydata.org/pandas-docs/stable/user_guide/indexing.html#returning-a-view-versus-a-copy\n",
      "  This is separate from the ipykernel package so we can avoid doing imports until\n"
     ]
    },
    {
     "data": {
      "text/html": [
       "<div>\n",
       "<style scoped>\n",
       "    .dataframe tbody tr th:only-of-type {\n",
       "        vertical-align: middle;\n",
       "    }\n",
       "\n",
       "    .dataframe tbody tr th {\n",
       "        vertical-align: top;\n",
       "    }\n",
       "\n",
       "    .dataframe thead th {\n",
       "        text-align: right;\n",
       "    }\n",
       "</style>\n",
       "<table border=\"1\" class=\"dataframe\">\n",
       "  <thead>\n",
       "    <tr style=\"text-align: right;\">\n",
       "      <th></th>\n",
       "      <th>price</th>\n",
       "      <th>arima</th>\n",
       "      <th>ma</th>\n",
       "    </tr>\n",
       "    <tr>\n",
       "      <th>date</th>\n",
       "      <th></th>\n",
       "      <th></th>\n",
       "      <th></th>\n",
       "    </tr>\n",
       "  </thead>\n",
       "  <tbody>\n",
       "    <tr>\n",
       "      <th>2017-07-08</th>\n",
       "      <td>223347.0</td>\n",
       "      <td>223838.708654</td>\n",
       "      <td>224038.0</td>\n",
       "    </tr>\n",
       "    <tr>\n",
       "      <th>2017-07-15</th>\n",
       "      <td>223371.0</td>\n",
       "      <td>223765.061116</td>\n",
       "      <td>223943.4</td>\n",
       "    </tr>\n",
       "    <tr>\n",
       "      <th>2017-07-22</th>\n",
       "      <td>224520.0</td>\n",
       "      <td>223691.413578</td>\n",
       "      <td>223683.2</td>\n",
       "    </tr>\n",
       "    <tr>\n",
       "      <th>2017-07-29</th>\n",
       "      <td>224731.0</td>\n",
       "      <td>223617.766040</td>\n",
       "      <td>223814.8</td>\n",
       "    </tr>\n",
       "    <tr>\n",
       "      <th>2017-08-05</th>\n",
       "      <td>225925.0</td>\n",
       "      <td>223544.118502</td>\n",
       "      <td>223975.6</td>\n",
       "    </tr>\n",
       "  </tbody>\n",
       "</table>\n",
       "</div>"
      ],
      "text/plain": [
       "               price          arima        ma\n",
       "date                                         \n",
       "2017-07-08  223347.0  223838.708654  224038.0\n",
       "2017-07-15  223371.0  223765.061116  223943.4\n",
       "2017-07-22  224520.0  223691.413578  223683.2\n",
       "2017-07-29  224731.0  223617.766040  223814.8\n",
       "2017-08-05  225925.0  223544.118502  223975.6"
      ]
     },
     "execution_count": 59,
     "metadata": {},
     "output_type": "execute_result"
    }
   ],
   "source": [
    "ma = price['price'].rolling(5).mean().shift()\n",
    "fcst_ma = ma.loc[test.index]\n",
    "test['ma'] = fcst_ma\n",
    "test.head()"
   ]
  },
  {
   "cell_type": "code",
   "execution_count": 60,
   "metadata": {},
   "outputs": [
    {
     "data": {
      "image/png": "[encoded data removed]",
      "text/plain": [
       "<Figure size 720x360 with 1 Axes>"
      ]
     },
     "metadata": {
      "needs_background": "light"
     },
     "output_type": "display_data"
    }
   ],
   "source": [
    "#Moving Average chart\n",
    "plt.figure(figsize=(10,5))\n",
    "plt.plot(train['price'], label='Train')\n",
    "plt.plot(test['price'], label='Test')\n",
    "plt.plot(test['ma'], label='Moving Average', color='green')\n",
    "\n",
    "lower_series = test['price']\n",
    "upper_series = test['ma']\n",
    "\n",
    "plt.fill_between(lower_series.index, lower_series, upper_series, \n",
    "                 color='k', alpha=.15)\n",
    "\n",
    "plt.xlabel('Year')\n",
    "plt.ylabel('Price')\n",
    "plt.legend(loc='best')\n",
    "plt.show()"
   ]
  },
  {
   "cell_type": "code",
   "execution_count": 61,
   "metadata": {},
   "outputs": [
    {
     "name": "stdout",
     "output_type": "stream",
     "text": [
      "RMSE = 2243.885207815599\n"
     ]
    }
   ],
   "source": [
    "RMSE_ma = sm.tools.eval_measures.rmse(test.price,test['ma'])\n",
    "print('RMSE', '=', RMSE_ma)"
   ]
  },
  {
   "cell_type": "markdown",
   "metadata": {},
   "source": [
    "# Naive"
   ]
  },
  {
   "cell_type": "code",
   "execution_count": 62,
   "metadata": {},
   "outputs": [
    {
     "name": "stderr",
     "output_type": "stream",
     "text": [
      "C:\\Users\\emmayianpan\\AppData\\Roaming\\Python\\Python37\\site-packages\\statsmodels\\tsa\\base\\tsa_model.py:162: ValueWarning: No frequency information was provided, so inferred frequency W-SAT will be used.\n",
      "  % freq, ValueWarning)\n",
      "C:\\Users\\emmayianpan\\AppData\\Roaming\\Python\\Python37\\site-packages\\statsmodels\\tsa\\base\\tsa_model.py:162: ValueWarning: No frequency information was provided, so inferred frequency W-SAT will be used.\n",
      "  % freq, ValueWarning)\n",
      "C:\\ProgramData\\Anaconda3\\lib\\site-packages\\ipykernel_launcher.py:4: SettingWithCopyWarning: \n",
      "A value is trying to be set on a copy of a slice from a DataFrame.\n",
      "Try using .loc[row_indexer,col_indexer] = value instead\n",
      "\n",
      "See the caveats in the documentation: https://pandas.pydata.org/pandas-docs/stable/user_guide/indexing.html#returning-a-view-versus-a-copy\n",
      "  after removing the cwd from sys.path.\n"
     ]
    },
    {
     "data": {
      "text/html": [
       "<div>\n",
       "<style scoped>\n",
       "    .dataframe tbody tr th:only-of-type {\n",
       "        vertical-align: middle;\n",
       "    }\n",
       "\n",
       "    .dataframe tbody tr th {\n",
       "        vertical-align: top;\n",
       "    }\n",
       "\n",
       "    .dataframe thead th {\n",
       "        text-align: right;\n",
       "    }\n",
       "</style>\n",
       "<table border=\"1\" class=\"dataframe\">\n",
       "  <thead>\n",
       "    <tr style=\"text-align: right;\">\n",
       "      <th></th>\n",
       "      <th>price</th>\n",
       "      <th>arima</th>\n",
       "      <th>ma</th>\n",
       "      <th>naive</th>\n",
       "    </tr>\n",
       "    <tr>\n",
       "      <th>date</th>\n",
       "      <th></th>\n",
       "      <th></th>\n",
       "      <th></th>\n",
       "      <th></th>\n",
       "    </tr>\n",
       "  </thead>\n",
       "  <tbody>\n",
       "    <tr>\n",
       "      <th>2020-07-25</th>\n",
       "      <td>249427.0</td>\n",
       "      <td>212128.750124</td>\n",
       "      <td>247279.6</td>\n",
       "      <td>249497.0</td>\n",
       "    </tr>\n",
       "    <tr>\n",
       "      <th>2020-08-01</th>\n",
       "      <td>250909.0</td>\n",
       "      <td>212055.102586</td>\n",
       "      <td>248034.2</td>\n",
       "      <td>249427.0</td>\n",
       "    </tr>\n",
       "    <tr>\n",
       "      <th>2020-08-08</th>\n",
       "      <td>253268.0</td>\n",
       "      <td>211981.455048</td>\n",
       "      <td>248948.2</td>\n",
       "      <td>250909.0</td>\n",
       "    </tr>\n",
       "    <tr>\n",
       "      <th>2020-08-15</th>\n",
       "      <td>254976.0</td>\n",
       "      <td>211907.807510</td>\n",
       "      <td>250261.4</td>\n",
       "      <td>253268.0</td>\n",
       "    </tr>\n",
       "    <tr>\n",
       "      <th>2020-08-22</th>\n",
       "      <td>257348.0</td>\n",
       "      <td>211834.159972</td>\n",
       "      <td>251615.4</td>\n",
       "      <td>254976.0</td>\n",
       "    </tr>\n",
       "  </tbody>\n",
       "</table>\n",
       "</div>"
      ],
      "text/plain": [
       "               price          arima        ma     naive\n",
       "date                                                   \n",
       "2020-07-25  249427.0  212128.750124  247279.6  249497.0\n",
       "2020-08-01  250909.0  212055.102586  248034.2  249427.0\n",
       "2020-08-08  253268.0  211981.455048  248948.2  250909.0\n",
       "2020-08-15  254976.0  211907.807510  250261.4  253268.0\n",
       "2020-08-22  257348.0  211834.159972  251615.4  254976.0"
      ]
     },
     "execution_count": 62,
     "metadata": {},
     "output_type": "execute_result"
    }
   ],
   "source": [
    "#Naive (using SES with alpha=1)\n",
    "naive = SimpleExpSmoothing(train.price).fit(smoothing_level=1, optimized=False)\n",
    "fcst_naive = SimpleExpSmoothing(combine.price).fit(smoothing_level=1, optimized=False)\n",
    "test['naive'] = fcst_naive.fittedvalues.loc[test.index]\n",
    "test.tail()"
   ]
  },
  {
   "cell_type": "code",
   "execution_count": 63,
   "metadata": {},
   "outputs": [
    {
     "data": {
      "image/png": "[encoded data removed]",
      "text/plain": [
       "<Figure size 720x360 with 1 Axes>"
      ]
     },
     "metadata": {
      "needs_background": "light"
     },
     "output_type": "display_data"
    }
   ],
   "source": [
    "#Naive chart\n",
    "plt.figure(figsize=(10,5))\n",
    "plt.plot(train['price'], label='Train')\n",
    "plt.plot(test['price'], label='Test')\n",
    "plt.plot(test['naive'], label='Naive', color='green')\n",
    "\n",
    "lower_series = test['price']\n",
    "upper_series = test['naive']\n",
    "\n",
    "plt.fill_between(lower_series.index, lower_series, upper_series, \n",
    "                 color='k', alpha=.15)\n",
    "\n",
    "plt.ylabel('Price')\n",
    "plt.xlabel('Year')\n",
    "plt.legend(loc='best')\n",
    "plt.show()"
   ]
  },
  {
   "cell_type": "code",
   "execution_count": 64,
   "metadata": {
    "scrolled": true
   },
   "outputs": [
    {
     "name": "stdout",
     "output_type": "stream",
     "text": [
      "RMSE = 1332.5134763424144\n"
     ]
    }
   ],
   "source": [
    "RMSE_naive = sm.tools.eval_measures.rmse(test.price,test['naive'])\n",
    "print('RMSE', '=', RMSE_naive)"
   ]
  },
  {
   "cell_type": "markdown",
   "metadata": {},
   "source": [
    "# Simple Exponenital Smoothing "
   ]
  },
  {
   "cell_type": "code",
   "execution_count": 65,
   "metadata": {
    "scrolled": true
   },
   "outputs": [
    {
     "name": "stderr",
     "output_type": "stream",
     "text": [
      "C:\\Users\\emmayianpan\\AppData\\Roaming\\Python\\Python37\\site-packages\\statsmodels\\tsa\\base\\tsa_model.py:162: ValueWarning: No frequency information was provided, so inferred frequency W-SAT will be used.\n",
      "  % freq, ValueWarning)\n",
      "C:\\Users\\emmayianpan\\AppData\\Roaming\\Python\\Python37\\site-packages\\statsmodels\\tsa\\holtwinters.py:731: RuntimeWarning: invalid value encountered in greater_equal\n",
      "  loc = initial_p >= ub\n",
      "C:\\Users\\emmayianpan\\AppData\\Roaming\\Python\\Python37\\site-packages\\statsmodels\\tsa\\base\\tsa_model.py:162: ValueWarning: No frequency information was provided, so inferred frequency W-SAT will be used.\n",
      "  % freq, ValueWarning)\n",
      "C:\\ProgramData\\Anaconda3\\lib\\site-packages\\ipykernel_launcher.py:4: SettingWithCopyWarning: \n",
      "A value is trying to be set on a copy of a slice from a DataFrame.\n",
      "Try using .loc[row_indexer,col_indexer] = value instead\n",
      "\n",
      "See the caveats in the documentation: https://pandas.pydata.org/pandas-docs/stable/user_guide/indexing.html#returning-a-view-versus-a-copy\n",
      "  after removing the cwd from sys.path.\n"
     ]
    },
    {
     "data": {
      "text/html": [
       "<div>\n",
       "<style scoped>\n",
       "    .dataframe tbody tr th:only-of-type {\n",
       "        vertical-align: middle;\n",
       "    }\n",
       "\n",
       "    .dataframe tbody tr th {\n",
       "        vertical-align: top;\n",
       "    }\n",
       "\n",
       "    .dataframe thead th {\n",
       "        text-align: right;\n",
       "    }\n",
       "</style>\n",
       "<table border=\"1\" class=\"dataframe\">\n",
       "  <thead>\n",
       "    <tr style=\"text-align: right;\">\n",
       "      <th></th>\n",
       "      <th>price</th>\n",
       "      <th>arima</th>\n",
       "      <th>ma</th>\n",
       "      <th>naive</th>\n",
       "      <th>ses</th>\n",
       "    </tr>\n",
       "    <tr>\n",
       "      <th>date</th>\n",
       "      <th></th>\n",
       "      <th></th>\n",
       "      <th></th>\n",
       "      <th></th>\n",
       "      <th></th>\n",
       "    </tr>\n",
       "  </thead>\n",
       "  <tbody>\n",
       "    <tr>\n",
       "      <th>2017-07-08</th>\n",
       "      <td>223347.0</td>\n",
       "      <td>223838.708654</td>\n",
       "      <td>224038.0</td>\n",
       "      <td>223909.0</td>\n",
       "      <td>223347.0</td>\n",
       "    </tr>\n",
       "    <tr>\n",
       "      <th>2017-07-15</th>\n",
       "      <td>223371.0</td>\n",
       "      <td>223765.061116</td>\n",
       "      <td>223943.4</td>\n",
       "      <td>223347.0</td>\n",
       "      <td>223347.0</td>\n",
       "    </tr>\n",
       "    <tr>\n",
       "      <th>2017-07-22</th>\n",
       "      <td>224520.0</td>\n",
       "      <td>223691.413578</td>\n",
       "      <td>223683.2</td>\n",
       "      <td>223371.0</td>\n",
       "      <td>223371.0</td>\n",
       "    </tr>\n",
       "    <tr>\n",
       "      <th>2017-07-29</th>\n",
       "      <td>224731.0</td>\n",
       "      <td>223617.766040</td>\n",
       "      <td>223814.8</td>\n",
       "      <td>224520.0</td>\n",
       "      <td>224520.0</td>\n",
       "    </tr>\n",
       "    <tr>\n",
       "      <th>2017-08-05</th>\n",
       "      <td>225925.0</td>\n",
       "      <td>223544.118502</td>\n",
       "      <td>223975.6</td>\n",
       "      <td>224731.0</td>\n",
       "      <td>224731.0</td>\n",
       "    </tr>\n",
       "  </tbody>\n",
       "</table>\n",
       "</div>"
      ],
      "text/plain": [
       "               price          arima        ma     naive       ses\n",
       "date                                                             \n",
       "2017-07-08  223347.0  223838.708654  224038.0  223909.0  223347.0\n",
       "2017-07-15  223371.0  223765.061116  223943.4  223347.0  223347.0\n",
       "2017-07-22  224520.0  223691.413578  223683.2  223371.0  223371.0\n",
       "2017-07-29  224731.0  223617.766040  223814.8  224520.0  224520.0\n",
       "2017-08-05  225925.0  223544.118502  223975.6  224731.0  224731.0"
      ]
     },
     "execution_count": 65,
     "metadata": {},
     "output_type": "execute_result"
    }
   ],
   "source": [
    "#Simple Exponenital Smoothing\n",
    "ses = SimpleExpSmoothing(train.price).fit()\n",
    "fcst_ses = SimpleExpSmoothing(test.price).fit(smoothing_level=ses.model.params['smoothing_level'], optimized=False)\n",
    "test['ses'] = fcst_ses.fittedvalues\n",
    "test.head()"
   ]
  },
  {
   "cell_type": "code",
   "execution_count": 66,
   "metadata": {},
   "outputs": [
    {
     "data": {
      "image/png": "[encoded data removed]",
      "text/plain": [
       "<Figure size 720x360 with 1 Axes>"
      ]
     },
     "metadata": {
      "needs_background": "light"
     },
     "output_type": "display_data"
    }
   ],
   "source": [
    "#Simple Exponenital Smoothing chart\n",
    "plt.figure(figsize=(10,5))\n",
    "plt.plot(train['price'], label='Train')\n",
    "plt.plot(test['price'], label='Test')\n",
    "plt.plot(test['ses'], label='SES \\u03B1='+ \"{:.4f}\".format(ses.model.params['smoothing_level']), color='green')\n",
    "\n",
    "lower_series = test['price']\n",
    "upper_series = test['ses']\n",
    "\n",
    "plt.fill_between(lower_series.index, lower_series, upper_series, \n",
    "                 color='k', alpha=.15)\n",
    "\n",
    "plt.ylabel('Price')\n",
    "plt.xlabel('Year')\n",
    "plt.legend(loc='best')\n",
    "plt.show()"
   ]
  },
  {
   "cell_type": "code",
   "execution_count": 67,
   "metadata": {
    "scrolled": true
   },
   "outputs": [
    {
     "name": "stdout",
     "output_type": "stream",
     "text": [
      "RMSE = 1331.7906316630126\n"
     ]
    }
   ],
   "source": [
    "RMSE_ses = sm.tools.eval_measures.rmse(test.price,test['ses'])\n",
    "print('RMSE', '=', RMSE_ses)"
   ]
  },
  {
   "cell_type": "markdown",
   "metadata": {},
   "source": [
    "# Holt Winter (Additive)"
   ]
  },
  {
   "cell_type": "code",
   "execution_count": 68,
   "metadata": {},
   "outputs": [
    {
     "name": "stderr",
     "output_type": "stream",
     "text": [
      "C:\\Users\\emmayianpan\\AppData\\Roaming\\Python\\Python37\\site-packages\\statsmodels\\tsa\\base\\tsa_model.py:162: ValueWarning: No frequency information was provided, so inferred frequency W-SAT will be used.\n",
      "  % freq, ValueWarning)\n",
      "C:\\Users\\emmayianpan\\AppData\\Roaming\\Python\\Python37\\site-packages\\statsmodels\\tsa\\holtwinters.py:725: RuntimeWarning: invalid value encountered in less_equal\n",
      "  loc = initial_p <= lb\n",
      "C:\\Users\\emmayianpan\\AppData\\Roaming\\Python\\Python37\\site-packages\\statsmodels\\tsa\\holtwinters.py:731: RuntimeWarning: invalid value encountered in greater_equal\n",
      "  loc = initial_p >= ub\n",
      "C:\\Users\\emmayianpan\\AppData\\Roaming\\Python\\Python37\\site-packages\\statsmodels\\tsa\\holtwinters.py:744: ConvergenceWarning: Optimization failed to converge. Check mle_retvals.\n",
      "  ConvergenceWarning)\n",
      "C:\\Users\\emmayianpan\\AppData\\Roaming\\Python\\Python37\\site-packages\\statsmodels\\tsa\\base\\tsa_model.py:162: ValueWarning: No frequency information was provided, so inferred frequency W-SAT will be used.\n",
      "  % freq, ValueWarning)\n",
      "C:\\ProgramData\\Anaconda3\\lib\\site-packages\\ipykernel_launcher.py:4: SettingWithCopyWarning: \n",
      "A value is trying to be set on a copy of a slice from a DataFrame.\n",
      "Try using .loc[row_indexer,col_indexer] = value instead\n",
      "\n",
      "See the caveats in the documentation: https://pandas.pydata.org/pandas-docs/stable/user_guide/indexing.html#returning-a-view-versus-a-copy\n",
      "  after removing the cwd from sys.path.\n"
     ]
    },
    {
     "data": {
      "text/html": [
       "<div>\n",
       "<style scoped>\n",
       "    .dataframe tbody tr th:only-of-type {\n",
       "        vertical-align: middle;\n",
       "    }\n",
       "\n",
       "    .dataframe tbody tr th {\n",
       "        vertical-align: top;\n",
       "    }\n",
       "\n",
       "    .dataframe thead th {\n",
       "        text-align: right;\n",
       "    }\n",
       "</style>\n",
       "<table border=\"1\" class=\"dataframe\">\n",
       "  <thead>\n",
       "    <tr style=\"text-align: right;\">\n",
       "      <th></th>\n",
       "      <th>price</th>\n",
       "      <th>arima</th>\n",
       "      <th>ma</th>\n",
       "      <th>naive</th>\n",
       "      <th>ses</th>\n",
       "      <th>holtwinter_add</th>\n",
       "    </tr>\n",
       "    <tr>\n",
       "      <th>date</th>\n",
       "      <th></th>\n",
       "      <th></th>\n",
       "      <th></th>\n",
       "      <th></th>\n",
       "      <th></th>\n",
       "      <th></th>\n",
       "    </tr>\n",
       "  </thead>\n",
       "  <tbody>\n",
       "    <tr>\n",
       "      <th>2020-07-25</th>\n",
       "      <td>249427.0</td>\n",
       "      <td>212128.750124</td>\n",
       "      <td>247279.6</td>\n",
       "      <td>249497.0</td>\n",
       "      <td>249497.0</td>\n",
       "      <td>250024.587698</td>\n",
       "    </tr>\n",
       "    <tr>\n",
       "      <th>2020-08-01</th>\n",
       "      <td>250909.0</td>\n",
       "      <td>212055.102586</td>\n",
       "      <td>248034.2</td>\n",
       "      <td>249427.0</td>\n",
       "      <td>249427.0</td>\n",
       "      <td>249255.038045</td>\n",
       "    </tr>\n",
       "    <tr>\n",
       "      <th>2020-08-08</th>\n",
       "      <td>253268.0</td>\n",
       "      <td>211981.455048</td>\n",
       "      <td>248948.2</td>\n",
       "      <td>250909.0</td>\n",
       "      <td>250909.0</td>\n",
       "      <td>250998.715207</td>\n",
       "    </tr>\n",
       "    <tr>\n",
       "      <th>2020-08-15</th>\n",
       "      <td>254976.0</td>\n",
       "      <td>211907.807510</td>\n",
       "      <td>250261.4</td>\n",
       "      <td>253268.0</td>\n",
       "      <td>253268.0</td>\n",
       "      <td>253801.154883</td>\n",
       "    </tr>\n",
       "    <tr>\n",
       "      <th>2020-08-22</th>\n",
       "      <td>257348.0</td>\n",
       "      <td>211834.159972</td>\n",
       "      <td>251615.4</td>\n",
       "      <td>254976.0</td>\n",
       "      <td>254976.0</td>\n",
       "      <td>255281.375931</td>\n",
       "    </tr>\n",
       "  </tbody>\n",
       "</table>\n",
       "</div>"
      ],
      "text/plain": [
       "               price          arima        ma     naive       ses  \\\n",
       "date                                                                \n",
       "2020-07-25  249427.0  212128.750124  247279.6  249497.0  249497.0   \n",
       "2020-08-01  250909.0  212055.102586  248034.2  249427.0  249427.0   \n",
       "2020-08-08  253268.0  211981.455048  248948.2  250909.0  250909.0   \n",
       "2020-08-15  254976.0  211907.807510  250261.4  253268.0  253268.0   \n",
       "2020-08-22  257348.0  211834.159972  251615.4  254976.0  254976.0   \n",
       "\n",
       "            holtwinter_add  \n",
       "date                        \n",
       "2020-07-25   250024.587698  \n",
       "2020-08-01   249255.038045  \n",
       "2020-08-08   250998.715207  \n",
       "2020-08-15   253801.154883  \n",
       "2020-08-22   255281.375931  "
      ]
     },
     "execution_count": 68,
     "metadata": {},
     "output_type": "execute_result"
    }
   ],
   "source": [
    "#Holt Winter (t = 3 months, additive)\n",
    "holtwinter_add = ExponentialSmoothing(train.price, seasonal_periods=12, trend='add', seasonal='add').fit()\n",
    "fcst_holtwinter_add = ExponentialSmoothing(test.price, seasonal_periods=12, trend='add', seasonal='add').fit(smoothing_level=holtwinter_add.model.params['smoothing_level'], smoothing_slope=holtwinter_add.model.params['smoothing_slope'], smoothing_seasonal=holtwinter_add.model.params['smoothing_seasonal'], optimized=False)\n",
    "test['holtwinter_add'] = fcst_holtwinter_add.fittedvalues\n",
    "test.tail()"
   ]
  },
  {
   "cell_type": "code",
   "execution_count": 69,
   "metadata": {},
   "outputs": [
    {
     "data": {
      "image/png": "[encoded data removed]",
      "text/plain": [
       "<Figure size 1008x432 with 1 Axes>"
      ]
     },
     "metadata": {
      "needs_background": "light"
     },
     "output_type": "display_data"
    }
   ],
   "source": [
    "#Holt Winter (Additive) chart\n",
    "plt.figure(figsize=(14,6))\n",
    "plt.plot(train['price'], label='Train')\n",
    "plt.plot(test['price'], label='Test')\n",
    "plt.plot(test['holtwinter_add'], label='Holt Winter-Add \\u03B1='+\"{:.3f}\".format(holtwinter_add.model.params['smoothing_level'])+' \\u03B2='+\"{:.3f}\".format(holtwinter_add.model.params['smoothing_slope'])+' \\u03B3='+\"{:.3f}\".format(holtwinter_add.model.params['smoothing_seasonal']), color='green')\n",
    "\n",
    "lower_series = test['price']\n",
    "upper_series = test['holtwinter_add']\n",
    "\n",
    "plt.fill_between(lower_series.index, lower_series, upper_series, \n",
    "                 color='k', alpha=.15)\n",
    "\n",
    "plt.ylabel('Price')\n",
    "plt.xlabel('Year')\n",
    "plt.legend(loc='best')\n",
    "plt.show()"
   ]
  },
  {
   "cell_type": "code",
   "execution_count": 70,
   "metadata": {
    "scrolled": true
   },
   "outputs": [
    {
     "name": "stdout",
     "output_type": "stream",
     "text": [
      "RMSE = 1556.425354762273\n"
     ]
    }
   ],
   "source": [
    "RMSE_holtwinter_add = sm.tools.eval_measures.rmse(test.price,test['holtwinter_add'])\n",
    "print('RMSE', '=', RMSE_holtwinter_add)"
   ]
  },
  {
   "cell_type": "markdown",
   "metadata": {},
   "source": [
    "# Forecast"
   ]
  },
  {
   "cell_type": "code",
   "execution_count": 71,
   "metadata": {
    "scrolled": true
   },
   "outputs": [
    {
     "data": {
      "text/plain": [
       "2020-08-15    223909.0\n",
       "2020-08-22    223909.0\n",
       "2020-08-29    223909.0\n",
       "2020-09-05    223909.0\n",
       "2020-09-12    223909.0\n",
       "2020-09-19    223909.0\n",
       "2020-09-26    223909.0\n",
       "2020-10-03    223909.0\n",
       "2020-10-10    223909.0\n",
       "2020-10-17    223909.0\n",
       "2020-10-24    223909.0\n",
       "2020-10-31    223909.0\n",
       "2020-11-07    223909.0\n",
       "2020-11-14    223909.0\n",
       "2020-11-21    223909.0\n",
       "2020-11-28    223909.0\n",
       "2020-12-05    223909.0\n",
       "2020-12-12    223909.0\n",
       "2020-12-19    223909.0\n",
       "2020-12-26    223909.0\n",
       "2021-01-02    223909.0\n",
       "2021-01-09    223909.0\n",
       "2021-01-16    223909.0\n",
       "2021-01-23    223909.0\n",
       "2021-01-30    223909.0\n",
       "2021-02-06    223909.0\n",
       "2021-02-13    223909.0\n",
       "2021-02-20    223909.0\n",
       "2021-02-27    223909.0\n",
       "2021-03-06    223909.0\n",
       "2021-03-13    223909.0\n",
       "2021-03-20    223909.0\n",
       "2021-03-27    223909.0\n",
       "2021-04-03    223909.0\n",
       "2021-04-10    223909.0\n",
       "2021-04-17    223909.0\n",
       "2021-04-24    223909.0\n",
       "2021-05-01    223909.0\n",
       "2021-05-08    223909.0\n",
       "2021-05-15    223909.0\n",
       "Freq: W-SAT, Name: forecast, dtype: float64"
      ]
     },
     "execution_count": 71,
     "metadata": {},
     "output_type": "execute_result"
    }
   ],
   "source": [
    "fcst_price = ses.predict(start= len(train), \n",
    "                          end = (len(train)-3) + 17 * 12).rename('forecast')\n",
    "fcst_price.tail(40)"
   ]
  },
  {
   "cell_type": "code",
   "execution_count": 72,
   "metadata": {},
   "outputs": [
    {
     "data": {
      "text/html": [
       "<div>\n",
       "<style scoped>\n",
       "    .dataframe tbody tr th:only-of-type {\n",
       "        vertical-align: middle;\n",
       "    }\n",
       "\n",
       "    .dataframe tbody tr th {\n",
       "        vertical-align: top;\n",
       "    }\n",
       "\n",
       "    .dataframe thead th {\n",
       "        text-align: right;\n",
       "    }\n",
       "</style>\n",
       "<table border=\"1\" class=\"dataframe\">\n",
       "  <thead>\n",
       "    <tr style=\"text-align: right;\">\n",
       "      <th></th>\n",
       "      <th>forecast</th>\n",
       "    </tr>\n",
       "  </thead>\n",
       "  <tbody>\n",
       "    <tr>\n",
       "      <th>2020-08-29</th>\n",
       "      <td>223909.0</td>\n",
       "    </tr>\n",
       "    <tr>\n",
       "      <th>2020-09-05</th>\n",
       "      <td>223909.0</td>\n",
       "    </tr>\n",
       "    <tr>\n",
       "      <th>2020-09-12</th>\n",
       "      <td>223909.0</td>\n",
       "    </tr>\n",
       "    <tr>\n",
       "      <th>2020-09-19</th>\n",
       "      <td>223909.0</td>\n",
       "    </tr>\n",
       "    <tr>\n",
       "      <th>2020-09-26</th>\n",
       "      <td>223909.0</td>\n",
       "    </tr>\n",
       "  </tbody>\n",
       "</table>\n",
       "</div>"
      ],
      "text/plain": [
       "            forecast\n",
       "2020-08-29  223909.0\n",
       "2020-09-05  223909.0\n",
       "2020-09-12  223909.0\n",
       "2020-09-19  223909.0\n",
       "2020-09-26  223909.0"
      ]
     },
     "execution_count": 72,
     "metadata": {},
     "output_type": "execute_result"
    }
   ],
   "source": [
    "fcst_price = fcst_price.loc['20200829':'20210515']\n",
    "fcst_price = pd.DataFrame(fcst_price)\n",
    "fcst_price.head()"
   ]
  },
  {
   "cell_type": "code",
   "execution_count": 73,
   "metadata": {},
   "outputs": [],
   "source": [
    "fcst_price = fcst_price.reset_index()"
   ]
  },
  {
   "cell_type": "code",
   "execution_count": 74,
   "metadata": {
    "scrolled": true
   },
   "outputs": [
    {
     "data": {
      "text/html": [
       "<div>\n",
       "<style scoped>\n",
       "    .dataframe tbody tr th:only-of-type {\n",
       "        vertical-align: middle;\n",
       "    }\n",
       "\n",
       "    .dataframe tbody tr th {\n",
       "        vertical-align: top;\n",
       "    }\n",
       "\n",
       "    .dataframe thead th {\n",
       "        text-align: right;\n",
       "    }\n",
       "</style>\n",
       "<table border=\"1\" class=\"dataframe\">\n",
       "  <thead>\n",
       "    <tr style=\"text-align: right;\">\n",
       "      <th></th>\n",
       "      <th>date</th>\n",
       "      <th>forecast</th>\n",
       "    </tr>\n",
       "  </thead>\n",
       "  <tbody>\n",
       "    <tr>\n",
       "      <th>0</th>\n",
       "      <td>2020-08-29</td>\n",
       "      <td>223909.0</td>\n",
       "    </tr>\n",
       "    <tr>\n",
       "      <th>1</th>\n",
       "      <td>2020-09-05</td>\n",
       "      <td>223909.0</td>\n",
       "    </tr>\n",
       "    <tr>\n",
       "      <th>2</th>\n",
       "      <td>2020-09-12</td>\n",
       "      <td>223909.0</td>\n",
       "    </tr>\n",
       "    <tr>\n",
       "      <th>3</th>\n",
       "      <td>2020-09-19</td>\n",
       "      <td>223909.0</td>\n",
       "    </tr>\n",
       "    <tr>\n",
       "      <th>4</th>\n",
       "      <td>2020-09-26</td>\n",
       "      <td>223909.0</td>\n",
       "    </tr>\n",
       "  </tbody>\n",
       "</table>\n",
       "</div>"
      ],
      "text/plain": [
       "        date  forecast\n",
       "0 2020-08-29  223909.0\n",
       "1 2020-09-05  223909.0\n",
       "2 2020-09-12  223909.0\n",
       "3 2020-09-19  223909.0\n",
       "4 2020-09-26  223909.0"
      ]
     },
     "execution_count": 74,
     "metadata": {},
     "output_type": "execute_result"
    }
   ],
   "source": [
    "fcst_price.columns =['date','forecast']\n",
    "fcst_price.head()"
   ]
  },
  {
   "cell_type": "code",
   "execution_count": 75,
   "metadata": {},
   "outputs": [
    {
     "data": {
      "text/html": [
       "<div>\n",
       "<style scoped>\n",
       "    .dataframe tbody tr th:only-of-type {\n",
       "        vertical-align: middle;\n",
       "    }\n",
       "\n",
       "    .dataframe tbody tr th {\n",
       "        vertical-align: top;\n",
       "    }\n",
       "\n",
       "    .dataframe thead th {\n",
       "        text-align: right;\n",
       "    }\n",
       "</style>\n",
       "<table border=\"1\" class=\"dataframe\">\n",
       "  <thead>\n",
       "    <tr style=\"text-align: right;\">\n",
       "      <th></th>\n",
       "      <th>forecast</th>\n",
       "    </tr>\n",
       "    <tr>\n",
       "      <th>date</th>\n",
       "      <th></th>\n",
       "    </tr>\n",
       "  </thead>\n",
       "  <tbody>\n",
       "    <tr>\n",
       "      <th>2020-08-29</th>\n",
       "      <td>223909.0</td>\n",
       "    </tr>\n",
       "    <tr>\n",
       "      <th>2020-09-05</th>\n",
       "      <td>223909.0</td>\n",
       "    </tr>\n",
       "    <tr>\n",
       "      <th>2020-09-12</th>\n",
       "      <td>223909.0</td>\n",
       "    </tr>\n",
       "    <tr>\n",
       "      <th>2020-09-19</th>\n",
       "      <td>223909.0</td>\n",
       "    </tr>\n",
       "    <tr>\n",
       "      <th>2020-09-26</th>\n",
       "      <td>223909.0</td>\n",
       "    </tr>\n",
       "  </tbody>\n",
       "</table>\n",
       "</div>"
      ],
      "text/plain": [
       "            forecast\n",
       "date                \n",
       "2020-08-29  223909.0\n",
       "2020-09-05  223909.0\n",
       "2020-09-12  223909.0\n",
       "2020-09-19  223909.0\n",
       "2020-09-26  223909.0"
      ]
     },
     "execution_count": 75,
     "metadata": {},
     "output_type": "execute_result"
    }
   ],
   "source": [
    "fcst_price = fcst_price.set_index('date')\n",
    "fcst_price.head()"
   ]
  },
  {
   "cell_type": "markdown",
   "metadata": {},
   "source": [
    "# Merge Test Data/Forecast"
   ]
  },
  {
   "cell_type": "code",
   "execution_count": 76,
   "metadata": {},
   "outputs": [
    {
     "data": {
      "text/html": [
       "<div>\n",
       "<style scoped>\n",
       "    .dataframe tbody tr th:only-of-type {\n",
       "        vertical-align: middle;\n",
       "    }\n",
       "\n",
       "    .dataframe tbody tr th {\n",
       "        vertical-align: top;\n",
       "    }\n",
       "\n",
       "    .dataframe thead th {\n",
       "        text-align: right;\n",
       "    }\n",
       "</style>\n",
       "<table border=\"1\" class=\"dataframe\">\n",
       "  <thead>\n",
       "    <tr style=\"text-align: right;\">\n",
       "      <th></th>\n",
       "      <th>price</th>\n",
       "      <th>arima</th>\n",
       "      <th>ma</th>\n",
       "      <th>naive</th>\n",
       "      <th>ses</th>\n",
       "      <th>holtwinter_add</th>\n",
       "      <th>forecast</th>\n",
       "    </tr>\n",
       "    <tr>\n",
       "      <th>date</th>\n",
       "      <th></th>\n",
       "      <th></th>\n",
       "      <th></th>\n",
       "      <th></th>\n",
       "      <th></th>\n",
       "      <th></th>\n",
       "      <th></th>\n",
       "    </tr>\n",
       "  </thead>\n",
       "  <tbody>\n",
       "    <tr>\n",
       "      <th>2021-04-17</th>\n",
       "      <td>NaN</td>\n",
       "      <td>NaN</td>\n",
       "      <td>NaN</td>\n",
       "      <td>NaN</td>\n",
       "      <td>NaN</td>\n",
       "      <td>NaN</td>\n",
       "      <td>223909.0</td>\n",
       "    </tr>\n",
       "    <tr>\n",
       "      <th>2021-04-24</th>\n",
       "      <td>NaN</td>\n",
       "      <td>NaN</td>\n",
       "      <td>NaN</td>\n",
       "      <td>NaN</td>\n",
       "      <td>NaN</td>\n",
       "      <td>NaN</td>\n",
       "      <td>223909.0</td>\n",
       "    </tr>\n",
       "    <tr>\n",
       "      <th>2021-05-01</th>\n",
       "      <td>NaN</td>\n",
       "      <td>NaN</td>\n",
       "      <td>NaN</td>\n",
       "      <td>NaN</td>\n",
       "      <td>NaN</td>\n",
       "      <td>NaN</td>\n",
       "      <td>223909.0</td>\n",
       "    </tr>\n",
       "    <tr>\n",
       "      <th>2021-05-08</th>\n",
       "      <td>NaN</td>\n",
       "      <td>NaN</td>\n",
       "      <td>NaN</td>\n",
       "      <td>NaN</td>\n",
       "      <td>NaN</td>\n",
       "      <td>NaN</td>\n",
       "      <td>223909.0</td>\n",
       "    </tr>\n",
       "    <tr>\n",
       "      <th>2021-05-15</th>\n",
       "      <td>NaN</td>\n",
       "      <td>NaN</td>\n",
       "      <td>NaN</td>\n",
       "      <td>NaN</td>\n",
       "      <td>NaN</td>\n",
       "      <td>NaN</td>\n",
       "      <td>223909.0</td>\n",
       "    </tr>\n",
       "  </tbody>\n",
       "</table>\n",
       "</div>"
      ],
      "text/plain": [
       "            price  arima  ma  naive  ses  holtwinter_add  forecast\n",
       "date                                                              \n",
       "2021-04-17    NaN    NaN NaN    NaN  NaN             NaN  223909.0\n",
       "2021-04-24    NaN    NaN NaN    NaN  NaN             NaN  223909.0\n",
       "2021-05-01    NaN    NaN NaN    NaN  NaN             NaN  223909.0\n",
       "2021-05-08    NaN    NaN NaN    NaN  NaN             NaN  223909.0\n",
       "2021-05-15    NaN    NaN NaN    NaN  NaN             NaN  223909.0"
      ]
     },
     "execution_count": 76,
     "metadata": {},
     "output_type": "execute_result"
    }
   ],
   "source": [
    "test = test.merge(fcst_price, how='outer', on='date')\n",
    "test.tail()"
   ]
  },
  {
   "cell_type": "code",
   "execution_count": 77,
   "metadata": {},
   "outputs": [
    {
     "data": {
      "image/png": "[encoded data removed]",
      "text/plain": [
       "<Figure size 720x360 with 1 Axes>"
      ]
     },
     "metadata": {
      "needs_background": "light"
     },
     "output_type": "display_data"
    }
   ],
   "source": [
    "#Simple Exponenital Smoothing chart\n",
    "plt.figure(figsize=(10,5))\n",
    "plt.plot(train['price'], label='Train')\n",
    "plt.plot(test['price'], label='Test')\n",
    "plt.plot(test['ses'], label='SES \\u03B1='+ \"{:.4f}\".format(ses.model.params['smoothing_level']), color='green')\n",
    "plt.plot(test['forecast'], label='Forecast', color='yellow')\n",
    "\n",
    "lower_series = test['price']\n",
    "upper_series = test['ses']\n",
    "\n",
    "plt.fill_between(lower_series.index, lower_series, upper_series, \n",
    "                 color='k', alpha=.15)\n",
    "\n",
    "plt.ylabel('Price')\n",
    "plt.xlabel('Year')\n",
    "plt.legend(loc='best')\n",
    "plt.show()"
   ]
  },
  {
   "cell_type": "markdown",
   "metadata": {},
   "source": [
    "# Summary/Inventory Output"
   ]
  },
  {
   "cell_type": "code",
   "execution_count": 78,
   "metadata": {
    "scrolled": true
   },
   "outputs": [
    {
     "data": {
      "text/html": [
       "<div>\n",
       "<style scoped>\n",
       "    .dataframe tbody tr th:only-of-type {\n",
       "        vertical-align: middle;\n",
       "    }\n",
       "\n",
       "    .dataframe tbody tr th {\n",
       "        vertical-align: top;\n",
       "    }\n",
       "\n",
       "    .dataframe thead th {\n",
       "        text-align: right;\n",
       "    }\n",
       "</style>\n",
       "<table border=\"1\" class=\"dataframe\">\n",
       "  <thead>\n",
       "    <tr style=\"text-align: right;\">\n",
       "      <th></th>\n",
       "      <th>price</th>\n",
       "      <th>arima</th>\n",
       "      <th>ma</th>\n",
       "      <th>naive</th>\n",
       "      <th>ses</th>\n",
       "      <th>holtwinter_add</th>\n",
       "      <th>forecast</th>\n",
       "    </tr>\n",
       "    <tr>\n",
       "      <th>date</th>\n",
       "      <th></th>\n",
       "      <th></th>\n",
       "      <th></th>\n",
       "      <th></th>\n",
       "      <th></th>\n",
       "      <th></th>\n",
       "      <th></th>\n",
       "    </tr>\n",
       "  </thead>\n",
       "  <tbody>\n",
       "    <tr>\n",
       "      <th>2017-07-08</th>\n",
       "      <td>223347.0</td>\n",
       "      <td>223838.708654</td>\n",
       "      <td>224038.0</td>\n",
       "      <td>223909.0</td>\n",
       "      <td>223347.0</td>\n",
       "      <td>223491.694444</td>\n",
       "      <td>NaN</td>\n",
       "    </tr>\n",
       "    <tr>\n",
       "      <th>2017-07-15</th>\n",
       "      <td>223371.0</td>\n",
       "      <td>223765.061116</td>\n",
       "      <td>223943.4</td>\n",
       "      <td>223347.0</td>\n",
       "      <td>223347.0</td>\n",
       "      <td>223532.127886</td>\n",
       "      <td>NaN</td>\n",
       "    </tr>\n",
       "    <tr>\n",
       "      <th>2017-07-22</th>\n",
       "      <td>224520.0</td>\n",
       "      <td>223691.413578</td>\n",
       "      <td>223683.2</td>\n",
       "      <td>223371.0</td>\n",
       "      <td>223371.0</td>\n",
       "      <td>224676.581237</td>\n",
       "      <td>NaN</td>\n",
       "    </tr>\n",
       "    <tr>\n",
       "      <th>2017-07-29</th>\n",
       "      <td>224731.0</td>\n",
       "      <td>223617.766040</td>\n",
       "      <td>223814.8</td>\n",
       "      <td>224520.0</td>\n",
       "      <td>224520.0</td>\n",
       "      <td>224879.923457</td>\n",
       "      <td>NaN</td>\n",
       "    </tr>\n",
       "    <tr>\n",
       "      <th>2017-08-05</th>\n",
       "      <td>225925.0</td>\n",
       "      <td>223544.118502</td>\n",
       "      <td>223975.6</td>\n",
       "      <td>224731.0</td>\n",
       "      <td>224731.0</td>\n",
       "      <td>226066.113848</td>\n",
       "      <td>NaN</td>\n",
       "    </tr>\n",
       "  </tbody>\n",
       "</table>\n",
       "</div>"
      ],
      "text/plain": [
       "               price          arima        ma     naive       ses  \\\n",
       "date                                                                \n",
       "2017-07-08  223347.0  223838.708654  224038.0  223909.0  223347.0   \n",
       "2017-07-15  223371.0  223765.061116  223943.4  223347.0  223347.0   \n",
       "2017-07-22  224520.0  223691.413578  223683.2  223371.0  223371.0   \n",
       "2017-07-29  224731.0  223617.766040  223814.8  224520.0  224520.0   \n",
       "2017-08-05  225925.0  223544.118502  223975.6  224731.0  224731.0   \n",
       "\n",
       "            holtwinter_add  forecast  \n",
       "date                                  \n",
       "2017-07-08   223491.694444       NaN  \n",
       "2017-07-15   223532.127886       NaN  \n",
       "2017-07-22   224676.581237       NaN  \n",
       "2017-07-29   224879.923457       NaN  \n",
       "2017-08-05   226066.113848       NaN  "
      ]
     },
     "execution_count": 78,
     "metadata": {},
     "output_type": "execute_result"
    }
   ],
   "source": [
    "test.head()"
   ]
  },
  {
   "cell_type": "code",
   "execution_count": 79,
   "metadata": {},
   "outputs": [
    {
     "data": {
      "image/png": "[encoded data removed]",
      "text/plain": [
       "<Figure size 1008x432 with 1 Axes>"
      ]
     },
     "metadata": {
      "needs_background": "light"
     },
     "output_type": "display_data"
    }
   ],
   "source": [
    "plt.figure(figsize=(14,6))\n",
    "plt.plot(test['price'], label='Actual For-Sale Inventory')\n",
    "plt.plot(test['arima'], label='ARIMA')\n",
    "plt.plot(test['ma'] , label='Moving Average')\n",
    "plt.plot(test['naive'] , label='Naive')\n",
    "plt.plot(test['ses'] , label='SES')\n",
    "plt.plot(test['holtwinter_add'] , label='Holt Winter (Additive)')\n",
    "\n",
    "plt.ylabel('Price')\n",
    "plt.xlabel('Year')\n",
    "plt.legend(loc='best')\n",
    "plt.show()"
   ]
  },
  {
   "cell_type": "code",
   "execution_count": 80,
   "metadata": {
    "scrolled": true
   },
   "outputs": [
    {
     "data": {
      "text/html": [
       "<div>\n",
       "<style scoped>\n",
       "    .dataframe tbody tr th:only-of-type {\n",
       "        vertical-align: middle;\n",
       "    }\n",
       "\n",
       "    .dataframe tbody tr th {\n",
       "        vertical-align: top;\n",
       "    }\n",
       "\n",
       "    .dataframe thead th {\n",
       "        text-align: right;\n",
       "    }\n",
       "</style>\n",
       "<table border=\"1\" class=\"dataframe\">\n",
       "  <thead>\n",
       "    <tr style=\"text-align: right;\">\n",
       "      <th></th>\n",
       "      <th>Model</th>\n",
       "      <th>RMSE</th>\n",
       "    </tr>\n",
       "  </thead>\n",
       "  <tbody>\n",
       "    <tr>\n",
       "      <th>0</th>\n",
       "      <td>ARIMA</td>\n",
       "      <td>19242.447897</td>\n",
       "    </tr>\n",
       "    <tr>\n",
       "      <th>1</th>\n",
       "      <td>Moving Average</td>\n",
       "      <td>2243.885208</td>\n",
       "    </tr>\n",
       "    <tr>\n",
       "      <th>2</th>\n",
       "      <td>Naive</td>\n",
       "      <td>1332.513476</td>\n",
       "    </tr>\n",
       "    <tr>\n",
       "      <th>3</th>\n",
       "      <td>Simple Exponential Smoothing</td>\n",
       "      <td>1331.790632</td>\n",
       "    </tr>\n",
       "    <tr>\n",
       "      <th>4</th>\n",
       "      <td>Holt Winter (Additive)</td>\n",
       "      <td>1556.425355</td>\n",
       "    </tr>\n",
       "  </tbody>\n",
       "</table>\n",
       "</div>"
      ],
      "text/plain": [
       "                          Model          RMSE\n",
       "0                         ARIMA  19242.447897\n",
       "1                Moving Average   2243.885208\n",
       "2                         Naive   1332.513476\n",
       "3  Simple Exponential Smoothing   1331.790632\n",
       "4        Holt Winter (Additive)   1556.425355"
      ]
     },
     "execution_count": 80,
     "metadata": {},
     "output_type": "execute_result"
    }
   ],
   "source": [
    "RMSE = pd.DataFrame({'Model':['ARIMA', 'Moving Average', 'Naive','Simple Exponential Smoothing','Holt Winter (Additive)'],\n",
    "                     'RMSE':[RMSE_arima, RMSE_ma, RMSE_naive, RMSE_ses, RMSE_holtwinter_add]})\n",
    "RMSE"
   ]
  },
  {
   "cell_type": "markdown",
   "metadata": {},
   "source": [
    "# We choose to use \"Simple Exponenital Smoothing\" method to predict future Median Sale Price"
   ]
  },
  {
   "cell_type": "code",
   "execution_count": 81,
   "metadata": {
    "scrolled": true
   },
   "outputs": [
    {
     "data": {
      "text/html": [
       "<div>\n",
       "<style scoped>\n",
       "    .dataframe tbody tr th:only-of-type {\n",
       "        vertical-align: middle;\n",
       "    }\n",
       "\n",
       "    .dataframe tbody tr th {\n",
       "        vertical-align: top;\n",
       "    }\n",
       "\n",
       "    .dataframe thead th {\n",
       "        text-align: right;\n",
       "    }\n",
       "</style>\n",
       "<table border=\"1\" class=\"dataframe\">\n",
       "  <thead>\n",
       "    <tr style=\"text-align: right;\">\n",
       "      <th></th>\n",
       "      <th>ses</th>\n",
       "      <th>forecast</th>\n",
       "    </tr>\n",
       "    <tr>\n",
       "      <th>date</th>\n",
       "      <th></th>\n",
       "      <th></th>\n",
       "    </tr>\n",
       "  </thead>\n",
       "  <tbody>\n",
       "    <tr>\n",
       "      <th>2017-07-08</th>\n",
       "      <td>223347.0</td>\n",
       "      <td>NaN</td>\n",
       "    </tr>\n",
       "    <tr>\n",
       "      <th>2017-07-15</th>\n",
       "      <td>223347.0</td>\n",
       "      <td>NaN</td>\n",
       "    </tr>\n",
       "    <tr>\n",
       "      <th>2017-07-22</th>\n",
       "      <td>223371.0</td>\n",
       "      <td>NaN</td>\n",
       "    </tr>\n",
       "    <tr>\n",
       "      <th>2017-07-29</th>\n",
       "      <td>224520.0</td>\n",
       "      <td>NaN</td>\n",
       "    </tr>\n",
       "    <tr>\n",
       "      <th>2017-08-05</th>\n",
       "      <td>224731.0</td>\n",
       "      <td>NaN</td>\n",
       "    </tr>\n",
       "  </tbody>\n",
       "</table>\n",
       "</div>"
      ],
      "text/plain": [
       "                 ses  forecast\n",
       "date                          \n",
       "2017-07-08  223347.0       NaN\n",
       "2017-07-15  223347.0       NaN\n",
       "2017-07-22  223371.0       NaN\n",
       "2017-07-29  224520.0       NaN\n",
       "2017-08-05  224731.0       NaN"
      ]
     },
     "execution_count": 81,
     "metadata": {},
     "output_type": "execute_result"
    }
   ],
   "source": [
    "final_fcst_price = test[['ses','forecast']].copy()\n",
    "final_fcst_price.head()"
   ]
  },
  {
   "cell_type": "code",
   "execution_count": 82,
   "metadata": {
    "scrolled": true
   },
   "outputs": [
    {
     "data": {
      "text/html": [
       "<div>\n",
       "<style scoped>\n",
       "    .dataframe tbody tr th:only-of-type {\n",
       "        vertical-align: middle;\n",
       "    }\n",
       "\n",
       "    .dataframe tbody tr th {\n",
       "        vertical-align: top;\n",
       "    }\n",
       "\n",
       "    .dataframe thead th {\n",
       "        text-align: right;\n",
       "    }\n",
       "</style>\n",
       "<table border=\"1\" class=\"dataframe\">\n",
       "  <thead>\n",
       "    <tr style=\"text-align: right;\">\n",
       "      <th></th>\n",
       "      <th>price</th>\n",
       "      <th>ses_price</th>\n",
       "      <th>fcst_price</th>\n",
       "    </tr>\n",
       "    <tr>\n",
       "      <th>date</th>\n",
       "      <th></th>\n",
       "      <th></th>\n",
       "      <th></th>\n",
       "    </tr>\n",
       "  </thead>\n",
       "  <tbody>\n",
       "    <tr>\n",
       "      <th>2008-02-23</th>\n",
       "      <td>259849.0</td>\n",
       "      <td>NaN</td>\n",
       "      <td>NaN</td>\n",
       "    </tr>\n",
       "    <tr>\n",
       "      <th>2008-03-01</th>\n",
       "      <td>260755.0</td>\n",
       "      <td>NaN</td>\n",
       "      <td>NaN</td>\n",
       "    </tr>\n",
       "    <tr>\n",
       "      <th>2008-03-08</th>\n",
       "      <td>258484.0</td>\n",
       "      <td>NaN</td>\n",
       "      <td>NaN</td>\n",
       "    </tr>\n",
       "    <tr>\n",
       "      <th>2008-03-15</th>\n",
       "      <td>257759.0</td>\n",
       "      <td>NaN</td>\n",
       "      <td>NaN</td>\n",
       "    </tr>\n",
       "    <tr>\n",
       "      <th>2008-03-22</th>\n",
       "      <td>254957.0</td>\n",
       "      <td>NaN</td>\n",
       "      <td>NaN</td>\n",
       "    </tr>\n",
       "  </tbody>\n",
       "</table>\n",
       "</div>"
      ],
      "text/plain": [
       "               price  ses_price  fcst_price\n",
       "date                                       \n",
       "2008-02-23  259849.0        NaN         NaN\n",
       "2008-03-01  260755.0        NaN         NaN\n",
       "2008-03-08  258484.0        NaN         NaN\n",
       "2008-03-15  257759.0        NaN         NaN\n",
       "2008-03-22  254957.0        NaN         NaN"
      ]
     },
     "execution_count": 82,
     "metadata": {},
     "output_type": "execute_result"
    }
   ],
   "source": [
    "final_output_price = combine.merge(final_fcst_price, how='outer', on='date')\n",
    "final_output_price = final_output_price.rename(columns={\"ses\": \"ses_price\", \"forecast\": \"fcst_price\"})\n",
    "final_output_price.head()"
   ]
  },
  {
   "cell_type": "code",
   "execution_count": 83,
   "metadata": {},
   "outputs": [
    {
     "data": {
      "text/html": [
       "<div>\n",
       "<style scoped>\n",
       "    .dataframe tbody tr th:only-of-type {\n",
       "        vertical-align: middle;\n",
       "    }\n",
       "\n",
       "    .dataframe tbody tr th {\n",
       "        vertical-align: top;\n",
       "    }\n",
       "\n",
       "    .dataframe thead th {\n",
       "        text-align: right;\n",
       "    }\n",
       "</style>\n",
       "<table border=\"1\" class=\"dataframe\">\n",
       "  <thead>\n",
       "    <tr style=\"text-align: right;\">\n",
       "      <th></th>\n",
       "      <th>inventory</th>\n",
       "      <th>ses_inventory</th>\n",
       "      <th>fcst_inventory</th>\n",
       "      <th>price</th>\n",
       "      <th>ses_price</th>\n",
       "      <th>fcst_price</th>\n",
       "    </tr>\n",
       "    <tr>\n",
       "      <th>date</th>\n",
       "      <th></th>\n",
       "      <th></th>\n",
       "      <th></th>\n",
       "      <th></th>\n",
       "      <th></th>\n",
       "      <th></th>\n",
       "    </tr>\n",
       "  </thead>\n",
       "  <tbody>\n",
       "    <tr>\n",
       "      <th>2017-10-28</th>\n",
       "      <td>38027.0</td>\n",
       "      <td>NaN</td>\n",
       "      <td>NaN</td>\n",
       "      <td>225365.0</td>\n",
       "      <td>225755.0</td>\n",
       "      <td>NaN</td>\n",
       "    </tr>\n",
       "    <tr>\n",
       "      <th>2017-11-04</th>\n",
       "      <td>37590.0</td>\n",
       "      <td>NaN</td>\n",
       "      <td>NaN</td>\n",
       "      <td>225209.0</td>\n",
       "      <td>225365.0</td>\n",
       "      <td>NaN</td>\n",
       "    </tr>\n",
       "    <tr>\n",
       "      <th>2017-11-11</th>\n",
       "      <td>36926.0</td>\n",
       "      <td>NaN</td>\n",
       "      <td>NaN</td>\n",
       "      <td>225804.0</td>\n",
       "      <td>225209.0</td>\n",
       "      <td>NaN</td>\n",
       "    </tr>\n",
       "    <tr>\n",
       "      <th>2017-11-18</th>\n",
       "      <td>36131.0</td>\n",
       "      <td>NaN</td>\n",
       "      <td>NaN</td>\n",
       "      <td>226333.0</td>\n",
       "      <td>225804.0</td>\n",
       "      <td>NaN</td>\n",
       "    </tr>\n",
       "    <tr>\n",
       "      <th>2017-11-25</th>\n",
       "      <td>35079.0</td>\n",
       "      <td>NaN</td>\n",
       "      <td>NaN</td>\n",
       "      <td>225490.0</td>\n",
       "      <td>226333.0</td>\n",
       "      <td>NaN</td>\n",
       "    </tr>\n",
       "  </tbody>\n",
       "</table>\n",
       "</div>"
      ],
      "text/plain": [
       "            inventory  ses_inventory  fcst_inventory     price  ses_price  \\\n",
       "date                                                                        \n",
       "2017-10-28    38027.0            NaN             NaN  225365.0   225755.0   \n",
       "2017-11-04    37590.0            NaN             NaN  225209.0   225365.0   \n",
       "2017-11-11    36926.0            NaN             NaN  225804.0   225209.0   \n",
       "2017-11-18    36131.0            NaN             NaN  226333.0   225804.0   \n",
       "2017-11-25    35079.0            NaN             NaN  225490.0   226333.0   \n",
       "\n",
       "            fcst_price  \n",
       "date                    \n",
       "2017-10-28         NaN  \n",
       "2017-11-04         NaN  \n",
       "2017-11-11         NaN  \n",
       "2017-11-18         NaN  \n",
       "2017-11-25         NaN  "
      ]
     },
     "execution_count": 83,
     "metadata": {},
     "output_type": "execute_result"
    }
   ],
   "source": [
    "final_output = final_output_inventory.merge(final_output_price, how='outer', on='date')\n",
    "final_output.head()"
   ]
  },
  {
   "cell_type": "code",
   "execution_count": 84,
   "metadata": {},
   "outputs": [],
   "source": [
    "final_output.to_csv(r'static\\data\\chi.csv', index = True)"
   ]
  },
  {
   "cell_type": "code",
   "execution_count": null,
   "metadata": {},
   "outputs": [],
   "source": []
  }
 ],
 "metadata": {
  "kernelspec": {
   "display_name": "Python 3",
   "language": "python",
   "name": "python3"
  },
  "language_info": {
   "codemirror_mode": {
    "name": "ipython",
    "version": 3
   },
   "file_extension": ".py",
   "mimetype": "text/x-python",
   "name": "python",
   "nbconvert_exporter": "python",
   "pygments_lexer": "ipython3",
   "version": "3.7.6"
  }
 },
 "nbformat": 4,
 "nbformat_minor": 4
}
